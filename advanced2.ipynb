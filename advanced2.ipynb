{
 "cells": [
  {
   "cell_type": "code",
   "execution_count": 26,
   "metadata": {
    "vscode": {
     "languageId": "r"
    }
   },
   "outputs": [],
   "source": [
    "df = read.csv('csv/factor_analysis.csv')[,2:6]"
   ]
  },
  {
   "cell_type": "code",
   "execution_count": 27,
   "metadata": {
    "vscode": {
     "languageId": "r"
    }
   },
   "outputs": [
    {
     "data": {
      "text/html": [
       "<table class=\"dataframe\">\n",
       "<caption>A data.frame: 25 × 5</caption>\n",
       "<thead>\n",
       "\t<tr><th scope=col>청결상태</th><th scope=col>음식량</th><th scope=col>대기시간</th><th scope=col>음식맛</th><th scope=col>친절도</th></tr>\n",
       "\t<tr><th scope=col>&lt;int&gt;</th><th scope=col>&lt;int&gt;</th><th scope=col>&lt;int&gt;</th><th scope=col>&lt;int&gt;</th><th scope=col>&lt;int&gt;</th></tr>\n",
       "</thead>\n",
       "<tbody>\n",
       "\t<tr><td>6</td><td>4</td><td>7</td><td>6</td><td>5</td></tr>\n",
       "\t<tr><td>5</td><td>7</td><td>5</td><td>6</td><td>6</td></tr>\n",
       "\t<tr><td>5</td><td>3</td><td>4</td><td>5</td><td>6</td></tr>\n",
       "\t<tr><td>3</td><td>3</td><td>2</td><td>3</td><td>4</td></tr>\n",
       "\t<tr><td>4</td><td>3</td><td>3</td><td>3</td><td>2</td></tr>\n",
       "\t<tr><td>2</td><td>6</td><td>2</td><td>4</td><td>3</td></tr>\n",
       "\t<tr><td>1</td><td>3</td><td>3</td><td>3</td><td>2</td></tr>\n",
       "\t<tr><td>3</td><td>5</td><td>3</td><td>4</td><td>2</td></tr>\n",
       "\t<tr><td>7</td><td>3</td><td>6</td><td>5</td><td>5</td></tr>\n",
       "\t<tr><td>6</td><td>4</td><td>3</td><td>4</td><td>4</td></tr>\n",
       "\t<tr><td>6</td><td>6</td><td>3</td><td>6</td><td>4</td></tr>\n",
       "\t<tr><td>3</td><td>2</td><td>2</td><td>4</td><td>2</td></tr>\n",
       "\t<tr><td>5</td><td>7</td><td>2</td><td>5</td><td>2</td></tr>\n",
       "\t<tr><td>6</td><td>3</td><td>6</td><td>5</td><td>7</td></tr>\n",
       "\t<tr><td>3</td><td>4</td><td>5</td><td>3</td><td>2</td></tr>\n",
       "\t<tr><td>2</td><td>7</td><td>5</td><td>5</td><td>4</td></tr>\n",
       "\t<tr><td>3</td><td>5</td><td>2</td><td>7</td><td>2</td></tr>\n",
       "\t<tr><td>6</td><td>4</td><td>5</td><td>5</td><td>7</td></tr>\n",
       "\t<tr><td>7</td><td>4</td><td>6</td><td>3</td><td>5</td></tr>\n",
       "\t<tr><td>5</td><td>6</td><td>6</td><td>3</td><td>4</td></tr>\n",
       "\t<tr><td>2</td><td>3</td><td>3</td><td>4</td><td>3</td></tr>\n",
       "\t<tr><td>3</td><td>4</td><td>2</td><td>3</td><td>4</td></tr>\n",
       "\t<tr><td>3</td><td>6</td><td>3</td><td>5</td><td>3</td></tr>\n",
       "\t<tr><td>6</td><td>5</td><td>7</td><td>5</td><td>5</td></tr>\n",
       "\t<tr><td>7</td><td>6</td><td>5</td><td>4</td><td>6</td></tr>\n",
       "</tbody>\n",
       "</table>\n"
      ],
      "text/latex": [
       "A data.frame: 25 × 5\n",
       "\\begin{tabular}{lllll}\n",
       " 청결상태 & 음식량 & 대기시간 & 음식맛 & 친절도\\\\\n",
       " <int> & <int> & <int> & <int> & <int>\\\\\n",
       "\\hline\n",
       "\t 6 & 4 & 7 & 6 & 5\\\\\n",
       "\t 5 & 7 & 5 & 6 & 6\\\\\n",
       "\t 5 & 3 & 4 & 5 & 6\\\\\n",
       "\t 3 & 3 & 2 & 3 & 4\\\\\n",
       "\t 4 & 3 & 3 & 3 & 2\\\\\n",
       "\t 2 & 6 & 2 & 4 & 3\\\\\n",
       "\t 1 & 3 & 3 & 3 & 2\\\\\n",
       "\t 3 & 5 & 3 & 4 & 2\\\\\n",
       "\t 7 & 3 & 6 & 5 & 5\\\\\n",
       "\t 6 & 4 & 3 & 4 & 4\\\\\n",
       "\t 6 & 6 & 3 & 6 & 4\\\\\n",
       "\t 3 & 2 & 2 & 4 & 2\\\\\n",
       "\t 5 & 7 & 2 & 5 & 2\\\\\n",
       "\t 6 & 3 & 6 & 5 & 7\\\\\n",
       "\t 3 & 4 & 5 & 3 & 2\\\\\n",
       "\t 2 & 7 & 5 & 5 & 4\\\\\n",
       "\t 3 & 5 & 2 & 7 & 2\\\\\n",
       "\t 6 & 4 & 5 & 5 & 7\\\\\n",
       "\t 7 & 4 & 6 & 3 & 5\\\\\n",
       "\t 5 & 6 & 6 & 3 & 4\\\\\n",
       "\t 2 & 3 & 3 & 4 & 3\\\\\n",
       "\t 3 & 4 & 2 & 3 & 4\\\\\n",
       "\t 3 & 6 & 3 & 5 & 3\\\\\n",
       "\t 6 & 5 & 7 & 5 & 5\\\\\n",
       "\t 7 & 6 & 5 & 4 & 6\\\\\n",
       "\\end{tabular}\n"
      ],
      "text/markdown": [
       "\n",
       "A data.frame: 25 × 5\n",
       "\n",
       "| 청결상태 &lt;int&gt; | 음식량 &lt;int&gt; | 대기시간 &lt;int&gt; | 음식맛 &lt;int&gt; | 친절도 &lt;int&gt; |\n",
       "|---|---|---|---|---|\n",
       "| 6 | 4 | 7 | 6 | 5 |\n",
       "| 5 | 7 | 5 | 6 | 6 |\n",
       "| 5 | 3 | 4 | 5 | 6 |\n",
       "| 3 | 3 | 2 | 3 | 4 |\n",
       "| 4 | 3 | 3 | 3 | 2 |\n",
       "| 2 | 6 | 2 | 4 | 3 |\n",
       "| 1 | 3 | 3 | 3 | 2 |\n",
       "| 3 | 5 | 3 | 4 | 2 |\n",
       "| 7 | 3 | 6 | 5 | 5 |\n",
       "| 6 | 4 | 3 | 4 | 4 |\n",
       "| 6 | 6 | 3 | 6 | 4 |\n",
       "| 3 | 2 | 2 | 4 | 2 |\n",
       "| 5 | 7 | 2 | 5 | 2 |\n",
       "| 6 | 3 | 6 | 5 | 7 |\n",
       "| 3 | 4 | 5 | 3 | 2 |\n",
       "| 2 | 7 | 5 | 5 | 4 |\n",
       "| 3 | 5 | 2 | 7 | 2 |\n",
       "| 6 | 4 | 5 | 5 | 7 |\n",
       "| 7 | 4 | 6 | 3 | 5 |\n",
       "| 5 | 6 | 6 | 3 | 4 |\n",
       "| 2 | 3 | 3 | 4 | 3 |\n",
       "| 3 | 4 | 2 | 3 | 4 |\n",
       "| 3 | 6 | 3 | 5 | 3 |\n",
       "| 6 | 5 | 7 | 5 | 5 |\n",
       "| 7 | 6 | 5 | 4 | 6 |\n",
       "\n"
      ],
      "text/plain": [
       "   청결상태 음식량 대기시간 음식맛 친절도\n",
       "1  6        4      7        6      5     \n",
       "2  5        7      5        6      6     \n",
       "3  5        3      4        5      6     \n",
       "4  3        3      2        3      4     \n",
       "5  4        3      3        3      2     \n",
       "6  2        6      2        4      3     \n",
       "7  1        3      3        3      2     \n",
       "8  3        5      3        4      2     \n",
       "9  7        3      6        5      5     \n",
       "10 6        4      3        4      4     \n",
       "11 6        6      3        6      4     \n",
       "12 3        2      2        4      2     \n",
       "13 5        7      2        5      2     \n",
       "14 6        3      6        5      7     \n",
       "15 3        4      5        3      2     \n",
       "16 2        7      5        5      4     \n",
       "17 3        5      2        7      2     \n",
       "18 6        4      5        5      7     \n",
       "19 7        4      6        3      5     \n",
       "20 5        6      6        3      4     \n",
       "21 2        3      3        4      3     \n",
       "22 3        4      2        3      4     \n",
       "23 3        6      3        5      3     \n",
       "24 6        5      7        5      5     \n",
       "25 7        6      5        4      6     "
      ]
     },
     "metadata": {},
     "output_type": "display_data"
    }
   ],
   "source": [
    "df"
   ]
  },
  {
   "cell_type": "code",
   "execution_count": 81,
   "metadata": {
    "vscode": {
     "languageId": "r"
    }
   },
   "outputs": [
    {
     "name": "stdout",
     "output_type": "stream",
     "text": [
      "'data.frame':\t25 obs. of  5 variables:\n",
      " $ 청결상태: int  6 5 5 3 4 2 1 3 7 6 ...\n",
      " $ 음식량  : int  4 7 3 3 3 6 3 5 3 4 ...\n",
      " $ 대기시간: int  7 5 4 2 3 2 3 3 6 3 ...\n",
      " $ 음식맛  : int  6 6 5 3 3 4 3 4 5 4 ...\n",
      " $ 친절도  : int  5 6 6 4 2 3 2 2 5 4 ...\n"
     ]
    }
   ],
   "source": [
    "str(df)"
   ]
  },
  {
   "cell_type": "code",
   "execution_count": 28,
   "metadata": {
    "vscode": {
     "languageId": "r"
    }
   },
   "outputs": [
    {
     "data": {
      "text/html": [
       "<table class=\"dataframe\">\n",
       "<caption>A matrix: 5 × 5 of type dbl</caption>\n",
       "<thead>\n",
       "\t<tr><th></th><th scope=col>청결상태</th><th scope=col>음식량</th><th scope=col>대기시간</th><th scope=col>음식맛</th><th scope=col>친절도</th></tr>\n",
       "</thead>\n",
       "<tbody>\n",
       "\t<tr><th scope=row>청결상태</th><td>1.00000000</td><td>0.050476086</td><td>0.61562499</td><td>0.2652389</td><td>0.685740138</td></tr>\n",
       "\t<tr><th scope=row>음식량</th><td>0.05047609</td><td>1.000000000</td><td>0.04868693</td><td>0.3552441</td><td>0.008760331</td></tr>\n",
       "\t<tr><th scope=row>대기시간</th><td>0.61562499</td><td>0.048686930</td><td>1.00000000</td><td>0.1479020</td><td>0.637670649</td></tr>\n",
       "\t<tr><th scope=row>음식맛</th><td>0.26523891</td><td>0.355244110</td><td>0.14790199</td><td>1.0000000</td><td>0.271971682</td></tr>\n",
       "\t<tr><th scope=row>친절도</th><td>0.68574014</td><td>0.008760331</td><td>0.63767065</td><td>0.2719717</td><td>1.000000000</td></tr>\n",
       "</tbody>\n",
       "</table>\n"
      ],
      "text/latex": [
       "A matrix: 5 × 5 of type dbl\n",
       "\\begin{tabular}{r|lllll}\n",
       "  & 청결상태 & 음식량 & 대기시간 & 음식맛 & 친절도\\\\\n",
       "\\hline\n",
       "\t청결상태 & 1.00000000 & 0.050476086 & 0.61562499 & 0.2652389 & 0.685740138\\\\\n",
       "\t음식량 & 0.05047609 & 1.000000000 & 0.04868693 & 0.3552441 & 0.008760331\\\\\n",
       "\t대기시간 & 0.61562499 & 0.048686930 & 1.00000000 & 0.1479020 & 0.637670649\\\\\n",
       "\t음식맛 & 0.26523891 & 0.355244110 & 0.14790199 & 1.0000000 & 0.271971682\\\\\n",
       "\t친절도 & 0.68574014 & 0.008760331 & 0.63767065 & 0.2719717 & 1.000000000\\\\\n",
       "\\end{tabular}\n"
      ],
      "text/markdown": [
       "\n",
       "A matrix: 5 × 5 of type dbl\n",
       "\n",
       "| <!--/--> | 청결상태 | 음식량 | 대기시간 | 음식맛 | 친절도 |\n",
       "|---|---|---|---|---|---|\n",
       "| 청결상태 | 1.00000000 | 0.050476086 | 0.61562499 | 0.2652389 | 0.685740138 |\n",
       "| 음식량 | 0.05047609 | 1.000000000 | 0.04868693 | 0.3552441 | 0.008760331 |\n",
       "| 대기시간 | 0.61562499 | 0.048686930 | 1.00000000 | 0.1479020 | 0.637670649 |\n",
       "| 음식맛 | 0.26523891 | 0.355244110 | 0.14790199 | 1.0000000 | 0.271971682 |\n",
       "| 친절도 | 0.68574014 | 0.008760331 | 0.63767065 | 0.2719717 | 1.000000000 |\n",
       "\n"
      ],
      "text/plain": [
       "         청결상태   음식량      대기시간   음식맛    친절도     \n",
       "청결상태 1.00000000 0.050476086 0.61562499 0.2652389 0.685740138\n",
       "음식량   0.05047609 1.000000000 0.04868693 0.3552441 0.008760331\n",
       "대기시간 0.61562499 0.048686930 1.00000000 0.1479020 0.637670649\n",
       "음식맛   0.26523891 0.355244110 0.14790199 1.0000000 0.271971682\n",
       "친절도   0.68574014 0.008760331 0.63767065 0.2719717 1.000000000"
      ]
     },
     "metadata": {},
     "output_type": "display_data"
    }
   ],
   "source": [
    "cor(df)"
   ]
  },
  {
   "cell_type": "code",
   "execution_count": 29,
   "metadata": {
    "vscode": {
     "languageId": "r"
    }
   },
   "outputs": [],
   "source": [
    "# library(ltm)"
   ]
  },
  {
   "cell_type": "code",
   "execution_count": 30,
   "metadata": {
    "vscode": {
     "languageId": "r"
    }
   },
   "outputs": [],
   "source": [
    "library(psych)"
   ]
  },
  {
   "cell_type": "code",
   "execution_count": 121,
   "metadata": {
    "vscode": {
     "languageId": "r"
    }
   },
   "outputs": [],
   "source": [
    "pca <- principal(df,nfactors=2,rotate=\"none\") #"
   ]
  },
  {
   "cell_type": "code",
   "execution_count": 122,
   "metadata": {
    "vscode": {
     "languageId": "r"
    }
   },
   "outputs": [
    {
     "data": {
      "text/html": [
       "<style>\n",
       ".dl-inline {width: auto; margin:0; padding: 0}\n",
       ".dl-inline>dt, .dl-inline>dd {float: none; width: auto; display: inline-block}\n",
       ".dl-inline>dt::after {content: \":\\0020\"; padding-right: .5ex}\n",
       ".dl-inline>dt:not(:first-of-type) {padding-left: .5ex}\n",
       "</style><dl class=dl-inline><dt>청결상태</dt><dd>0.769923543562867</dd><dt>음식량</dt><dd>0.73465122740592</dd><dt>대기시간</dt><dd>0.720621493679974</dd><dt>음식맛</dt><dd>0.669438201126825</dd><dt>친절도</dt><dd>0.793065683143675</dd></dl>\n"
      ],
      "text/latex": [
       "\\begin{description*}\n",
       "\\item[청결상태] 0.769923543562867\n",
       "\\item[음식량] 0.73465122740592\n",
       "\\item[대기시간] 0.720621493679974\n",
       "\\item[음식맛] 0.669438201126825\n",
       "\\item[친절도] 0.793065683143675\n",
       "\\end{description*}\n"
      ],
      "text/markdown": [
       "청결상태\n",
       ":   0.769923543562867음식량\n",
       ":   0.73465122740592대기시간\n",
       ":   0.720621493679974음식맛\n",
       ":   0.669438201126825친절도\n",
       ":   0.793065683143675\n",
       "\n"
      ],
      "text/plain": [
       " 청결상태    음식량  대기시간    음식맛    친절도 \n",
       "0.7699235 0.7346512 0.7206215 0.6694382 0.7930657 "
      ]
     },
     "metadata": {},
     "output_type": "display_data"
    }
   ],
   "source": [
    "pca$communality"
   ]
  },
  {
   "cell_type": "code",
   "execution_count": 123,
   "metadata": {
    "vscode": {
     "languageId": "r"
    }
   },
   "outputs": [
    {
     "name": "stdout",
     "output_type": "stream",
     "text": [
      "List of 30\n",
      " $ values      : num [1:5] 2.424 1.264 0.635 0.37 0.307\n",
      " $ rotation    : chr \"none\"\n",
      " $ n.obs       : int 25\n",
      " $ communality : Named num [1:5] 0.77 0.735 0.721 0.669 0.793\n",
      "  ..- attr(*, \"names\")= chr [1:5] \"청결상태\" \"음식량\" \"대기시간\" \"음식맛\" ...\n",
      " $ loadings    : 'loadings' num [1:5, 1:2] 0.866 0.178 0.819 0.458 0.873 ...\n",
      "  ..- attr(*, \"dimnames\")=List of 2\n",
      "  .. ..$ : chr [1:5] \"청결상태\" \"음식량\" \"대기시간\" \"음식맛\" ...\n",
      "  .. ..$ : chr [1:2] \"PC1\" \"PC2\"\n",
      " $ fit         : num 0.922\n",
      " $ fit.off     : num 0.909\n",
      " $ fn          : chr \"principal\"\n",
      " $ Call        : language principal(r = df, nfactors = 2, rotate = \"none\")\n",
      " $ uniquenesses: Named num [1:5] 0.23 0.265 0.279 0.331 0.207\n",
      "  ..- attr(*, \"names\")= chr [1:5] \"청결상태\" \"음식량\" \"대기시간\" \"음식맛\" ...\n",
      " $ complexity  : Named num [1:5] 1.05 1.09 1.15 1.75 1.08\n",
      "  ..- attr(*, \"names\")= chr [1:5] \"청결상태\" \"음식량\" \"대기시간\" \"음식맛\" ...\n",
      " $ valid       : num [1:2] 0.975 0.921\n",
      " $ chi         : num 7.03\n",
      " $ EPVAL       : num 0.00801\n",
      " $ R2          : Named num [1:2] 1 1\n",
      "  ..- attr(*, \"names\")= chr [1:2] \"PC1\" \"PC2\"\n",
      " $ objective   : num 0.541\n",
      " $ residual    : num [1:5, 1:5] 0.2301 0.014 -0.1251 -0.0357 -0.095 ...\n",
      "  ..- attr(*, \"dimnames\")=List of 2\n",
      "  .. ..$ : chr [1:5] \"청결상태\" \"음식량\" \"대기시간\" \"음식맛\" ...\n",
      "  .. ..$ : chr [1:5] \"청결상태\" \"음식량\" \"대기시간\" \"음식맛\" ...\n",
      " $ rms         : num 0.119\n",
      " $ factors     : int 2\n",
      " $ dof         : num 1\n",
      " $ null.dof    : num 10\n",
      " $ null.model  : num 1.51\n",
      " $ criteria    : Named num [1:3] 0.541 NA NA\n",
      "  ..- attr(*, \"names\")= chr [1:3] \"objective\" \"\" \"\"\n",
      " $ STATISTIC   : num 10.9\n",
      " $ PVAL        : num 0.000952\n",
      " $ weights     : num [1:5, 1:2] 0.3574 0.0736 0.3379 0.1888 0.36 ...\n",
      "  ..- attr(*, \"dimnames\")=List of 2\n",
      "  .. ..$ : chr [1:5] \"청결상태\" \"음식량\" \"대기시간\" \"음식맛\" ...\n",
      "  .. ..$ : chr [1:2] \"PC1\" \"PC2\"\n",
      " $ r.scores    : num [1:2, 1:2] 1.00 3.19e-16 2.91e-16 1.00\n",
      "  ..- attr(*, \"dimnames\")=List of 2\n",
      "  .. ..$ : chr [1:2] \"PC1\" \"PC2\"\n",
      "  .. ..$ : chr [1:2] \"PC1\" \"PC2\"\n",
      " $ Vaccounted  : num [1:5, 1:2] 2.424 0.485 0.485 0.657 0.657 ...\n",
      "  ..- attr(*, \"dimnames\")=List of 2\n",
      "  .. ..$ : chr [1:5] \"SS loadings\" \"Proportion Var\" \"Cumulative Var\" \"Proportion Explained\" ...\n",
      "  .. ..$ : chr [1:2] \"PC1\" \"PC2\"\n",
      " $ Structure   : 'loadings' num [1:5, 1:2] 0.866 0.178 0.819 0.458 0.873 ...\n",
      "  ..- attr(*, \"dimnames\")=List of 2\n",
      "  .. ..$ : chr [1:5] \"청결상태\" \"음식량\" \"대기시간\" \"음식맛\" ...\n",
      "  .. ..$ : chr [1:2] \"PC1\" \"PC2\"\n",
      " $ scores      : num [1:25, 1:2] 1.379 1.153 0.596 -0.957 -1.001 ...\n",
      "  ..- attr(*, \"dimnames\")=List of 2\n",
      "  .. ..$ : NULL\n",
      "  .. ..$ : chr [1:2] \"PC1\" \"PC2\"\n",
      " - attr(*, \"class\")= chr [1:2] \"psych\" \"principal\"\n"
     ]
    }
   ],
   "source": [
    "str(pca)"
   ]
  },
  {
   "cell_type": "code",
   "execution_count": 124,
   "metadata": {
    "vscode": {
     "languageId": "r"
    }
   },
   "outputs": [
    {
     "data": {
      "text/plain": [
       "Principal Components Analysis\n",
       "Call: principal(r = df, nfactors = 2, rotate = \"none\")\n",
       "Standardized loadings (pattern matrix) based upon correlation matrix\n",
       "          PC1   PC2   h2   u2 com\n",
       "청결상태 0.87 -0.14 0.77 0.23 1.1\n",
       "음식량   0.18  0.84 0.73 0.27 1.1\n",
       "대기시간 0.82 -0.22 0.72 0.28 1.1\n",
       "음식맛   0.46  0.68 0.67 0.33 1.8\n",
       "친절도   0.87 -0.18 0.79 0.21 1.1\n",
       "\n",
       "                       PC1  PC2\n",
       "SS loadings           2.42 1.26\n",
       "Proportion Var        0.48 0.25\n",
       "Cumulative Var        0.48 0.74\n",
       "Proportion Explained  0.66 0.34\n",
       "Cumulative Proportion 0.66 1.00\n",
       "\n",
       "Mean item complexity =  1.2\n",
       "Test of the hypothesis that 2 components are sufficient.\n",
       "\n",
       "The root mean square of the residuals (RMSR) is  0.12 \n",
       " with the empirical chi square  7.03  with prob <  0.008 \n",
       "\n",
       "Fit based upon off diagonal values = 0.91"
      ]
     },
     "metadata": {},
     "output_type": "display_data"
    }
   ],
   "source": [
    "pca"
   ]
  },
  {
   "cell_type": "code",
   "execution_count": 114,
   "metadata": {
    "vscode": {
     "languageId": "r"
    }
   },
   "outputs": [
    {
     "data": {
      "text/plain": [
       "\n",
       "Loadings:\n",
       "         PC1    PC2   \n",
       "청결상태  0.866 -0.141\n",
       "음식량    0.178  0.838\n",
       "대기시간  0.819 -0.223\n",
       "음식맛    0.458  0.678\n",
       "친절도    0.873 -0.178\n",
       "\n",
       "                 PC1   PC2\n",
       "SS loadings    2.424 1.264\n",
       "Proportion Var 0.485 0.253\n",
       "Cumulative Var 0.485 0.738"
      ]
     },
     "metadata": {},
     "output_type": "display_data"
    }
   ],
   "source": [
    "pca$loadings"
   ]
  },
  {
   "cell_type": "code",
   "execution_count": null,
   "metadata": {
    "vscode": {
     "languageId": "r"
    }
   },
   "outputs": [],
   "source": []
  },
  {
   "cell_type": "code",
   "execution_count": 83,
   "metadata": {
    "vscode": {
     "languageId": "r"
    }
   },
   "outputs": [],
   "source": [
    "pca <- principal(df,nfactors=2,rotate=\"varimax\") #"
   ]
  },
  {
   "cell_type": "code",
   "execution_count": 84,
   "metadata": {
    "vscode": {
     "languageId": "r"
    }
   },
   "outputs": [
    {
     "data": {
      "text/html": [
       "<style>\n",
       ".dl-inline {width: auto; margin:0; padding: 0}\n",
       ".dl-inline>dt, .dl-inline>dd {float: none; width: auto; display: inline-block}\n",
       ".dl-inline>dt::after {content: \":\\0020\"; padding-right: .5ex}\n",
       ".dl-inline>dt:not(:first-of-type) {padding-left: .5ex}\n",
       "</style><dl class=dl-inline><dt>청결상태</dt><dd>0.769923543562867</dd><dt>음식량</dt><dd>0.73465122740592</dd><dt>대기시간</dt><dd>0.720621493679974</dd><dt>음식맛</dt><dd>0.669438201126825</dd><dt>친절도</dt><dd>0.793065683143675</dd></dl>\n"
      ],
      "text/latex": [
       "\\begin{description*}\n",
       "\\item[청결상태] 0.769923543562867\n",
       "\\item[음식량] 0.73465122740592\n",
       "\\item[대기시간] 0.720621493679974\n",
       "\\item[음식맛] 0.669438201126825\n",
       "\\item[친절도] 0.793065683143675\n",
       "\\end{description*}\n"
      ],
      "text/markdown": [
       "청결상태\n",
       ":   0.769923543562867음식량\n",
       ":   0.73465122740592대기시간\n",
       ":   0.720621493679974음식맛\n",
       ":   0.669438201126825친절도\n",
       ":   0.793065683143675\n",
       "\n"
      ],
      "text/plain": [
       " 청결상태    음식량  대기시간    음식맛    친절도 \n",
       "0.7699235 0.7346512 0.7206215 0.6694382 0.7930657 "
      ]
     },
     "metadata": {},
     "output_type": "display_data"
    }
   ],
   "source": [
    "pca$communality"
   ]
  },
  {
   "cell_type": "code",
   "execution_count": 85,
   "metadata": {
    "vscode": {
     "languageId": "r"
    }
   },
   "outputs": [
    {
     "name": "stdout",
     "output_type": "stream",
     "text": [
      "List of 31\n",
      " $ values      : num [1:5] 2.424 1.264 0.635 0.37 0.307\n",
      " $ rotation    : chr \"varimax\"\n",
      " $ n.obs       : int 25\n",
      " $ communality : Named num [1:5] 0.77 0.735 0.721 0.669 0.793\n",
      "  ..- attr(*, \"names\")= chr [1:5] \"청결상태\" \"음식량\" \"대기시간\" \"음식맛\" ...\n",
      " $ loadings    : 'loadings' num [1:5, 1:2] 0.8692 -0.0763 0.8484 0.2378 0.8863 ...\n",
      "  ..- attr(*, \"dimnames\")=List of 2\n",
      "  .. ..$ : chr [1:5] \"청결상태\" \"음식량\" \"대기시간\" \"음식맛\" ...\n",
      "  .. ..$ : chr [1:2] \"RC1\" \"RC2\"\n",
      " $ fit         : num 0.922\n",
      " $ fit.off     : num 0.909\n",
      " $ fn          : chr \"principal\"\n",
      " $ Call        : language principal(r = df, nfactors = 2, rotate = \"varimax\")\n",
      " $ uniquenesses: Named num [1:5] 0.23 0.265 0.279 0.331 0.207\n",
      "  ..- attr(*, \"names\")= chr [1:5] \"청결상태\" \"음식량\" \"대기시간\" \"음식맛\" ...\n",
      " $ complexity  : Named num [1:5] 1.04 1.02 1 1.18 1.02\n",
      "  ..- attr(*, \"names\")= chr [1:5] \"청결상태\" \"음식량\" \"대기시간\" \"음식맛\" ...\n",
      " $ valid       : num [1:2] 0.993 0.994\n",
      " $ chi         : num 7.03\n",
      " $ EPVAL       : num 0.00801\n",
      " $ R2          : Named num [1:2] 1 1\n",
      "  ..- attr(*, \"names\")= chr [1:2] \"RC1\" \"RC2\"\n",
      " $ objective   : num 0.541\n",
      " $ residual    : num [1:5, 1:5] 0.2301 0.014 -0.1251 -0.0357 -0.095 ...\n",
      "  ..- attr(*, \"dimnames\")=List of 2\n",
      "  .. ..$ : chr [1:5] \"청결상태\" \"음식량\" \"대기시간\" \"음식맛\" ...\n",
      "  .. ..$ : chr [1:5] \"청결상태\" \"음식량\" \"대기시간\" \"음식맛\" ...\n",
      " $ rms         : num 0.119\n",
      " $ factors     : int 2\n",
      " $ dof         : num 1\n",
      " $ null.dof    : num 10\n",
      " $ null.model  : num 1.51\n",
      " $ criteria    : Named num [1:3] 0.541 NA NA\n",
      "  ..- attr(*, \"names\")= chr [1:3] \"objective\" \"\" \"\"\n",
      " $ STATISTIC   : num 10.9\n",
      " $ PVAL        : num 0.000952\n",
      " $ weights     : num [1:5, 1:2] 0.3743 -0.1248 0.3749 0.0226 0.3855 ...\n",
      "  ..- attr(*, \"dimnames\")=List of 2\n",
      "  .. ..$ : chr [1:5] \"청결상태\" \"음식량\" \"대기시간\" \"음식맛\" ...\n",
      "  .. ..$ : chr [1:2] \"RC1\" \"RC2\"\n",
      " $ r.scores    : num [1:2, 1:2] 1.00 4.23e-16 4.41e-16 1.00\n",
      "  ..- attr(*, \"dimnames\")=List of 2\n",
      "  .. ..$ : chr [1:2] \"RC1\" \"RC2\"\n",
      "  .. ..$ : chr [1:2] \"RC1\" \"RC2\"\n",
      " $ rot.mat     : num [1:2, 1:2] 0.956 -0.294 0.294 0.956\n",
      " $ Vaccounted  : num [1:5, 1:2] 2.323 0.465 0.465 0.63 0.63 ...\n",
      "  ..- attr(*, \"dimnames\")=List of 2\n",
      "  .. ..$ : chr [1:5] \"SS loadings\" \"Proportion Var\" \"Cumulative Var\" \"Proportion Explained\" ...\n",
      "  .. ..$ : chr [1:2] \"RC1\" \"RC2\"\n",
      " $ Structure   : 'loadings' num [1:5, 1:2] 0.8692 -0.0763 0.8484 0.2378 0.8863 ...\n",
      "  ..- attr(*, \"dimnames\")=List of 2\n",
      "  .. ..$ : chr [1:5] \"청결상태\" \"음식량\" \"대기시간\" \"음식맛\" ...\n",
      "  .. ..$ : chr [1:2] \"RC1\" \"RC2\"\n",
      " $ scores      : num [1:25, 1:2] 1.314 0.654 0.747 -0.61 -0.654 ...\n",
      "  ..- attr(*, \"dimnames\")=List of 2\n",
      "  .. ..$ : NULL\n",
      "  .. ..$ : chr [1:2] \"RC1\" \"RC2\"\n",
      " - attr(*, \"class\")= chr [1:2] \"psych\" \"principal\"\n"
     ]
    }
   ],
   "source": [
    "str(pca)"
   ]
  },
  {
   "cell_type": "code",
   "execution_count": 86,
   "metadata": {
    "vscode": {
     "languageId": "r"
    }
   },
   "outputs": [
    {
     "data": {
      "text/plain": [
       "Principal Components Analysis\n",
       "Call: principal(r = df, nfactors = 2, rotate = \"varimax\")\n",
       "Standardized loadings (pattern matrix) based upon correlation matrix\n",
       "           RC1  RC2   h2   u2 com\n",
       "청결상태  0.87 0.12 0.77 0.23 1.0\n",
       "음식량   -0.08 0.85 0.73 0.27 1.0\n",
       "대기시간  0.85 0.03 0.72 0.28 1.0\n",
       "음식맛    0.24 0.78 0.67 0.33 1.2\n",
       "친절도    0.89 0.09 0.79 0.21 1.0\n",
       "\n",
       "                       RC1  RC2\n",
       "SS loadings           2.32 1.36\n",
       "Proportion Var        0.46 0.27\n",
       "Cumulative Var        0.46 0.74\n",
       "Proportion Explained  0.63 0.37\n",
       "Cumulative Proportion 0.63 1.00\n",
       "\n",
       "Mean item complexity =  1.1\n",
       "Test of the hypothesis that 2 components are sufficient.\n",
       "\n",
       "The root mean square of the residuals (RMSR) is  0.12 \n",
       " with the empirical chi square  7.03  with prob <  0.008 \n",
       "\n",
       "Fit based upon off diagonal values = 0.91"
      ]
     },
     "metadata": {},
     "output_type": "display_data"
    }
   ],
   "source": [
    "pca"
   ]
  },
  {
   "cell_type": "code",
   "execution_count": 87,
   "metadata": {
    "vscode": {
     "languageId": "r"
    }
   },
   "outputs": [
    {
     "data": {
      "text/plain": [
       "\n",
       "Loadings:\n",
       "         RC1    RC2   \n",
       "청결상태  0.869  0.120\n",
       "음식량           0.854\n",
       "대기시간  0.848       \n",
       "음식맛    0.238  0.783\n",
       "친절도    0.886       \n",
       "\n",
       "                 RC1   RC2\n",
       "SS loadings    2.323 1.364\n",
       "Proportion Var 0.465 0.273\n",
       "Cumulative Var 0.465 0.738"
      ]
     },
     "metadata": {},
     "output_type": "display_data"
    }
   ],
   "source": [
    "pca$loadings"
   ]
  },
  {
   "cell_type": "code",
   "execution_count": 88,
   "metadata": {
    "vscode": {
     "languageId": "r"
    }
   },
   "outputs": [
    {
     "name": "stdout",
     "output_type": "stream",
     "text": [
      " 'loadings' num [1:5, 1:2] 0.8692 -0.0763 0.8484 0.2378 0.8863 ...\n",
      " - attr(*, \"dimnames\")=List of 2\n",
      "  ..$ : chr [1:5] \"청결상태\" \"음식량\" \"대기시간\" \"음식맛\" ...\n",
      "  ..$ : chr [1:2] \"RC1\" \"RC2\"\n"
     ]
    }
   ],
   "source": [
    "str(pca$loadings)"
   ]
  },
  {
   "cell_type": "code",
   "execution_count": 96,
   "metadata": {
    "vscode": {
     "languageId": "r"
    }
   },
   "outputs": [
    {
     "data": {
      "text/html": [
       "<style>\n",
       ".dl-inline {width: auto; margin:0; padding: 0}\n",
       ".dl-inline>dt, .dl-inline>dd {float: none; width: auto; display: inline-block}\n",
       ".dl-inline>dt::after {content: \":\\0020\"; padding-right: .5ex}\n",
       ".dl-inline>dt:not(:first-of-type) {padding-left: .5ex}\n",
       "</style><dl class=dl-inline><dt>청결상태</dt><dd>0.769923543562867</dd><dt>음식량</dt><dd>0.73465122740592</dd><dt>대기시간</dt><dd>0.720621493679974</dd><dt>음식맛</dt><dd>0.669438201126825</dd><dt>친절도</dt><dd>0.793065683143675</dd></dl>\n"
      ],
      "text/latex": [
       "\\begin{description*}\n",
       "\\item[청결상태] 0.769923543562867\n",
       "\\item[음식량] 0.73465122740592\n",
       "\\item[대기시간] 0.720621493679974\n",
       "\\item[음식맛] 0.669438201126825\n",
       "\\item[친절도] 0.793065683143675\n",
       "\\end{description*}\n"
      ],
      "text/markdown": [
       "청결상태\n",
       ":   0.769923543562867음식량\n",
       ":   0.73465122740592대기시간\n",
       ":   0.720621493679974음식맛\n",
       ":   0.669438201126825친절도\n",
       ":   0.793065683143675\n",
       "\n"
      ],
      "text/plain": [
       " 청결상태    음식량  대기시간    음식맛    친절도 \n",
       "0.7699235 0.7346512 0.7206215 0.6694382 0.7930657 "
      ]
     },
     "metadata": {},
     "output_type": "display_data"
    }
   ],
   "source": [
    "rowSums(pca$loadings[,]^2)"
   ]
  },
  {
   "cell_type": "code",
   "execution_count": 97,
   "metadata": {
    "vscode": {
     "languageId": "r"
    }
   },
   "outputs": [
    {
     "data": {
      "text/html": [
       "<style>\n",
       ".dl-inline {width: auto; margin:0; padding: 0}\n",
       ".dl-inline>dt, .dl-inline>dd {float: none; width: auto; display: inline-block}\n",
       ".dl-inline>dt::after {content: \":\\0020\"; padding-right: .5ex}\n",
       ".dl-inline>dt:not(:first-of-type) {padding-left: .5ex}\n",
       "</style><dl class=dl-inline><dt>청결상태</dt><dd>0.769923543562867</dd><dt>음식량</dt><dd>0.73465122740592</dd><dt>대기시간</dt><dd>0.720621493679974</dd><dt>음식맛</dt><dd>0.669438201126825</dd><dt>친절도</dt><dd>0.793065683143675</dd></dl>\n"
      ],
      "text/latex": [
       "\\begin{description*}\n",
       "\\item[청결상태] 0.769923543562867\n",
       "\\item[음식량] 0.73465122740592\n",
       "\\item[대기시간] 0.720621493679974\n",
       "\\item[음식맛] 0.669438201126825\n",
       "\\item[친절도] 0.793065683143675\n",
       "\\end{description*}\n"
      ],
      "text/markdown": [
       "청결상태\n",
       ":   0.769923543562867음식량\n",
       ":   0.73465122740592대기시간\n",
       ":   0.720621493679974음식맛\n",
       ":   0.669438201126825친절도\n",
       ":   0.793065683143675\n",
       "\n"
      ],
      "text/plain": [
       " 청결상태    음식량  대기시간    음식맛    친절도 \n",
       "0.7699235 0.7346512 0.7206215 0.6694382 0.7930657 "
      ]
     },
     "metadata": {},
     "output_type": "display_data"
    }
   ],
   "source": [
    "pca$communality"
   ]
  },
  {
   "cell_type": "code",
   "execution_count": 115,
   "metadata": {
    "vscode": {
     "languageId": "r"
    }
   },
   "outputs": [],
   "source": [
    "pca <- principal(df,nfactors=2,rotate=\"promax\") #"
   ]
  },
  {
   "cell_type": "code",
   "execution_count": 118,
   "metadata": {
    "vscode": {
     "languageId": "r"
    }
   },
   "outputs": [
    {
     "data": {
      "text/plain": [
       "\n",
       "Loadings:\n",
       "         RC1    RC2   \n",
       "청결상태  0.871       \n",
       "음식량   -0.148  0.872\n",
       "대기시간  0.858       \n",
       "음식맛    0.177  0.767\n",
       "친절도    0.891       \n",
       "\n",
       "                 RC1   RC2\n",
       "SS loadings    2.342 1.353\n",
       "Proportion Var 0.468 0.271\n",
       "Cumulative Var 0.468 0.739"
      ]
     },
     "metadata": {},
     "output_type": "display_data"
    }
   ],
   "source": [
    "pca$loadings"
   ]
  },
  {
   "cell_type": "code",
   "execution_count": 120,
   "metadata": {
    "vscode": {
     "languageId": "r"
    }
   },
   "outputs": [
    {
     "data": {
      "text/html": [
       "<style>\n",
       ".dl-inline {width: auto; margin:0; padding: 0}\n",
       ".dl-inline>dt, .dl-inline>dd {float: none; width: auto; display: inline-block}\n",
       ".dl-inline>dt::after {content: \":\\0020\"; padding-right: .5ex}\n",
       ".dl-inline>dt:not(:first-of-type) {padding-left: .5ex}\n",
       "</style><dl class=dl-inline><dt>RC1</dt><dd>2.34225944470727</dd><dt>RC2</dt><dd>1.35319882809336</dd></dl>\n"
      ],
      "text/latex": [
       "\\begin{description*}\n",
       "\\item[RC1] 2.34225944470727\n",
       "\\item[RC2] 1.35319882809336\n",
       "\\end{description*}\n"
      ],
      "text/markdown": [
       "RC1\n",
       ":   2.34225944470727RC2\n",
       ":   1.35319882809336\n",
       "\n"
      ],
      "text/plain": [
       "     RC1      RC2 \n",
       "2.342259 1.353199 "
      ]
     },
     "metadata": {},
     "output_type": "display_data"
    }
   ],
   "source": [
    "colSums(pca$loadings^2)"
   ]
  },
  {
   "cell_type": "code",
   "execution_count": 126,
   "metadata": {
    "vscode": {
     "languageId": "r"
    }
   },
   "outputs": [
    {
     "data": {
      "text/plain": [
       "\n",
       "Cronbach's alpha for the 'df[, c(1, 3, 5)]' data-set\n",
       "\n",
       "Items: 3\n",
       "Sample units: 25\n",
       "alpha: 0.845\n"
      ]
     },
     "metadata": {},
     "output_type": "display_data"
    }
   ],
   "source": [
    "cronbach.alpha(df[,c(1,3,5)])"
   ]
  },
  {
   "cell_type": "code",
   "execution_count": 127,
   "metadata": {
    "vscode": {
     "languageId": "r"
    }
   },
   "outputs": [
    {
     "data": {
      "text/plain": [
       "\n",
       "Cronbach's alpha for the 'df[, c(2, 4)]' data-set\n",
       "\n",
       "Items: 2\n",
       "Sample units: 25\n",
       "alpha: 0.511\n"
      ]
     },
     "metadata": {},
     "output_type": "display_data"
    },
    {
     "ename": "",
     "evalue": "",
     "output_type": "error",
     "traceback": [
      "\u001b[1;31m현재 셀 또는 이전 셀에서 코드를 실행하는 동안 Kernel이 충돌했습니다. 셀의 코드를 검토하여 오류의 가능한 원인을 식별하세요. 자세한 내용을 보려면 <a href='https://aka.ms/vscodeJupyterKernelCrash'> 여기 </a> 를 클릭하세요. 자세한 내용은 Jupyter <a href='command:jupyter.viewOutput'>로그</a>를 참조하세요."
     ]
    }
   ],
   "source": [
    "cronbach.alpha(df[,c(2,4)])"
   ]
  },
  {
   "cell_type": "code",
   "execution_count": null,
   "metadata": {
    "vscode": {
     "languageId": "r"
    }
   },
   "outputs": [],
   "source": []
  },
  {
   "cell_type": "code",
   "execution_count": null,
   "metadata": {
    "vscode": {
     "languageId": "r"
    }
   },
   "outputs": [],
   "source": []
  },
  {
   "cell_type": "code",
   "execution_count": null,
   "metadata": {
    "vscode": {
     "languageId": "r"
    }
   },
   "outputs": [],
   "source": [
    "findfactors <- function(data, nf)\n",
    "{\n",
    "  pca <- principal(data, nfactors=nf, rotate=\"varimax\");\n",
    "  count<-1;\n",
    "  while (TRUE) {\n",
    "    while (min(pca$communality) < 0.4) {\n",
    "      newlist<- pca$communality!=min(pca$communality);\n",
    "      data<-data[newlist]\n",
    "      pca <- principal(data, nfactors=nf, rotate=\"varimax\");\n",
    "    }\n",
    "    \n",
    "    tbl<-pca.table(data, pca);\n",
    "    if (min(tbl[,5])<0.4) {\n",
    "      newlist<- tbl[,5]!=min(tbl[,5]);\n",
    "      data<-data[newlist];\n",
    "      pca <- principal(data, nfactors=nf, rotate=\"varimax\");\n",
    "    } else {\n",
    "      break;\n",
    "    }\n",
    "    #print(c(count,dim(data),min(pca$communality),min(tbl[,5])));\n",
    "    count<-count+1;\n",
    "  }\n",
    "  \n",
    "  list(data,tbl)\n",
    "}\n"
   ]
  }
 ],
 "metadata": {
  "kernelspec": {
   "display_name": "R",
   "language": "R",
   "name": "ir"
  },
  "language_info": {
   "codemirror_mode": "r",
   "file_extension": ".r",
   "mimetype": "text/x-r-source",
   "name": "R",
   "pygments_lexer": "r",
   "version": "3.6.3"
  },
  "orig_nbformat": 4
 },
 "nbformat": 4,
 "nbformat_minor": 2
}

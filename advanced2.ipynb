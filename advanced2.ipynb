{
 "cells": [
  {
   "cell_type": "code",
   "execution_count": 1,
   "metadata": {
    "vscode": {
     "languageId": "r"
    }
   },
   "outputs": [],
   "source": [
    "df = read.csv('csv/factor_analysis.csv')[,2:6]"
   ]
  },
  {
   "cell_type": "code",
   "execution_count": 2,
   "metadata": {
    "vscode": {
     "languageId": "r"
    }
   },
   "outputs": [
    {
     "data": {
      "text/html": [
       "<table class=\"dataframe\">\n",
       "<caption>A data.frame: 2 × 5</caption>\n",
       "<thead>\n",
       "\t<tr><th></th><th scope=col>청결상태</th><th scope=col>음식량</th><th scope=col>대기시간</th><th scope=col>음식맛</th><th scope=col>친절도</th></tr>\n",
       "\t<tr><th></th><th scope=col>&lt;int&gt;</th><th scope=col>&lt;int&gt;</th><th scope=col>&lt;int&gt;</th><th scope=col>&lt;int&gt;</th><th scope=col>&lt;int&gt;</th></tr>\n",
       "</thead>\n",
       "<tbody>\n",
       "\t<tr><th scope=row>1</th><td>6</td><td>4</td><td>7</td><td>6</td><td>5</td></tr>\n",
       "\t<tr><th scope=row>2</th><td>5</td><td>7</td><td>5</td><td>6</td><td>6</td></tr>\n",
       "</tbody>\n",
       "</table>\n"
      ],
      "text/latex": [
       "A data.frame: 2 × 5\n",
       "\\begin{tabular}{r|lllll}\n",
       "  & 청결상태 & 음식량 & 대기시간 & 음식맛 & 친절도\\\\\n",
       "  & <int> & <int> & <int> & <int> & <int>\\\\\n",
       "\\hline\n",
       "\t1 & 6 & 4 & 7 & 6 & 5\\\\\n",
       "\t2 & 5 & 7 & 5 & 6 & 6\\\\\n",
       "\\end{tabular}\n"
      ],
      "text/markdown": [
       "\n",
       "A data.frame: 2 × 5\n",
       "\n",
       "| <!--/--> | 청결상태 &lt;int&gt; | 음식량 &lt;int&gt; | 대기시간 &lt;int&gt; | 음식맛 &lt;int&gt; | 친절도 &lt;int&gt; |\n",
       "|---|---|---|---|---|---|\n",
       "| 1 | 6 | 4 | 7 | 6 | 5 |\n",
       "| 2 | 5 | 7 | 5 | 6 | 6 |\n",
       "\n"
      ],
      "text/plain": [
       "  청결상태 음식량 대기시간 음식맛 친절도\n",
       "1 6        4      7        6      5     \n",
       "2 5        7      5        6      6     "
      ]
     },
     "metadata": {},
     "output_type": "display_data"
    }
   ],
   "source": [
    "head(df,2)"
   ]
  },
  {
   "cell_type": "code",
   "execution_count": 3,
   "metadata": {
    "vscode": {
     "languageId": "r"
    }
   },
   "outputs": [
    {
     "data": {
      "text/html": [
       "<style>\n",
       ".list-inline {list-style: none; margin:0; padding: 0}\n",
       ".list-inline>li {display: inline-block}\n",
       ".list-inline>li:not(:last-child)::after {content: \"\\00b7\"; padding: 0 .5ex}\n",
       "</style>\n",
       "<ol class=list-inline><li>7</li><li>5</li><li>4</li><li>2</li><li>3</li><li>2</li><li>3</li><li>3</li><li>6</li><li>3</li><li>3</li><li>2</li><li>2</li><li>6</li><li>5</li><li>5</li><li>2</li><li>5</li><li>6</li><li>6</li><li>3</li><li>2</li><li>3</li><li>7</li><li>5</li></ol>\n"
      ],
      "text/latex": [
       "\\begin{enumerate*}\n",
       "\\item 7\n",
       "\\item 5\n",
       "\\item 4\n",
       "\\item 2\n",
       "\\item 3\n",
       "\\item 2\n",
       "\\item 3\n",
       "\\item 3\n",
       "\\item 6\n",
       "\\item 3\n",
       "\\item 3\n",
       "\\item 2\n",
       "\\item 2\n",
       "\\item 6\n",
       "\\item 5\n",
       "\\item 5\n",
       "\\item 2\n",
       "\\item 5\n",
       "\\item 6\n",
       "\\item 6\n",
       "\\item 3\n",
       "\\item 2\n",
       "\\item 3\n",
       "\\item 7\n",
       "\\item 5\n",
       "\\end{enumerate*}\n"
      ],
      "text/markdown": [
       "1. 7\n",
       "2. 5\n",
       "3. 4\n",
       "4. 2\n",
       "5. 3\n",
       "6. 2\n",
       "7. 3\n",
       "8. 3\n",
       "9. 6\n",
       "10. 3\n",
       "11. 3\n",
       "12. 2\n",
       "13. 2\n",
       "14. 6\n",
       "15. 5\n",
       "16. 5\n",
       "17. 2\n",
       "18. 5\n",
       "19. 6\n",
       "20. 6\n",
       "21. 3\n",
       "22. 2\n",
       "23. 3\n",
       "24. 7\n",
       "25. 5\n",
       "\n",
       "\n"
      ],
      "text/plain": [
       " [1] 7 5 4 2 3 2 3 3 6 3 3 2 2 6 5 5 2 5 6 6 3 2 3 7 5"
      ]
     },
     "metadata": {},
     "output_type": "display_data"
    }
   ],
   "source": [
    "df[['대기시간']]"
   ]
  },
  {
   "cell_type": "code",
   "execution_count": 4,
   "metadata": {
    "vscode": {
     "languageId": "r"
    }
   },
   "outputs": [
    {
     "name": "stdout",
     "output_type": "stream",
     "text": [
      "'data.frame':\t25 obs. of  5 variables:\n",
      " $ 청결상태: int  6 5 5 3 4 2 1 3 7 6 ...\n",
      " $ 음식량  : int  4 7 3 3 3 6 3 5 3 4 ...\n",
      " $ 대기시간: int  7 5 4 2 3 2 3 3 6 3 ...\n",
      " $ 음식맛  : int  6 6 5 3 3 4 3 4 5 4 ...\n",
      " $ 친절도  : int  5 6 6 4 2 3 2 2 5 4 ...\n"
     ]
    }
   ],
   "source": [
    "str(df)"
   ]
  },
  {
   "cell_type": "code",
   "execution_count": 5,
   "metadata": {
    "vscode": {
     "languageId": "r"
    }
   },
   "outputs": [
    {
     "data": {
      "text/plain": [
       "    청결상태        음식량        대기시간     음식맛        친절도    \n",
       " Min.   :1.00   Min.   :2.00   Min.   :2   Min.   :3.0   Min.   :2.00  \n",
       " 1st Qu.:3.00   1st Qu.:3.00   1st Qu.:3   1st Qu.:3.0   1st Qu.:2.00  \n",
       " Median :5.00   Median :4.00   Median :3   Median :4.0   Median :4.00  \n",
       " Mean   :4.36   Mean   :4.52   Mean   :4   Mean   :4.4   Mean   :3.96  \n",
       " 3rd Qu.:6.00   3rd Qu.:6.00   3rd Qu.:5   3rd Qu.:5.0   3rd Qu.:5.00  \n",
       " Max.   :7.00   Max.   :7.00   Max.   :7   Max.   :7.0   Max.   :7.00  "
      ]
     },
     "metadata": {},
     "output_type": "display_data"
    }
   ],
   "source": [
    "summary(df)"
   ]
  },
  {
   "cell_type": "code",
   "execution_count": 6,
   "metadata": {
    "vscode": {
     "languageId": "r"
    }
   },
   "outputs": [
    {
     "data": {
      "text/html": [
       "<style>\n",
       ".dl-inline {width: auto; margin:0; padding: 0}\n",
       ".dl-inline>dt, .dl-inline>dd {float: none; width: auto; display: inline-block}\n",
       ".dl-inline>dt::after {content: \":\\0020\"; padding-right: .5ex}\n",
       ".dl-inline>dt:not(:first-of-type) {padding-left: .5ex}\n",
       "</style><dl class=dl-inline><dt>청결상태</dt><dd>4.36</dd><dt>음식량</dt><dd>4.52</dd><dt>대기시간</dt><dd>4</dd><dt>음식맛</dt><dd>4.4</dd><dt>친절도</dt><dd>3.96</dd></dl>\n"
      ],
      "text/latex": [
       "\\begin{description*}\n",
       "\\item[청결상태] 4.36\n",
       "\\item[음식량] 4.52\n",
       "\\item[대기시간] 4\n",
       "\\item[음식맛] 4.4\n",
       "\\item[친절도] 3.96\n",
       "\\end{description*}\n"
      ],
      "text/markdown": [
       "청결상태\n",
       ":   4.36음식량\n",
       ":   4.52대기시간\n",
       ":   4음식맛\n",
       ":   4.4친절도\n",
       ":   3.96\n",
       "\n"
      ],
      "text/plain": [
       "청결상태   음식량 대기시간   음식맛   친절도 \n",
       "    4.36     4.52     4.00     4.40     3.96 "
      ]
     },
     "metadata": {},
     "output_type": "display_data"
    }
   ],
   "source": [
    "sapply(df,mean, na.rm=TRUE)"
   ]
  },
  {
   "cell_type": "code",
   "execution_count": 7,
   "metadata": {
    "vscode": {
     "languageId": "r"
    }
   },
   "outputs": [
    {
     "data": {
      "text/html": [
       "<style>\n",
       ".dl-inline {width: auto; margin:0; padding: 0}\n",
       ".dl-inline>dt, .dl-inline>dd {float: none; width: auto; display: inline-block}\n",
       ".dl-inline>dt::after {content: \":\\0020\"; padding-right: .5ex}\n",
       ".dl-inline>dt:not(:first-of-type) {padding-left: .5ex}\n",
       "</style><dl class=dl-inline><dt>청결상태</dt><dd>1.82300118851671</dd><dt>음식량</dt><dd>1.50332963783729</dd><dt>대기시간</dt><dd>1.70782512765993</dd><dt>음식맛</dt><dd>1.15470053837925</dd><dt>친절도</dt><dd>1.64519502390041</dd></dl>\n"
      ],
      "text/latex": [
       "\\begin{description*}\n",
       "\\item[청결상태] 1.82300118851671\n",
       "\\item[음식량] 1.50332963783729\n",
       "\\item[대기시간] 1.70782512765993\n",
       "\\item[음식맛] 1.15470053837925\n",
       "\\item[친절도] 1.64519502390041\n",
       "\\end{description*}\n"
      ],
      "text/markdown": [
       "청결상태\n",
       ":   1.82300118851671음식량\n",
       ":   1.50332963783729대기시간\n",
       ":   1.70782512765993음식맛\n",
       ":   1.15470053837925친절도\n",
       ":   1.64519502390041\n",
       "\n"
      ],
      "text/plain": [
       "청결상태   음식량 대기시간   음식맛   친절도 \n",
       "1.823001 1.503330 1.707825 1.154701 1.645195 "
      ]
     },
     "metadata": {},
     "output_type": "display_data"
    }
   ],
   "source": [
    "sapply(df,sd, na.rm=TRUE)"
   ]
  },
  {
   "cell_type": "markdown",
   "metadata": {},
   "source": [
    "### 1. 상관관계"
   ]
  },
  {
   "cell_type": "code",
   "execution_count": 8,
   "metadata": {
    "vscode": {
     "languageId": "r"
    }
   },
   "outputs": [
    {
     "data": {
      "text/html": [
       "<table class=\"dataframe\">\n",
       "<caption>A matrix: 5 × 5 of type dbl</caption>\n",
       "<thead>\n",
       "\t<tr><th></th><th scope=col>청결상태</th><th scope=col>음식량</th><th scope=col>대기시간</th><th scope=col>음식맛</th><th scope=col>친절도</th></tr>\n",
       "</thead>\n",
       "<tbody>\n",
       "\t<tr><th scope=row>청결상태</th><td>1.00000000</td><td>0.050476086</td><td>0.61562499</td><td>0.2652389</td><td>0.685740138</td></tr>\n",
       "\t<tr><th scope=row>음식량</th><td>0.05047609</td><td>1.000000000</td><td>0.04868693</td><td>0.3552441</td><td>0.008760331</td></tr>\n",
       "\t<tr><th scope=row>대기시간</th><td>0.61562499</td><td>0.048686930</td><td>1.00000000</td><td>0.1479020</td><td>0.637670649</td></tr>\n",
       "\t<tr><th scope=row>음식맛</th><td>0.26523891</td><td>0.355244110</td><td>0.14790199</td><td>1.0000000</td><td>0.271971682</td></tr>\n",
       "\t<tr><th scope=row>친절도</th><td>0.68574014</td><td>0.008760331</td><td>0.63767065</td><td>0.2719717</td><td>1.000000000</td></tr>\n",
       "</tbody>\n",
       "</table>\n"
      ],
      "text/latex": [
       "A matrix: 5 × 5 of type dbl\n",
       "\\begin{tabular}{r|lllll}\n",
       "  & 청결상태 & 음식량 & 대기시간 & 음식맛 & 친절도\\\\\n",
       "\\hline\n",
       "\t청결상태 & 1.00000000 & 0.050476086 & 0.61562499 & 0.2652389 & 0.685740138\\\\\n",
       "\t음식량 & 0.05047609 & 1.000000000 & 0.04868693 & 0.3552441 & 0.008760331\\\\\n",
       "\t대기시간 & 0.61562499 & 0.048686930 & 1.00000000 & 0.1479020 & 0.637670649\\\\\n",
       "\t음식맛 & 0.26523891 & 0.355244110 & 0.14790199 & 1.0000000 & 0.271971682\\\\\n",
       "\t친절도 & 0.68574014 & 0.008760331 & 0.63767065 & 0.2719717 & 1.000000000\\\\\n",
       "\\end{tabular}\n"
      ],
      "text/markdown": [
       "\n",
       "A matrix: 5 × 5 of type dbl\n",
       "\n",
       "| <!--/--> | 청결상태 | 음식량 | 대기시간 | 음식맛 | 친절도 |\n",
       "|---|---|---|---|---|---|\n",
       "| 청결상태 | 1.00000000 | 0.050476086 | 0.61562499 | 0.2652389 | 0.685740138 |\n",
       "| 음식량 | 0.05047609 | 1.000000000 | 0.04868693 | 0.3552441 | 0.008760331 |\n",
       "| 대기시간 | 0.61562499 | 0.048686930 | 1.00000000 | 0.1479020 | 0.637670649 |\n",
       "| 음식맛 | 0.26523891 | 0.355244110 | 0.14790199 | 1.0000000 | 0.271971682 |\n",
       "| 친절도 | 0.68574014 | 0.008760331 | 0.63767065 | 0.2719717 | 1.000000000 |\n",
       "\n"
      ],
      "text/plain": [
       "         청결상태   음식량      대기시간   음식맛    친절도     \n",
       "청결상태 1.00000000 0.050476086 0.61562499 0.2652389 0.685740138\n",
       "음식량   0.05047609 1.000000000 0.04868693 0.3552441 0.008760331\n",
       "대기시간 0.61562499 0.048686930 1.00000000 0.1479020 0.637670649\n",
       "음식맛   0.26523891 0.355244110 0.14790199 1.0000000 0.271971682\n",
       "친절도   0.68574014 0.008760331 0.63767065 0.2719717 1.000000000"
      ]
     },
     "metadata": {},
     "output_type": "display_data"
    }
   ],
   "source": [
    "cor(df)"
   ]
  },
  {
   "attachments": {},
   "cell_type": "markdown",
   "metadata": {},
   "source": [
    "### 2. PCA"
   ]
  },
  {
   "cell_type": "code",
   "execution_count": 9,
   "metadata": {
    "vscode": {
     "languageId": "r"
    }
   },
   "outputs": [
    {
     "data": {
      "text/plain": [
       "Standard deviations (1, .., p=5):\n",
       "[1] 1.5567927 1.1243206 0.7970232 0.6081366 0.5542777\n",
       "\n",
       "Rotation (n x k) = (5 x 5):\n",
       "                PC1        PC2         PC3        PC4         PC5\n",
       "청결상태 -0.5563347  0.1251474 -0.00188135  0.6028320  0.55805007\n",
       "음식량   -0.1145251 -0.7456676  0.63372080  0.1408916 -0.09701210\n",
       "대기시간 -0.5261066  0.1984770  0.33282134 -0.7255578  0.21590411\n",
       "음식맛   -0.2939724 -0.6032322 -0.69415932 -0.2405856  0.09976277\n",
       "친절도   -0.5605067  0.1582270 -0.07594216  0.1800769 -0.78905106"
      ]
     },
     "metadata": {},
     "output_type": "display_data"
    }
   ],
   "source": [
    "pc <- prcomp(df, scale = TRUE)\n",
    "pc"
   ]
  },
  {
   "cell_type": "code",
   "execution_count": 10,
   "metadata": {
    "vscode": {
     "languageId": "r"
    }
   },
   "outputs": [
    {
     "data": {
      "text/html": [
       "<table class=\"dataframe\">\n",
       "<caption>A matrix: 5 × 5 of type dbl</caption>\n",
       "<thead>\n",
       "\t<tr><th></th><th scope=col>PC1</th><th scope=col>PC2</th><th scope=col>PC3</th><th scope=col>PC4</th><th scope=col>PC5</th></tr>\n",
       "</thead>\n",
       "<tbody>\n",
       "\t<tr><th scope=row>청결상태</th><td>-0.5563347</td><td> 0.1251474</td><td>-0.00188135</td><td> 0.6028320</td><td> 0.55805007</td></tr>\n",
       "\t<tr><th scope=row>음식량</th><td>-0.1145251</td><td>-0.7456676</td><td> 0.63372080</td><td> 0.1408916</td><td>-0.09701210</td></tr>\n",
       "\t<tr><th scope=row>대기시간</th><td>-0.5261066</td><td> 0.1984770</td><td> 0.33282134</td><td>-0.7255578</td><td> 0.21590411</td></tr>\n",
       "\t<tr><th scope=row>음식맛</th><td>-0.2939724</td><td>-0.6032322</td><td>-0.69415932</td><td>-0.2405856</td><td> 0.09976277</td></tr>\n",
       "\t<tr><th scope=row>친절도</th><td>-0.5605067</td><td> 0.1582270</td><td>-0.07594216</td><td> 0.1800769</td><td>-0.78905106</td></tr>\n",
       "</tbody>\n",
       "</table>\n"
      ],
      "text/latex": [
       "A matrix: 5 × 5 of type dbl\n",
       "\\begin{tabular}{r|lllll}\n",
       "  & PC1 & PC2 & PC3 & PC4 & PC5\\\\\n",
       "\\hline\n",
       "\t청결상태 & -0.5563347 &  0.1251474 & -0.00188135 &  0.6028320 &  0.55805007\\\\\n",
       "\t음식량 & -0.1145251 & -0.7456676 &  0.63372080 &  0.1408916 & -0.09701210\\\\\n",
       "\t대기시간 & -0.5261066 &  0.1984770 &  0.33282134 & -0.7255578 &  0.21590411\\\\\n",
       "\t음식맛 & -0.2939724 & -0.6032322 & -0.69415932 & -0.2405856 &  0.09976277\\\\\n",
       "\t친절도 & -0.5605067 &  0.1582270 & -0.07594216 &  0.1800769 & -0.78905106\\\\\n",
       "\\end{tabular}\n"
      ],
      "text/markdown": [
       "\n",
       "A matrix: 5 × 5 of type dbl\n",
       "\n",
       "| <!--/--> | PC1 | PC2 | PC3 | PC4 | PC5 |\n",
       "|---|---|---|---|---|---|\n",
       "| 청결상태 | -0.5563347 |  0.1251474 | -0.00188135 |  0.6028320 |  0.55805007 |\n",
       "| 음식량 | -0.1145251 | -0.7456676 |  0.63372080 |  0.1408916 | -0.09701210 |\n",
       "| 대기시간 | -0.5261066 |  0.1984770 |  0.33282134 | -0.7255578 |  0.21590411 |\n",
       "| 음식맛 | -0.2939724 | -0.6032322 | -0.69415932 | -0.2405856 |  0.09976277 |\n",
       "| 친절도 | -0.5605067 |  0.1582270 | -0.07594216 |  0.1800769 | -0.78905106 |\n",
       "\n"
      ],
      "text/plain": [
       "         PC1        PC2        PC3         PC4        PC5        \n",
       "청결상태 -0.5563347  0.1251474 -0.00188135  0.6028320  0.55805007\n",
       "음식량   -0.1145251 -0.7456676  0.63372080  0.1408916 -0.09701210\n",
       "대기시간 -0.5261066  0.1984770  0.33282134 -0.7255578  0.21590411\n",
       "음식맛   -0.2939724 -0.6032322 -0.69415932 -0.2405856  0.09976277\n",
       "친절도   -0.5605067  0.1582270 -0.07594216  0.1800769 -0.78905106"
      ]
     },
     "metadata": {},
     "output_type": "display_data"
    }
   ],
   "source": [
    "pc$rotation"
   ]
  },
  {
   "attachments": {},
   "cell_type": "markdown",
   "metadata": {},
   "source": [
    "### 3. 요인분석"
   ]
  },
  {
   "cell_type": "code",
   "execution_count": 11,
   "metadata": {
    "vscode": {
     "languageId": "r"
    }
   },
   "outputs": [],
   "source": [
    "library(psych)"
   ]
  },
  {
   "cell_type": "code",
   "execution_count": 12,
   "metadata": {
    "vscode": {
     "languageId": "r"
    }
   },
   "outputs": [],
   "source": [
    "pca <- principal(df,nfactors=2,rotate=\"none\") #"
   ]
  },
  {
   "attachments": {},
   "cell_type": "markdown",
   "metadata": {},
   "source": [
    "#### 3.1 공통성"
   ]
  },
  {
   "cell_type": "code",
   "execution_count": 13,
   "metadata": {
    "vscode": {
     "languageId": "r"
    }
   },
   "outputs": [
    {
     "data": {
      "text/html": [
       "<style>\n",
       ".dl-inline {width: auto; margin:0; padding: 0}\n",
       ".dl-inline>dt, .dl-inline>dd {float: none; width: auto; display: inline-block}\n",
       ".dl-inline>dt::after {content: \":\\0020\"; padding-right: .5ex}\n",
       ".dl-inline>dt:not(:first-of-type) {padding-left: .5ex}\n",
       "</style><dl class=dl-inline><dt>청결상태</dt><dd>0.769923543562867</dd><dt>음식량</dt><dd>0.73465122740592</dd><dt>대기시간</dt><dd>0.720621493679974</dd><dt>음식맛</dt><dd>0.669438201126825</dd><dt>친절도</dt><dd>0.793065683143675</dd></dl>\n"
      ],
      "text/latex": [
       "\\begin{description*}\n",
       "\\item[청결상태] 0.769923543562867\n",
       "\\item[음식량] 0.73465122740592\n",
       "\\item[대기시간] 0.720621493679974\n",
       "\\item[음식맛] 0.669438201126825\n",
       "\\item[친절도] 0.793065683143675\n",
       "\\end{description*}\n"
      ],
      "text/markdown": [
       "청결상태\n",
       ":   0.769923543562867음식량\n",
       ":   0.73465122740592대기시간\n",
       ":   0.720621493679974음식맛\n",
       ":   0.669438201126825친절도\n",
       ":   0.793065683143675\n",
       "\n"
      ],
      "text/plain": [
       " 청결상태    음식량  대기시간    음식맛    친절도 \n",
       "0.7699235 0.7346512 0.7206215 0.6694382 0.7930657 "
      ]
     },
     "metadata": {},
     "output_type": "display_data"
    }
   ],
   "source": [
    "pca$communality"
   ]
  },
  {
   "cell_type": "code",
   "execution_count": 14,
   "metadata": {
    "vscode": {
     "languageId": "r"
    }
   },
   "outputs": [
    {
     "data": {
      "text/html": [
       "<style>\n",
       ".dl-inline {width: auto; margin:0; padding: 0}\n",
       ".dl-inline>dt, .dl-inline>dd {float: none; width: auto; display: inline-block}\n",
       ".dl-inline>dt::after {content: \":\\0020\"; padding-right: .5ex}\n",
       ".dl-inline>dt:not(:first-of-type) {padding-left: .5ex}\n",
       "</style><dl class=dl-inline><dt>청결상태</dt><dd>0.769923543562867</dd><dt>음식량</dt><dd>0.73465122740592</dd><dt>대기시간</dt><dd>0.720621493679974</dd><dt>음식맛</dt><dd>0.669438201126825</dd><dt>친절도</dt><dd>0.793065683143675</dd></dl>\n"
      ],
      "text/latex": [
       "\\begin{description*}\n",
       "\\item[청결상태] 0.769923543562867\n",
       "\\item[음식량] 0.73465122740592\n",
       "\\item[대기시간] 0.720621493679974\n",
       "\\item[음식맛] 0.669438201126825\n",
       "\\item[친절도] 0.793065683143675\n",
       "\\end{description*}\n"
      ],
      "text/markdown": [
       "청결상태\n",
       ":   0.769923543562867음식량\n",
       ":   0.73465122740592대기시간\n",
       ":   0.720621493679974음식맛\n",
       ":   0.669438201126825친절도\n",
       ":   0.793065683143675\n",
       "\n"
      ],
      "text/plain": [
       " 청결상태    음식량  대기시간    음식맛    친절도 \n",
       "0.7699235 0.7346512 0.7206215 0.6694382 0.7930657 "
      ]
     },
     "metadata": {},
     "output_type": "display_data"
    }
   ],
   "source": [
    "rowSums(pca$loadings^2)"
   ]
  },
  {
   "attachments": {},
   "cell_type": "markdown",
   "metadata": {},
   "source": [
    "#### 3.2 pca의 두 성분과 비교"
   ]
  },
  {
   "cell_type": "code",
   "execution_count": 15,
   "metadata": {
    "vscode": {
     "languageId": "r"
    }
   },
   "outputs": [
    {
     "data": {
      "text/html": [
       "<table class=\"dataframe\">\n",
       "<caption>A matrix: 5 × 2 of type dbl</caption>\n",
       "<thead>\n",
       "\t<tr><th></th><th scope=col>PC1</th><th scope=col>PC2</th></tr>\n",
       "</thead>\n",
       "<tbody>\n",
       "\t<tr><th scope=row>청결상태</th><td>-0.5563347</td><td> 0.1251474</td></tr>\n",
       "\t<tr><th scope=row>음식량</th><td>-0.1145251</td><td>-0.7456676</td></tr>\n",
       "\t<tr><th scope=row>대기시간</th><td>-0.5261066</td><td> 0.1984770</td></tr>\n",
       "\t<tr><th scope=row>음식맛</th><td>-0.2939724</td><td>-0.6032322</td></tr>\n",
       "\t<tr><th scope=row>친절도</th><td>-0.5605067</td><td> 0.1582270</td></tr>\n",
       "</tbody>\n",
       "</table>\n"
      ],
      "text/latex": [
       "A matrix: 5 × 2 of type dbl\n",
       "\\begin{tabular}{r|ll}\n",
       "  & PC1 & PC2\\\\\n",
       "\\hline\n",
       "\t청결상태 & -0.5563347 &  0.1251474\\\\\n",
       "\t음식량 & -0.1145251 & -0.7456676\\\\\n",
       "\t대기시간 & -0.5261066 &  0.1984770\\\\\n",
       "\t음식맛 & -0.2939724 & -0.6032322\\\\\n",
       "\t친절도 & -0.5605067 &  0.1582270\\\\\n",
       "\\end{tabular}\n"
      ],
      "text/markdown": [
       "\n",
       "A matrix: 5 × 2 of type dbl\n",
       "\n",
       "| <!--/--> | PC1 | PC2 |\n",
       "|---|---|---|\n",
       "| 청결상태 | -0.5563347 |  0.1251474 |\n",
       "| 음식량 | -0.1145251 | -0.7456676 |\n",
       "| 대기시간 | -0.5261066 |  0.1984770 |\n",
       "| 음식맛 | -0.2939724 | -0.6032322 |\n",
       "| 친절도 | -0.5605067 |  0.1582270 |\n",
       "\n"
      ],
      "text/plain": [
       "         PC1        PC2       \n",
       "청결상태 -0.5563347  0.1251474\n",
       "음식량   -0.1145251 -0.7456676\n",
       "대기시간 -0.5261066  0.1984770\n",
       "음식맛   -0.2939724 -0.6032322\n",
       "친절도   -0.5605067  0.1582270"
      ]
     },
     "metadata": {},
     "output_type": "display_data"
    }
   ],
   "source": [
    "a = as.matrix(pc$rotation[,1:2])\n",
    "a"
   ]
  },
  {
   "cell_type": "code",
   "execution_count": 16,
   "metadata": {
    "vscode": {
     "languageId": "r"
    }
   },
   "outputs": [
    {
     "data": {
      "text/html": [
       "<table class=\"dataframe\">\n",
       "<caption>A matrix: 5 × 2 of type dbl</caption>\n",
       "<thead>\n",
       "\t<tr><th></th><th scope=col>PC1</th><th scope=col>PC2</th></tr>\n",
       "</thead>\n",
       "<tbody>\n",
       "\t<tr><th scope=row>청결상태</th><td>0.8660978</td><td>-0.1407058</td></tr>\n",
       "\t<tr><th scope=row>음식량</th><td>0.1782918</td><td> 0.8383694</td></tr>\n",
       "\t<tr><th scope=row>대기시간</th><td>0.8190389</td><td>-0.2231518</td></tr>\n",
       "\t<tr><th scope=row>음식맛</th><td>0.4576541</td><td> 0.6782263</td></tr>\n",
       "\t<tr><th scope=row>친절도</th><td>0.8725927</td><td>-0.1778979</td></tr>\n",
       "</tbody>\n",
       "</table>\n"
      ],
      "text/latex": [
       "A matrix: 5 × 2 of type dbl\n",
       "\\begin{tabular}{r|ll}\n",
       "  & PC1 & PC2\\\\\n",
       "\\hline\n",
       "\t청결상태 & 0.8660978 & -0.1407058\\\\\n",
       "\t음식량 & 0.1782918 &  0.8383694\\\\\n",
       "\t대기시간 & 0.8190389 & -0.2231518\\\\\n",
       "\t음식맛 & 0.4576541 &  0.6782263\\\\\n",
       "\t친절도 & 0.8725927 & -0.1778979\\\\\n",
       "\\end{tabular}\n"
      ],
      "text/markdown": [
       "\n",
       "A matrix: 5 × 2 of type dbl\n",
       "\n",
       "| <!--/--> | PC1 | PC2 |\n",
       "|---|---|---|\n",
       "| 청결상태 | 0.8660978 | -0.1407058 |\n",
       "| 음식량 | 0.1782918 |  0.8383694 |\n",
       "| 대기시간 | 0.8190389 | -0.2231518 |\n",
       "| 음식맛 | 0.4576541 |  0.6782263 |\n",
       "| 친절도 | 0.8725927 | -0.1778979 |\n",
       "\n"
      ],
      "text/plain": [
       "         PC1       PC2       \n",
       "청결상태 0.8660978 -0.1407058\n",
       "음식량   0.1782918  0.8383694\n",
       "대기시간 0.8190389 -0.2231518\n",
       "음식맛   0.4576541  0.6782263\n",
       "친절도   0.8725927 -0.1778979"
      ]
     },
     "metadata": {},
     "output_type": "display_data"
    }
   ],
   "source": [
    "b = as.matrix(pca$loadings[,])\n",
    "b"
   ]
  },
  {
   "cell_type": "code",
   "execution_count": 17,
   "metadata": {
    "vscode": {
     "languageId": "r"
    }
   },
   "outputs": [
    {
     "data": {
      "text/html": [
       "<table class=\"dataframe\">\n",
       "<caption>A matrix: 2 × 2 of type dbl</caption>\n",
       "<thead>\n",
       "\t<tr><th></th><th scope=col>PC1</th><th scope=col>PC2</th></tr>\n",
       "</thead>\n",
       "<tbody>\n",
       "\t<tr><th scope=row>PC1</th><td>-1.556793e+00</td><td>-1.078521e-32</td></tr>\n",
       "\t<tr><th scope=row>PC2</th><td> 4.005934e-32</td><td>-1.124321e+00</td></tr>\n",
       "</tbody>\n",
       "</table>\n"
      ],
      "text/latex": [
       "A matrix: 2 × 2 of type dbl\n",
       "\\begin{tabular}{r|ll}\n",
       "  & PC1 & PC2\\\\\n",
       "\\hline\n",
       "\tPC1 & -1.556793e+00 & -1.078521e-32\\\\\n",
       "\tPC2 &  4.005934e-32 & -1.124321e+00\\\\\n",
       "\\end{tabular}\n"
      ],
      "text/markdown": [
       "\n",
       "A matrix: 2 × 2 of type dbl\n",
       "\n",
       "| <!--/--> | PC1 | PC2 |\n",
       "|---|---|---|\n",
       "| PC1 | -1.556793e+00 | -1.078521e-32 |\n",
       "| PC2 |  4.005934e-32 | -1.124321e+00 |\n",
       "\n"
      ],
      "text/plain": [
       "    PC1           PC2          \n",
       "PC1 -1.556793e+00 -1.078521e-32\n",
       "PC2  4.005934e-32 -1.124321e+00"
      ]
     },
     "metadata": {},
     "output_type": "display_data"
    }
   ],
   "source": [
    "r <- solve(t(a) %*% a) * (t(a) %*% b[,1:2])\n",
    "r"
   ]
  },
  {
   "cell_type": "code",
   "execution_count": 18,
   "metadata": {
    "vscode": {
     "languageId": "r"
    }
   },
   "outputs": [
    {
     "data": {
      "text/html": [
       "<table class=\"dataframe\">\n",
       "<caption>A matrix: 5 × 2 of type dbl</caption>\n",
       "<thead>\n",
       "\t<tr><th></th><th scope=col>PC1</th><th scope=col>PC2</th></tr>\n",
       "</thead>\n",
       "<tbody>\n",
       "\t<tr><th scope=row>청결상태</th><td>0.8660978</td><td>-0.1407058</td></tr>\n",
       "\t<tr><th scope=row>음식량</th><td>0.1782918</td><td> 0.8383694</td></tr>\n",
       "\t<tr><th scope=row>대기시간</th><td>0.8190389</td><td>-0.2231518</td></tr>\n",
       "\t<tr><th scope=row>음식맛</th><td>0.4576541</td><td> 0.6782263</td></tr>\n",
       "\t<tr><th scope=row>친절도</th><td>0.8725927</td><td>-0.1778979</td></tr>\n",
       "</tbody>\n",
       "</table>\n"
      ],
      "text/latex": [
       "A matrix: 5 × 2 of type dbl\n",
       "\\begin{tabular}{r|ll}\n",
       "  & PC1 & PC2\\\\\n",
       "\\hline\n",
       "\t청결상태 & 0.8660978 & -0.1407058\\\\\n",
       "\t음식량 & 0.1782918 &  0.8383694\\\\\n",
       "\t대기시간 & 0.8190389 & -0.2231518\\\\\n",
       "\t음식맛 & 0.4576541 &  0.6782263\\\\\n",
       "\t친절도 & 0.8725927 & -0.1778979\\\\\n",
       "\\end{tabular}\n"
      ],
      "text/markdown": [
       "\n",
       "A matrix: 5 × 2 of type dbl\n",
       "\n",
       "| <!--/--> | PC1 | PC2 |\n",
       "|---|---|---|\n",
       "| 청결상태 | 0.8660978 | -0.1407058 |\n",
       "| 음식량 | 0.1782918 |  0.8383694 |\n",
       "| 대기시간 | 0.8190389 | -0.2231518 |\n",
       "| 음식맛 | 0.4576541 |  0.6782263 |\n",
       "| 친절도 | 0.8725927 | -0.1778979 |\n",
       "\n"
      ],
      "text/plain": [
       "         PC1       PC2       \n",
       "청결상태 0.8660978 -0.1407058\n",
       "음식량   0.1782918  0.8383694\n",
       "대기시간 0.8190389 -0.2231518\n",
       "음식맛   0.4576541  0.6782263\n",
       "친절도   0.8725927 -0.1778979"
      ]
     },
     "metadata": {},
     "output_type": "display_data"
    }
   ],
   "source": [
    "a %*% r"
   ]
  },
  {
   "attachments": {},
   "cell_type": "markdown",
   "metadata": {},
   "source": [
    "* pc$rotation의 성분에 고윳값을 곱한 벡터가 pca$loadings이다."
   ]
  },
  {
   "attachments": {},
   "cell_type": "markdown",
   "metadata": {},
   "source": [
    "#### 3.3 Varimax 회전"
   ]
  },
  {
   "cell_type": "code",
   "execution_count": 19,
   "metadata": {
    "vscode": {
     "languageId": "r"
    }
   },
   "outputs": [],
   "source": [
    "pca <- principal(df,nfactors=2,rotate=\"varimax\") #"
   ]
  },
  {
   "cell_type": "code",
   "execution_count": 20,
   "metadata": {
    "vscode": {
     "languageId": "r"
    }
   },
   "outputs": [
    {
     "data": {
      "text/html": [
       "<style>\n",
       ".dl-inline {width: auto; margin:0; padding: 0}\n",
       ".dl-inline>dt, .dl-inline>dd {float: none; width: auto; display: inline-block}\n",
       ".dl-inline>dt::after {content: \":\\0020\"; padding-right: .5ex}\n",
       ".dl-inline>dt:not(:first-of-type) {padding-left: .5ex}\n",
       "</style><dl class=dl-inline><dt>청결상태</dt><dd>0.769923543562867</dd><dt>음식량</dt><dd>0.73465122740592</dd><dt>대기시간</dt><dd>0.720621493679974</dd><dt>음식맛</dt><dd>0.669438201126825</dd><dt>친절도</dt><dd>0.793065683143675</dd></dl>\n"
      ],
      "text/latex": [
       "\\begin{description*}\n",
       "\\item[청결상태] 0.769923543562867\n",
       "\\item[음식량] 0.73465122740592\n",
       "\\item[대기시간] 0.720621493679974\n",
       "\\item[음식맛] 0.669438201126825\n",
       "\\item[친절도] 0.793065683143675\n",
       "\\end{description*}\n"
      ],
      "text/markdown": [
       "청결상태\n",
       ":   0.769923543562867음식량\n",
       ":   0.73465122740592대기시간\n",
       ":   0.720621493679974음식맛\n",
       ":   0.669438201126825친절도\n",
       ":   0.793065683143675\n",
       "\n"
      ],
      "text/plain": [
       " 청결상태    음식량  대기시간    음식맛    친절도 \n",
       "0.7699235 0.7346512 0.7206215 0.6694382 0.7930657 "
      ]
     },
     "metadata": {},
     "output_type": "display_data"
    }
   ],
   "source": [
    "pca$communality"
   ]
  },
  {
   "cell_type": "code",
   "execution_count": 21,
   "metadata": {
    "vscode": {
     "languageId": "r"
    }
   },
   "outputs": [
    {
     "data": {
      "text/html": [
       "<style>\n",
       ".dl-inline {width: auto; margin:0; padding: 0}\n",
       ".dl-inline>dt, .dl-inline>dd {float: none; width: auto; display: inline-block}\n",
       ".dl-inline>dt::after {content: \":\\0020\"; padding-right: .5ex}\n",
       ".dl-inline>dt:not(:first-of-type) {padding-left: .5ex}\n",
       "</style><dl class=dl-inline><dt>청결상태</dt><dd>0.769923543562867</dd><dt>음식량</dt><dd>0.73465122740592</dd><dt>대기시간</dt><dd>0.720621493679974</dd><dt>음식맛</dt><dd>0.669438201126825</dd><dt>친절도</dt><dd>0.793065683143675</dd></dl>\n"
      ],
      "text/latex": [
       "\\begin{description*}\n",
       "\\item[청결상태] 0.769923543562867\n",
       "\\item[음식량] 0.73465122740592\n",
       "\\item[대기시간] 0.720621493679974\n",
       "\\item[음식맛] 0.669438201126825\n",
       "\\item[친절도] 0.793065683143675\n",
       "\\end{description*}\n"
      ],
      "text/markdown": [
       "청결상태\n",
       ":   0.769923543562867음식량\n",
       ":   0.73465122740592대기시간\n",
       ":   0.720621493679974음식맛\n",
       ":   0.669438201126825친절도\n",
       ":   0.793065683143675\n",
       "\n"
      ],
      "text/plain": [
       " 청결상태    음식량  대기시간    음식맛    친절도 \n",
       "0.7699235 0.7346512 0.7206215 0.6694382 0.7930657 "
      ]
     },
     "metadata": {},
     "output_type": "display_data"
    }
   ],
   "source": [
    "rowSums(pca$loadings^2)"
   ]
  },
  {
   "cell_type": "code",
   "execution_count": 22,
   "metadata": {
    "vscode": {
     "languageId": "r"
    }
   },
   "outputs": [
    {
     "data": {
      "text/html": [
       "<table class=\"dataframe\">\n",
       "<caption>A matrix: 2 × 2 of type dbl</caption>\n",
       "<thead>\n",
       "\t<tr><th></th><th scope=col>PC1</th><th scope=col>PC2</th></tr>\n",
       "</thead>\n",
       "<tbody>\n",
       "\t<tr><th scope=row>PC1</th><td>-1.487885e+00</td><td> 2.542639e-17</td></tr>\n",
       "\t<tr><th scope=row>PC2</th><td>-1.836302e-17</td><td>-1.074555e+00</td></tr>\n",
       "</tbody>\n",
       "</table>\n"
      ],
      "text/latex": [
       "A matrix: 2 × 2 of type dbl\n",
       "\\begin{tabular}{r|ll}\n",
       "  & PC1 & PC2\\\\\n",
       "\\hline\n",
       "\tPC1 & -1.487885e+00 &  2.542639e-17\\\\\n",
       "\tPC2 & -1.836302e-17 & -1.074555e+00\\\\\n",
       "\\end{tabular}\n"
      ],
      "text/markdown": [
       "\n",
       "A matrix: 2 × 2 of type dbl\n",
       "\n",
       "| <!--/--> | PC1 | PC2 |\n",
       "|---|---|---|\n",
       "| PC1 | -1.487885e+00 |  2.542639e-17 |\n",
       "| PC2 | -1.836302e-17 | -1.074555e+00 |\n",
       "\n"
      ],
      "text/plain": [
       "    PC1           PC2          \n",
       "PC1 -1.487885e+00  2.542639e-17\n",
       "PC2 -1.836302e-17 -1.074555e+00"
      ]
     },
     "metadata": {},
     "output_type": "display_data"
    }
   ],
   "source": [
    "a = as.matrix(pc$rotation[,1:2])\n",
    "b = as.matrix(pca$loadings[,])\n",
    "r <- solve(t(a) %*% a) * (t(a) %*% b[,1:2])\n",
    "r"
   ]
  },
  {
   "cell_type": "code",
   "execution_count": 23,
   "metadata": {
    "vscode": {
     "languageId": "r"
    }
   },
   "outputs": [
    {
     "data": {
      "text/html": [
       "<table class=\"dataframe\">\n",
       "<caption>A matrix: 5 × 2 of type dbl</caption>\n",
       "<thead>\n",
       "\t<tr><th></th><th scope=col>PC1</th><th scope=col>PC2</th></tr>\n",
       "</thead>\n",
       "<tbody>\n",
       "\t<tr><th scope=row>청결상태</th><td>0.8277621</td><td>-0.1344778</td></tr>\n",
       "\t<tr><th scope=row>음식량</th><td>0.1704002</td><td> 0.8012610</td></tr>\n",
       "\t<tr><th scope=row>대기시간</th><td>0.7827861</td><td>-0.2132745</td></tr>\n",
       "\t<tr><th scope=row>음식맛</th><td>0.4373971</td><td> 0.6482063</td></tr>\n",
       "\t<tr><th scope=row>친절도</th><td>0.8339695</td><td>-0.1700237</td></tr>\n",
       "</tbody>\n",
       "</table>\n"
      ],
      "text/latex": [
       "A matrix: 5 × 2 of type dbl\n",
       "\\begin{tabular}{r|ll}\n",
       "  & PC1 & PC2\\\\\n",
       "\\hline\n",
       "\t청결상태 & 0.8277621 & -0.1344778\\\\\n",
       "\t음식량 & 0.1704002 &  0.8012610\\\\\n",
       "\t대기시간 & 0.7827861 & -0.2132745\\\\\n",
       "\t음식맛 & 0.4373971 &  0.6482063\\\\\n",
       "\t친절도 & 0.8339695 & -0.1700237\\\\\n",
       "\\end{tabular}\n"
      ],
      "text/markdown": [
       "\n",
       "A matrix: 5 × 2 of type dbl\n",
       "\n",
       "| <!--/--> | PC1 | PC2 |\n",
       "|---|---|---|\n",
       "| 청결상태 | 0.8277621 | -0.1344778 |\n",
       "| 음식량 | 0.1704002 |  0.8012610 |\n",
       "| 대기시간 | 0.7827861 | -0.2132745 |\n",
       "| 음식맛 | 0.4373971 |  0.6482063 |\n",
       "| 친절도 | 0.8339695 | -0.1700237 |\n",
       "\n"
      ],
      "text/plain": [
       "         PC1       PC2       \n",
       "청결상태 0.8277621 -0.1344778\n",
       "음식량   0.1704002  0.8012610\n",
       "대기시간 0.7827861 -0.2132745\n",
       "음식맛   0.4373971  0.6482063\n",
       "친절도   0.8339695 -0.1700237"
      ]
     },
     "metadata": {},
     "output_type": "display_data"
    }
   ],
   "source": [
    "a %*% r"
   ]
  },
  {
   "cell_type": "code",
   "execution_count": 24,
   "metadata": {
    "vscode": {
     "languageId": "r"
    }
   },
   "outputs": [
    {
     "data": {
      "text/html": [
       "<table class=\"dataframe\">\n",
       "<caption>A matrix: 5 × 2 of type dbl</caption>\n",
       "<thead>\n",
       "\t<tr><th></th><th scope=col>RC1</th><th scope=col>RC2</th></tr>\n",
       "</thead>\n",
       "<tbody>\n",
       "\t<tr><th scope=row>청결상태</th><td> 0.86916069</td><td>0.12034634</td></tr>\n",
       "\t<tr><th scope=row>음식량</th><td>-0.07626574</td><td>0.85371820</td></tr>\n",
       "\t<tr><th scope=row>대기시간</th><td> 0.84844209</td><td>0.02770395</td></tr>\n",
       "\t<tr><th scope=row>음식맛</th><td> 0.23784871</td><td>0.78285771</td></tr>\n",
       "\t<tr><th scope=row>친절도</th><td> 0.88631079</td><td>0.08671142</td></tr>\n",
       "</tbody>\n",
       "</table>\n"
      ],
      "text/latex": [
       "A matrix: 5 × 2 of type dbl\n",
       "\\begin{tabular}{r|ll}\n",
       "  & RC1 & RC2\\\\\n",
       "\\hline\n",
       "\t청결상태 &  0.86916069 & 0.12034634\\\\\n",
       "\t음식량 & -0.07626574 & 0.85371820\\\\\n",
       "\t대기시간 &  0.84844209 & 0.02770395\\\\\n",
       "\t음식맛 &  0.23784871 & 0.78285771\\\\\n",
       "\t친절도 &  0.88631079 & 0.08671142\\\\\n",
       "\\end{tabular}\n"
      ],
      "text/markdown": [
       "\n",
       "A matrix: 5 × 2 of type dbl\n",
       "\n",
       "| <!--/--> | RC1 | RC2 |\n",
       "|---|---|---|\n",
       "| 청결상태 |  0.86916069 | 0.12034634 |\n",
       "| 음식량 | -0.07626574 | 0.85371820 |\n",
       "| 대기시간 |  0.84844209 | 0.02770395 |\n",
       "| 음식맛 |  0.23784871 | 0.78285771 |\n",
       "| 친절도 |  0.88631079 | 0.08671142 |\n",
       "\n"
      ],
      "text/plain": [
       "         RC1         RC2       \n",
       "청결상태  0.86916069 0.12034634\n",
       "음식량   -0.07626574 0.85371820\n",
       "대기시간  0.84844209 0.02770395\n",
       "음식맛    0.23784871 0.78285771\n",
       "친절도    0.88631079 0.08671142"
      ]
     },
     "metadata": {},
     "output_type": "display_data"
    }
   ],
   "source": [
    "b"
   ]
  },
  {
   "attachments": {},
   "cell_type": "markdown",
   "metadata": {},
   "source": [
    "#### 3.4 적재치"
   ]
  },
  {
   "cell_type": "code",
   "execution_count": 25,
   "metadata": {
    "vscode": {
     "languageId": "r"
    }
   },
   "outputs": [
    {
     "data": {
      "text/html": [
       "<style>\n",
       ".dl-inline {width: auto; margin:0; padding: 0}\n",
       ".dl-inline>dt, .dl-inline>dd {float: none; width: auto; display: inline-block}\n",
       ".dl-inline>dt::after {content: \":\\0020\"; padding-right: .5ex}\n",
       ".dl-inline>dt:not(:first-of-type) {padding-left: .5ex}\n",
       "</style><dl class=dl-inline><dt>RC1</dt><dd>2.32322957197017</dd><dt>RC2</dt><dd>1.36447057694909</dd></dl>\n"
      ],
      "text/latex": [
       "\\begin{description*}\n",
       "\\item[RC1] 2.32322957197017\n",
       "\\item[RC2] 1.36447057694909\n",
       "\\end{description*}\n"
      ],
      "text/markdown": [
       "RC1\n",
       ":   2.32322957197017RC2\n",
       ":   1.36447057694909\n",
       "\n"
      ],
      "text/plain": [
       "     RC1      RC2 \n",
       "2.323230 1.364471 "
      ]
     },
     "metadata": {},
     "output_type": "display_data"
    }
   ],
   "source": [
    "colSums(pca$loadings^2)"
   ]
  },
  {
   "attachments": {},
   "cell_type": "markdown",
   "metadata": {},
   "source": [
    "#### 3.5 성분행렬"
   ]
  },
  {
   "cell_type": "code",
   "execution_count": 26,
   "metadata": {
    "vscode": {
     "languageId": "r"
    }
   },
   "outputs": [
    {
     "data": {
      "text/html": [
       "<table class=\"dataframe\">\n",
       "<caption>A matrix: 5 × 2 of type dbl</caption>\n",
       "<thead>\n",
       "\t<tr><th></th><th scope=col>RC1</th><th scope=col>RC2</th></tr>\n",
       "</thead>\n",
       "<tbody>\n",
       "\t<tr><th scope=row>청결상태</th><td> 0.86916069</td><td>0.12034634</td></tr>\n",
       "\t<tr><th scope=row>음식량</th><td>-0.07626574</td><td>0.85371820</td></tr>\n",
       "\t<tr><th scope=row>대기시간</th><td> 0.84844209</td><td>0.02770395</td></tr>\n",
       "\t<tr><th scope=row>음식맛</th><td> 0.23784871</td><td>0.78285771</td></tr>\n",
       "\t<tr><th scope=row>친절도</th><td> 0.88631079</td><td>0.08671142</td></tr>\n",
       "</tbody>\n",
       "</table>\n"
      ],
      "text/latex": [
       "A matrix: 5 × 2 of type dbl\n",
       "\\begin{tabular}{r|ll}\n",
       "  & RC1 & RC2\\\\\n",
       "\\hline\n",
       "\t청결상태 &  0.86916069 & 0.12034634\\\\\n",
       "\t음식량 & -0.07626574 & 0.85371820\\\\\n",
       "\t대기시간 &  0.84844209 & 0.02770395\\\\\n",
       "\t음식맛 &  0.23784871 & 0.78285771\\\\\n",
       "\t친절도 &  0.88631079 & 0.08671142\\\\\n",
       "\\end{tabular}\n"
      ],
      "text/markdown": [
       "\n",
       "A matrix: 5 × 2 of type dbl\n",
       "\n",
       "| <!--/--> | RC1 | RC2 |\n",
       "|---|---|---|\n",
       "| 청결상태 |  0.86916069 | 0.12034634 |\n",
       "| 음식량 | -0.07626574 | 0.85371820 |\n",
       "| 대기시간 |  0.84844209 | 0.02770395 |\n",
       "| 음식맛 |  0.23784871 | 0.78285771 |\n",
       "| 친절도 |  0.88631079 | 0.08671142 |\n",
       "\n"
      ],
      "text/plain": [
       "         RC1         RC2       \n",
       "청결상태  0.86916069 0.12034634\n",
       "음식량   -0.07626574 0.85371820\n",
       "대기시간  0.84844209 0.02770395\n",
       "음식맛    0.23784871 0.78285771\n",
       "친절도    0.88631079 0.08671142"
      ]
     },
     "metadata": {},
     "output_type": "display_data"
    }
   ],
   "source": [
    "pca$loadings[,]"
   ]
  },
  {
   "attachments": {},
   "cell_type": "markdown",
   "metadata": {},
   "source": [
    "#### 3.6 cronbach alpha"
   ]
  },
  {
   "cell_type": "code",
   "execution_count": 27,
   "metadata": {
    "vscode": {
     "languageId": "r"
    }
   },
   "outputs": [
    {
     "name": "stderr",
     "output_type": "stream",
     "text": [
      "Loading required package: MASS\n",
      "\n",
      "Loading required package: msm\n",
      "\n",
      "Loading required package: polycor\n",
      "\n",
      "\n",
      "Attaching package: ‘polycor’\n",
      "\n",
      "\n",
      "The following object is masked from ‘package:psych’:\n",
      "\n",
      "    polyserial\n",
      "\n",
      "\n",
      "\n",
      "Attaching package: ‘ltm’\n",
      "\n",
      "\n",
      "The following object is masked from ‘package:psych’:\n",
      "\n",
      "    factor.scores\n",
      "\n",
      "\n"
     ]
    }
   ],
   "source": [
    "library(ltm)"
   ]
  },
  {
   "cell_type": "code",
   "execution_count": 28,
   "metadata": {
    "vscode": {
     "languageId": "r"
    }
   },
   "outputs": [
    {
     "data": {
      "text/plain": [
       "\n",
       "Cronbach's alpha for the 'df[, c(1, 3, 5)]' data-set\n",
       "\n",
       "Items: 3\n",
       "Sample units: 25\n",
       "alpha: 0.845\n"
      ]
     },
     "metadata": {},
     "output_type": "display_data"
    }
   ],
   "source": [
    "cronbach.alpha(df[,c(1,3,5)])"
   ]
  },
  {
   "cell_type": "code",
   "execution_count": 29,
   "metadata": {
    "vscode": {
     "languageId": "r"
    }
   },
   "outputs": [
    {
     "data": {
      "text/plain": [
       "\n",
       "Cronbach's alpha for the 'df[, c(2, 4)]' data-set\n",
       "\n",
       "Items: 2\n",
       "Sample units: 25\n",
       "alpha: 0.511\n"
      ]
     },
     "metadata": {},
     "output_type": "display_data"
    }
   ],
   "source": [
    "cronbach.alpha(df[,c(2,4)])"
   ]
  },
  {
   "cell_type": "code",
   "execution_count": null,
   "metadata": {
    "vscode": {
     "languageId": "r"
    }
   },
   "outputs": [],
   "source": []
  }
 ],
 "metadata": {
  "kernelspec": {
   "display_name": "R",
   "language": "R",
   "name": "ir"
  },
  "language_info": {
   "codemirror_mode": "r",
   "file_extension": ".r",
   "mimetype": "text/x-r-source",
   "name": "R",
   "pygments_lexer": "r",
   "version": "3.6.3"
  },
  "orig_nbformat": 4
 },
 "nbformat": 4,
 "nbformat_minor": 2
}

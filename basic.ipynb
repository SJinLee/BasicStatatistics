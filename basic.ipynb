{
 "cells": [
  {
   "cell_type": "code",
   "execution_count": 11,
   "id": "7fd60edf-7be4-49d1-a07f-a2686103b25b",
   "metadata": {
    "tags": []
   },
   "outputs": [],
   "source": [
    "library(lm.beta)"
   ]
  },
  {
   "cell_type": "code",
   "execution_count": 12,
   "id": "daf79081-59e9-4f43-bff7-749f76f48a55",
   "metadata": {
    "tags": []
   },
   "outputs": [],
   "source": [
    "a <- read.csv('csv/ques.csv')"
   ]
  },
  {
   "cell_type": "code",
   "execution_count": 14,
   "id": "77db575f-7398-4d27-82c8-3c3a531bfc74",
   "metadata": {
    "tags": []
   },
   "outputs": [
    {
     "data": {
      "text/plain": [
       "\n",
       "남 여 \n",
       "11  9 "
      ]
     },
     "metadata": {},
     "output_type": "display_data"
    }
   ],
   "source": [
    "items <- c('남','여')\n",
    "a$문1 <- as.factor(a$문1)\n",
    "levels(a$문1) <- items\n",
    "b <- table(a$문1)\n",
    "b"
   ]
  },
  {
   "cell_type": "code",
   "execution_count": 16,
   "id": "dc8915e3-a7bc-48e9-a0c1-316ee0a29ade",
   "metadata": {
    "tags": []
   },
   "outputs": [
    {
     "data": {
      "text/plain": [
       "\n",
       "남 여 \n",
       "55 45 "
      ]
     },
     "metadata": {},
     "output_type": "display_data"
    }
   ],
   "source": [
    "b / sum(b) * 100"
   ]
  },
  {
   "cell_type": "code",
   "execution_count": null,
   "id": "54ea2c6f-32a8-40df-afaf-392613d01b9e",
   "metadata": {},
   "outputs": [],
   "source": []
  }
 ],
 "metadata": {
  "kernelspec": {
   "display_name": "R",
   "language": "R",
   "name": "ir"
  },
  "language_info": {
   "codemirror_mode": "r",
   "file_extension": ".r",
   "mimetype": "text/x-r-source",
   "name": "R",
   "pygments_lexer": "r",
   "version": "3.6.3"
  }
 },
 "nbformat": 4,
 "nbformat_minor": 5
}

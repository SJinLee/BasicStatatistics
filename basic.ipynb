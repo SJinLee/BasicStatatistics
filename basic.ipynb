{
  "cells": [
    {
      "cell_type": "markdown",
      "metadata": {
        "id": "view-in-github",
        "colab_type": "text"
      },
      "source": [
        "<a href=\"https://colab.research.google.com/github/SJinLee/BasicStats/blob/main/basic.ipynb\" target=\"_parent\"><img src=\"https://colab.research.google.com/assets/colab-badge.svg\" alt=\"Open In Colab\"/></a>"
      ]
    },
    {
      "cell_type": "code",
      "source": [
        "install.packages('lm.beta')"
      ],
      "metadata": {
        "id": "3ao_AHbvPItW",
        "outputId": "b923fc07-62b5-416a-d45b-4440f865eeb9",
        "colab": {
          "base_uri": "https://localhost:8080/"
        }
      },
      "id": "3ao_AHbvPItW",
      "execution_count": 2,
      "outputs": [
        {
          "output_type": "stream",
          "name": "stderr",
          "text": [
            "Installing package into ‘/usr/local/lib/R/site-library’\n",
            "(as ‘lib’ is unspecified)\n",
            "\n",
            "also installing the dependency ‘xtable’\n",
            "\n",
            "\n"
          ]
        }
      ]
    },
    {
      "cell_type": "code",
      "execution_count": 3,
      "id": "7fd60edf-7be4-49d1-a07f-a2686103b25b",
      "metadata": {
        "id": "7fd60edf-7be4-49d1-a07f-a2686103b25b",
        "tags": [],
        "vscode": {
          "languageId": "r"
        }
      },
      "outputs": [],
      "source": [
        "library(lm.beta)"
      ]
    },
    {
      "cell_type": "code",
      "execution_count": 4,
      "id": "daf79081-59e9-4f43-bff7-749f76f48a55",
      "metadata": {
        "id": "daf79081-59e9-4f43-bff7-749f76f48a55",
        "tags": [],
        "vscode": {
          "languageId": "r"
        }
      },
      "outputs": [],
      "source": [
        "a <- read.csv('csv/ques.csv')"
      ]
    },
    {
      "cell_type": "code",
      "execution_count": 5,
      "id": "33b9cc88",
      "metadata": {
        "vscode": {
          "languageId": "r"
        },
        "id": "33b9cc88",
        "outputId": "14ef03cf-3c3e-40cd-b634-c53af2e7efb7",
        "colab": {
          "base_uri": "https://localhost:8080/",
          "height": 34
        }
      },
      "outputs": [
        {
          "output_type": "display_data",
          "data": {
            "text/html": [
              "<style>\n",
              ".list-inline {list-style: none; margin:0; padding: 0}\n",
              ".list-inline>li {display: inline-block}\n",
              ".list-inline>li:not(:last-child)::after {content: \"\\00b7\"; padding: 0 .5ex}\n",
              "</style>\n",
              "<ol class=list-inline><li>'연번'</li><li>'문1'</li><li>'문2'</li><li>'문3'</li><li>'문4'</li><li>'문5'</li></ol>\n"
            ],
            "text/markdown": "1. '연번'\n2. '문1'\n3. '문2'\n4. '문3'\n5. '문4'\n6. '문5'\n\n\n",
            "text/latex": "\\begin{enumerate*}\n\\item '연번'\n\\item '문1'\n\\item '문2'\n\\item '문3'\n\\item '문4'\n\\item '문5'\n\\end{enumerate*}\n",
            "text/plain": [
              "[1] \"연번\" \"문1\"  \"문2\"  \"문3\"  \"문4\"  \"문5\" "
            ]
          },
          "metadata": {}
        }
      ],
      "source": [
        "colnames(a)"
      ]
    },
    {
      "cell_type": "code",
      "execution_count": 6,
      "id": "1133c1a6",
      "metadata": {
        "vscode": {
          "languageId": "r"
        },
        "id": "1133c1a6",
        "outputId": "84bc2c59-35da-4f06-aab3-79948dd6cd20",
        "colab": {
          "base_uri": "https://localhost:8080/"
        }
      },
      "outputs": [
        {
          "output_type": "stream",
          "name": "stdout",
          "text": [
            "'data.frame':\t20 obs. of  6 variables:\n",
            " $ 연번: int  1 2 3 4 5 6 7 8 9 10 ...\n",
            " $ 문1 : int  2 1 1 2 2 2 1 1 1 1 ...\n",
            " $ 문2 : int  2 2 3 1 4 4 3 2 3 4 ...\n",
            " $ 문3 : int  1 2 1 3 2 1 3 4 3 1 ...\n",
            " $ 문4 : int  2 1 2 3 4 2 3 2 2 3 ...\n",
            " $ 문5 : int  3 4 3 2 5 4 3 1 2 5 ...\n"
          ]
        }
      ],
      "source": [
        "str(a)"
      ]
    },
    {
      "cell_type": "markdown",
      "id": "d9d5a1c9",
      "metadata": {
        "id": "d9d5a1c9"
      },
      "source": [
        "* \"문1\"을 factor type으로 변환하고 level을 '남', '여'로 설정"
      ]
    },
    {
      "cell_type": "code",
      "execution_count": 7,
      "id": "77db575f-7398-4d27-82c8-3c3a531bfc74",
      "metadata": {
        "id": "77db575f-7398-4d27-82c8-3c3a531bfc74",
        "tags": [],
        "vscode": {
          "languageId": "r"
        }
      },
      "outputs": [],
      "source": [
        "items <- c('남','여')\n",
        "a$문1 <- as.factor(a$문1)\n",
        "levels(a$문1) <- items"
      ]
    },
    {
      "cell_type": "markdown",
      "id": "f1673599",
      "metadata": {
        "id": "f1673599"
      },
      "source": [
        "* 문1의 돗수"
      ]
    },
    {
      "cell_type": "code",
      "execution_count": 8,
      "id": "ba3251a2",
      "metadata": {
        "vscode": {
          "languageId": "r"
        },
        "id": "ba3251a2",
        "outputId": "6b9b69fb-7055-4924-92dc-9029c30ed8a3",
        "colab": {
          "base_uri": "https://localhost:8080/",
          "height": 72
        }
      },
      "outputs": [
        {
          "output_type": "display_data",
          "data": {
            "text/plain": [
              "\n",
              "남 여 \n",
              "11  9 "
            ]
          },
          "metadata": {}
        }
      ],
      "source": [
        "b <- table(a$문1)\n",
        "b"
      ]
    },
    {
      "cell_type": "markdown",
      "id": "d130b21c",
      "metadata": {
        "id": "d130b21c"
      },
      "source": [
        "* 문1의 비율(%)"
      ]
    },
    {
      "cell_type": "code",
      "execution_count": 9,
      "id": "dc8915e3-a7bc-48e9-a0c1-316ee0a29ade",
      "metadata": {
        "id": "dc8915e3-a7bc-48e9-a0c1-316ee0a29ade",
        "outputId": "e5aa7c10-ebd0-4ad3-ada0-86f19c03d803",
        "tags": [],
        "vscode": {
          "languageId": "r"
        },
        "colab": {
          "base_uri": "https://localhost:8080/",
          "height": 72
        }
      },
      "outputs": [
        {
          "output_type": "display_data",
          "data": {
            "text/plain": [
              "\n",
              "남 여 \n",
              "55 45 "
            ]
          },
          "metadata": {}
        }
      ],
      "source": [
        "b / sum(b) * 100"
      ]
    },
    {
      "cell_type": "markdown",
      "id": "2ed3e247-c767-41bf-abbe-c9873719eee3",
      "metadata": {
        "id": "2ed3e247-c767-41bf-abbe-c9873719eee3"
      },
      "source": [
        "* 회귀분석"
      ]
    },
    {
      "cell_type": "code",
      "execution_count": 10,
      "id": "eb55e61d-821e-42f6-9ce8-7b369fcb7b27",
      "metadata": {
        "id": "eb55e61d-821e-42f6-9ce8-7b369fcb7b27",
        "tags": [],
        "vscode": {
          "languageId": "r"
        }
      },
      "outputs": [],
      "source": [
        "library(lm.beta)"
      ]
    },
    {
      "cell_type": "code",
      "execution_count": 13,
      "id": "54ea2c6f-32a8-40df-afaf-392613d01b9e",
      "metadata": {
        "id": "54ea2c6f-32a8-40df-afaf-392613d01b9e",
        "vscode": {
          "languageId": "r"
        }
      },
      "outputs": [],
      "source": [
        "df <- read.csv('csv/salary.csv')"
      ]
    },
    {
      "cell_type": "code",
      "execution_count": 14,
      "id": "0b718e6d",
      "metadata": {
        "vscode": {
          "languageId": "r"
        },
        "id": "0b718e6d",
        "outputId": "44fa9386-1f31-4d86-fc00-7e5b4b5d5e9f",
        "colab": {
          "base_uri": "https://localhost:8080/"
        }
      },
      "outputs": [
        {
          "output_type": "stream",
          "name": "stdout",
          "text": [
            "'data.frame':\t10 obs. of  4 variables:\n",
            " $ 구분          : int  1 2 3 4 5 6 7 8 9 10\n",
            " $ 월.지출.만.원.: int  50 53 60 61 65 68 70 72 72 75\n",
            " $ 월급.만.원.   : int  82 85 88 90 95 98 101 105 108 112\n",
            " $ 재산.만.원.   : int  1600 1620 1660 1700 1750 1770 1810 1820 1850 1880\n"
          ]
        }
      ],
      "source": [
        "str(df)"
      ]
    },
    {
      "cell_type": "code",
      "execution_count": 15,
      "id": "6bf5dda8-0793-4442-8d6f-22c4a244321a",
      "metadata": {
        "id": "6bf5dda8-0793-4442-8d6f-22c4a244321a",
        "outputId": "8ce8baac-b833-4f0c-e788-c68b033b4313",
        "tags": [],
        "vscode": {
          "languageId": "r"
        },
        "colab": {
          "base_uri": "https://localhost:8080/",
          "height": 34
        }
      },
      "outputs": [
        {
          "output_type": "display_data",
          "data": {
            "text/html": [
              "<style>\n",
              ".list-inline {list-style: none; margin:0; padding: 0}\n",
              ".list-inline>li {display: inline-block}\n",
              ".list-inline>li:not(:last-child)::after {content: \"\\00b7\"; padding: 0 .5ex}\n",
              "</style>\n",
              "<ol class=list-inline><li>'구분'</li><li>'월.지출.만.원.'</li><li>'월급.만.원.'</li><li>'재산.만.원.'</li></ol>\n"
            ],
            "text/markdown": "1. '구분'\n2. '월.지출.만.원.'\n3. '월급.만.원.'\n4. '재산.만.원.'\n\n\n",
            "text/latex": "\\begin{enumerate*}\n\\item '구분'\n\\item '월.지출.만.원.'\n\\item '월급.만.원.'\n\\item '재산.만.원.'\n\\end{enumerate*}\n",
            "text/plain": [
              "[1] \"구분\"           \"월.지출.만.원.\" \"월급.만.원.\"    \"재산.만.원.\"   "
            ]
          },
          "metadata": {}
        }
      ],
      "source": [
        "colnames(df)"
      ]
    },
    {
      "cell_type": "markdown",
      "id": "cb29e34a",
      "metadata": {
        "id": "cb29e34a"
      },
      "source": [
        "* 독립변수: 월급\n",
        "* 종속변수: 월 지출"
      ]
    },
    {
      "cell_type": "code",
      "execution_count": 16,
      "id": "376742aa-09be-4f15-9717-94c1b278bd25",
      "metadata": {
        "id": "376742aa-09be-4f15-9717-94c1b278bd25",
        "tags": [],
        "vscode": {
          "languageId": "r"
        }
      },
      "outputs": [],
      "source": [
        "result <- lm.beta(lm('월.지출.만.원.~월급.만.원.',df))"
      ]
    },
    {
      "cell_type": "code",
      "execution_count": 17,
      "id": "07ed085f-2769-49c9-95ba-d14d57816c61",
      "metadata": {
        "id": "07ed085f-2769-49c9-95ba-d14d57816c61",
        "outputId": "b6a3b130-fc06-4ecc-a2dc-2199eedf0fe2",
        "tags": [],
        "vscode": {
          "languageId": "r"
        },
        "colab": {
          "base_uri": "https://localhost:8080/",
          "height": 346
        }
      },
      "outputs": [
        {
          "output_type": "display_data",
          "data": {
            "text/plain": [
              "\n",
              "Call:\n",
              "lm(formula = \"월.지출.만.원.~월급.만.원.\", data = df)\n",
              "\n",
              "Residuals:\n",
              "   Min     1Q Median     3Q    Max \n",
              "-3.010 -2.101  1.003  1.661  2.161 \n",
              "\n",
              "Coefficients:\n",
              "             Estimate Standardized Std. Error t value Pr(>|t|)    \n",
              "(Intercept) -12.98618           NA    7.14523  -1.817    0.107    \n",
              "월급.만.원.   0.80484      0.96801    0.07375  10.912 4.41e-06 ***\n",
              "---\n",
              "Signif. codes:  0 ‘***’ 0.001 ‘**’ 0.01 ‘*’ 0.05 ‘.’ 0.1 ‘ ’ 1\n",
              "\n",
              "Residual standard error: 2.245 on 8 degrees of freedom\n",
              "Multiple R-squared:  0.937,\tAdjusted R-squared:  0.9292 \n",
              "F-statistic: 119.1 on 1 and 8 DF,  p-value: 4.407e-06\n"
            ]
          },
          "metadata": {}
        }
      ],
      "source": [
        "summary(result)"
      ]
    },
    {
      "cell_type": "markdown",
      "id": "ad71d99b",
      "metadata": {
        "id": "ad71d99b"
      },
      "source": [
        "* 오차"
      ]
    },
    {
      "cell_type": "code",
      "execution_count": 18,
      "id": "a14399f5-1f1f-465a-ad20-3da66264f02b",
      "metadata": {
        "id": "a14399f5-1f1f-465a-ad20-3da66264f02b",
        "tags": [],
        "vscode": {
          "languageId": "r"
        },
        "outputId": "9b20dc38-d200-4819-a6bd-c7c9fe1a02a6",
        "colab": {
          "base_uri": "https://localhost:8080/",
          "height": 34
        }
      },
      "outputs": [
        {
          "output_type": "display_data",
          "data": {
            "text/html": [
              "<style>\n",
              ".list-inline {list-style: none; margin:0; padding: 0}\n",
              ".list-inline>li {display: inline-block}\n",
              ".list-inline>li:not(:last-child)::after {content: \"\\00b7\"; padding: 0 .5ex}\n",
              "</style>\n",
              "<ol class=list-inline><li>-3.01036269430049</li><li>-2.42487046632121</li><li>2.16062176165806</li><li>1.55094991364424</li><li>1.5267702936097</li><li>2.11226252158896</li><li>1.69775474956823</li><li>0.478411053540594</li><li>-1.93609671848013</li><li>-2.15544041450777</li></ol>\n"
            ],
            "text/markdown": "1. -3.01036269430049\n2. -2.42487046632121\n3. 2.16062176165806\n4. 1.55094991364424\n5. 1.5267702936097\n6. 2.11226252158896\n7. 1.69775474956823\n8. 0.478411053540594\n9. -1.93609671848013\n10. -2.15544041450777\n\n\n",
            "text/latex": "\\begin{enumerate*}\n\\item -3.01036269430049\n\\item -2.42487046632121\n\\item 2.16062176165806\n\\item 1.55094991364424\n\\item 1.5267702936097\n\\item 2.11226252158896\n\\item 1.69775474956823\n\\item 0.478411053540594\n\\item -1.93609671848013\n\\item -2.15544041450777\n\\end{enumerate*}\n",
            "text/plain": [
              " [1] -3.0103627 -2.4248705  2.1606218  1.5509499  1.5267703  2.1122625\n",
              " [7]  1.6977547  0.4784111 -1.9360967 -2.1554404"
            ]
          },
          "metadata": {}
        }
      ],
      "source": [
        "error <- df[['월.지출.만.원.']] - df[['월급.만.원.']] * result$coefficients[2] - result$coefficients[1]\n",
        "error"
      ]
    },
    {
      "cell_type": "markdown",
      "id": "259ddbce",
      "metadata": {
        "id": "259ddbce"
      },
      "source": [
        "* 분산"
      ]
    },
    {
      "cell_type": "code",
      "execution_count": 19,
      "id": "32e0ff0c",
      "metadata": {
        "vscode": {
          "languageId": "r"
        },
        "id": "32e0ff0c"
      },
      "outputs": [],
      "source": [
        "x <- df[['월급.만.원.']]"
      ]
    },
    {
      "cell_type": "code",
      "execution_count": 20,
      "id": "fc95e282-21ea-4904-a00f-7e8a8b0f748c",
      "metadata": {
        "id": "fc95e282-21ea-4904-a00f-7e8a8b0f748c",
        "outputId": "a095dfdb-0543-40be-e16b-366140fb22d3",
        "tags": [],
        "vscode": {
          "languageId": "r"
        },
        "colab": {
          "base_uri": "https://localhost:8080/",
          "height": 34
        }
      },
      "outputs": [
        {
          "output_type": "display_data",
          "data": {
            "text/html": [
              "102.933333333333"
            ],
            "text/markdown": "102.933333333333",
            "text/latex": "102.933333333333",
            "text/plain": [
              "[1] 102.9333"
            ]
          },
          "metadata": {}
        }
      ],
      "source": [
        "sum((x-mean(x))^2)/9"
      ]
    },
    {
      "cell_type": "code",
      "execution_count": 21,
      "id": "e98351e6-9be3-4982-b597-15b8b8182cc6",
      "metadata": {
        "id": "e98351e6-9be3-4982-b597-15b8b8182cc6",
        "outputId": "3447a7ea-b195-4d59-ed44-ae5cc892c96a",
        "tags": [],
        "vscode": {
          "languageId": "r"
        },
        "colab": {
          "base_uri": "https://localhost:8080/",
          "height": 34
        }
      },
      "outputs": [
        {
          "output_type": "display_data",
          "data": {
            "text/html": [
              "102.933333333333"
            ],
            "text/markdown": "102.933333333333",
            "text/latex": "102.933333333333",
            "text/plain": [
              "[1] 102.9333"
            ]
          },
          "metadata": {}
        }
      ],
      "source": [
        "var(x)"
      ]
    },
    {
      "cell_type": "markdown",
      "id": "4e4b37b8",
      "metadata": {
        "id": "4e4b37b8"
      },
      "source": [
        "* 월급의 계수의 표준오차"
      ]
    },
    {
      "cell_type": "code",
      "execution_count": 22,
      "id": "c9a2aba2-cb09-4858-a0ba-ad986bb879f8",
      "metadata": {
        "id": "c9a2aba2-cb09-4858-a0ba-ad986bb879f8",
        "outputId": "680d6211-ce9d-460e-a403-23eb3b656e9b",
        "tags": [],
        "vscode": {
          "languageId": "r"
        },
        "colab": {
          "base_uri": "https://localhost:8080/",
          "height": 34
        }
      },
      "outputs": [
        {
          "output_type": "display_data",
          "data": {
            "text/html": [
              "0.0737539838401485"
            ],
            "text/markdown": "0.0737539838401485",
            "text/latex": "0.0737539838401485",
            "text/plain": [
              "[1] 0.07375398"
            ]
          },
          "metadata": {}
        }
      ],
      "source": [
        "sqrt(sum(error^2)/8/sum((x-mean(x))^2))"
      ]
    },
    {
      "cell_type": "markdown",
      "id": "bc04c6af",
      "metadata": {
        "id": "bc04c6af"
      },
      "source": [
        "* Intercept의 표준오차"
      ]
    },
    {
      "cell_type": "code",
      "execution_count": 23,
      "id": "d60d9960-ae67-4013-beb4-7296f0a0da32",
      "metadata": {
        "id": "d60d9960-ae67-4013-beb4-7296f0a0da32",
        "outputId": "24b6d591-c10c-4bc0-c3bb-2b8942c184e1",
        "tags": [],
        "vscode": {
          "languageId": "r"
        },
        "colab": {
          "base_uri": "https://localhost:8080/",
          "height": 34
        }
      },
      "outputs": [
        {
          "output_type": "display_data",
          "data": {
            "text/html": [
              "7.14915186673752"
            ],
            "text/markdown": "7.14915186673752",
            "text/latex": "7.14915186673752",
            "text/plain": [
              "[1] 7.149152"
            ]
          },
          "metadata": {}
        }
      ],
      "source": [
        "sqrt(sum(error^2)/8) * sqrt(1/9+mean(x)^2/sum((x-mean(x))^2))"
      ]
    },
    {
      "cell_type": "code",
      "execution_count": 24,
      "id": "8354e549-2626-4f48-bd09-fa118bdcc242",
      "metadata": {
        "id": "8354e549-2626-4f48-bd09-fa118bdcc242",
        "vscode": {
          "languageId": "r"
        }
      },
      "outputs": [],
      "source": []
    }
  ],
  "metadata": {
    "colab": {
      "provenance": [],
      "include_colab_link": true
    },
    "kernelspec": {
      "display_name": "R",
      "language": "R",
      "name": "ir"
    },
    "language_info": {
      "codemirror_mode": "r",
      "file_extension": ".r",
      "mimetype": "text/x-r-source",
      "name": "R",
      "pygments_lexer": "r",
      "version": "3.6.3"
    }
  },
  "nbformat": 4,
  "nbformat_minor": 5
}
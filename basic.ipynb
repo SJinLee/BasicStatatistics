{
 "cells": [
  {
   "cell_type": "code",
   "execution_count": 11,
   "id": "7fd60edf-7be4-49d1-a07f-a2686103b25b",
   "metadata": {
    "tags": []
   },
   "outputs": [],
   "source": [
    "library(lm.beta)"
   ]
  },
  {
   "cell_type": "code",
   "execution_count": 12,
   "id": "daf79081-59e9-4f43-bff7-749f76f48a55",
   "metadata": {
    "tags": []
   },
   "outputs": [],
   "source": [
    "a <- read.csv('csv/ques.csv')"
   ]
  },
  {
   "cell_type": "code",
   "execution_count": 14,
   "id": "77db575f-7398-4d27-82c8-3c3a531bfc74",
   "metadata": {
    "tags": []
   },
   "outputs": [
    {
     "data": {
      "text/plain": [
       "\n",
       "남 여 \n",
       "11  9 "
      ]
     },
     "metadata": {},
     "output_type": "display_data"
    }
   ],
   "source": [
    "items <- c('남','여')\n",
    "a$문1 <- as.factor(a$문1)\n",
    "levels(a$문1) <- items\n",
    "b <- table(a$문1)\n",
    "b"
   ]
  },
  {
   "cell_type": "code",
   "execution_count": 16,
   "id": "dc8915e3-a7bc-48e9-a0c1-316ee0a29ade",
   "metadata": {
    "tags": []
   },
   "outputs": [
    {
     "data": {
      "text/plain": [
       "\n",
       "남 여 \n",
       "55 45 "
      ]
     },
     "metadata": {},
     "output_type": "display_data"
    }
   ],
   "source": [
    "b / sum(b) * 100"
   ]
  },
  {
   "cell_type": "code",
   "execution_count": null,
   "id": "2ed3e247-c767-41bf-abbe-c9873719eee3",
   "metadata": {},
   "outputs": [],
   "source": []
  },
  {
   "cell_type": "code",
   "execution_count": 6,
   "id": "eb55e61d-821e-42f6-9ce8-7b369fcb7b27",
   "metadata": {
    "tags": []
   },
   "outputs": [],
   "source": [
    "library(lm.beta)"
   ]
  },
  {
   "cell_type": "code",
   "execution_count": 1,
   "id": "54ea2c6f-32a8-40df-afaf-392613d01b9e",
   "metadata": {},
   "outputs": [],
   "source": [
    "df <- read.csv('csv/salary.csv')"
   ]
  },
  {
   "cell_type": "code",
   "execution_count": 2,
   "id": "6bf5dda8-0793-4442-8d6f-22c4a244321a",
   "metadata": {
    "tags": []
   },
   "outputs": [
    {
     "data": {
      "text/html": [
       "<style>\n",
       ".list-inline {list-style: none; margin:0; padding: 0}\n",
       ".list-inline>li {display: inline-block}\n",
       ".list-inline>li:not(:last-child)::after {content: \"\\00b7\"; padding: 0 .5ex}\n",
       "</style>\n",
       "<ol class=list-inline><li>'구분'</li><li>'월.지출.만.원.'</li><li>'월급.만.원.'</li><li>'재산.만.원.'</li></ol>\n"
      ],
      "text/latex": [
       "\\begin{enumerate*}\n",
       "\\item '구분'\n",
       "\\item '월.지출.만.원.'\n",
       "\\item '월급.만.원.'\n",
       "\\item '재산.만.원.'\n",
       "\\end{enumerate*}\n"
      ],
      "text/markdown": [
       "1. '구분'\n",
       "2. '월.지출.만.원.'\n",
       "3. '월급.만.원.'\n",
       "4. '재산.만.원.'\n",
       "\n",
       "\n"
      ],
      "text/plain": [
       "[1] \"구분\"           \"월.지출.만.원.\" \"월급.만.원.\"    \"재산.만.원.\"   "
      ]
     },
     "metadata": {},
     "output_type": "display_data"
    }
   ],
   "source": [
    "colnames(df)"
   ]
  },
  {
   "cell_type": "code",
   "execution_count": 7,
   "id": "376742aa-09be-4f15-9717-94c1b278bd25",
   "metadata": {
    "tags": []
   },
   "outputs": [],
   "source": [
    "result <- lm.beta(lm('월.지출.만.원.~월급.만.원.',df))"
   ]
  },
  {
   "cell_type": "code",
   "execution_count": 8,
   "id": "07ed085f-2769-49c9-95ba-d14d57816c61",
   "metadata": {
    "tags": []
   },
   "outputs": [
    {
     "data": {
      "text/plain": [
       "\n",
       "Call:\n",
       "lm(formula = \"월.지출.만.원.~월급.만.원.\", data = df)\n",
       "\n",
       "Residuals:\n",
       "   Min     1Q Median     3Q    Max \n",
       "-3.010 -2.101  1.003  1.661  2.161 \n",
       "\n",
       "Coefficients:\n",
       "             Estimate Standardized Std. Error t value Pr(>|t|)    \n",
       "(Intercept) -12.98618           NA    7.14523  -1.817    0.107    \n",
       "월급.만.원.   0.80484      0.96801    0.07375  10.912 4.41e-06 ***\n",
       "---\n",
       "Signif. codes:  0 ‘***’ 0.001 ‘**’ 0.01 ‘*’ 0.05 ‘.’ 0.1 ‘ ’ 1\n",
       "\n",
       "Residual standard error: 2.245 on 8 degrees of freedom\n",
       "Multiple R-squared:  0.937,\tAdjusted R-squared:  0.9292 \n",
       "F-statistic: 119.1 on 1 and 8 DF,  p-value: 4.407e-06\n"
      ]
     },
     "metadata": {},
     "output_type": "display_data"
    }
   ],
   "source": [
    "summary(result)"
   ]
  },
  {
   "cell_type": "code",
   "execution_count": 9,
   "id": "a14399f5-1f1f-465a-ad20-3da66264f02b",
   "metadata": {
    "tags": []
   },
   "outputs": [],
   "source": [
    "error <- df[['월.지출.만.원.']] - df[['월급.만.원.']] * result$coefficients[2] - result$coefficients[1]"
   ]
  },
  {
   "cell_type": "code",
   "execution_count": 10,
   "id": "030801a2-8f77-4eb9-901a-c4db75785ec3",
   "metadata": {
    "tags": []
   },
   "outputs": [
    {
     "data": {
      "text/html": [
       "<style>\n",
       ".list-inline {list-style: none; margin:0; padding: 0}\n",
       ".list-inline>li {display: inline-block}\n",
       ".list-inline>li:not(:last-child)::after {content: \"\\00b7\"; padding: 0 .5ex}\n",
       "</style>\n",
       "<ol class=list-inline><li>-3.0103626943005</li><li>-2.42487046632122</li><li>2.16062176165805</li><li>1.55094991364423</li><li>1.52677029360969</li><li>2.11226252158896</li><li>1.69775474956823</li><li>0.478411053540599</li><li>-1.93609671848013</li><li>-2.15544041450776</li></ol>\n"
      ],
      "text/latex": [
       "\\begin{enumerate*}\n",
       "\\item -3.0103626943005\n",
       "\\item -2.42487046632122\n",
       "\\item 2.16062176165805\n",
       "\\item 1.55094991364423\n",
       "\\item 1.52677029360969\n",
       "\\item 2.11226252158896\n",
       "\\item 1.69775474956823\n",
       "\\item 0.478411053540599\n",
       "\\item -1.93609671848013\n",
       "\\item -2.15544041450776\n",
       "\\end{enumerate*}\n"
      ],
      "text/markdown": [
       "1. -3.0103626943005\n",
       "2. -2.42487046632122\n",
       "3. 2.16062176165805\n",
       "4. 1.55094991364423\n",
       "5. 1.52677029360969\n",
       "6. 2.11226252158896\n",
       "7. 1.69775474956823\n",
       "8. 0.478411053540599\n",
       "9. -1.93609671848013\n",
       "10. -2.15544041450776\n",
       "\n",
       "\n"
      ],
      "text/plain": [
       " [1] -3.0103627 -2.4248705  2.1606218  1.5509499  1.5267703  2.1122625\n",
       " [7]  1.6977547  0.4784111 -1.9360967 -2.1554404"
      ]
     },
     "metadata": {},
     "output_type": "display_data"
    }
   ],
   "source": [
    "error"
   ]
  },
  {
   "cell_type": "code",
   "execution_count": 11,
   "id": "69bb21ae-7518-4c2e-b099-745b5507517c",
   "metadata": {
    "tags": []
   },
   "outputs": [],
   "source": [
    "x <- df[['월급.만.원.']]"
   ]
  },
  {
   "cell_type": "code",
   "execution_count": 12,
   "id": "fc95e282-21ea-4904-a00f-7e8a8b0f748c",
   "metadata": {
    "tags": []
   },
   "outputs": [
    {
     "data": {
      "text/html": [
       "102.933333333333"
      ],
      "text/latex": [
       "102.933333333333"
      ],
      "text/markdown": [
       "102.933333333333"
      ],
      "text/plain": [
       "[1] 102.9333"
      ]
     },
     "metadata": {},
     "output_type": "display_data"
    }
   ],
   "source": [
    "sum((x-mean(x))^2)/9"
   ]
  },
  {
   "cell_type": "code",
   "execution_count": 13,
   "id": "e98351e6-9be3-4982-b597-15b8b8182cc6",
   "metadata": {
    "tags": []
   },
   "outputs": [
    {
     "data": {
      "text/html": [
       "102.933333333333"
      ],
      "text/latex": [
       "102.933333333333"
      ],
      "text/markdown": [
       "102.933333333333"
      ],
      "text/plain": [
       "[1] 102.9333"
      ]
     },
     "metadata": {},
     "output_type": "display_data"
    }
   ],
   "source": [
    "var(x)"
   ]
  },
  {
   "cell_type": "code",
   "execution_count": 14,
   "id": "c9a2aba2-cb09-4858-a0ba-ad986bb879f8",
   "metadata": {
    "tags": []
   },
   "outputs": [
    {
     "data": {
      "text/html": [
       "0.0737539838401485"
      ],
      "text/latex": [
       "0.0737539838401485"
      ],
      "text/markdown": [
       "0.0737539838401485"
      ],
      "text/plain": [
       "[1] 0.07375398"
      ]
     },
     "metadata": {},
     "output_type": "display_data"
    }
   ],
   "source": [
    "sqrt(sum(error^2)/8/sum((x-mean(x))^2))"
   ]
  },
  {
   "cell_type": "code",
   "execution_count": 21,
   "id": "d60d9960-ae67-4013-beb4-7296f0a0da32",
   "metadata": {
    "tags": []
   },
   "outputs": [
    {
     "data": {
      "text/html": [
       "7.14915186673752"
      ],
      "text/latex": [
       "7.14915186673752"
      ],
      "text/markdown": [
       "7.14915186673752"
      ],
      "text/plain": [
       "[1] 7.149152"
      ]
     },
     "metadata": {},
     "output_type": "display_data"
    }
   ],
   "source": [
    "sqrt(sum(error^2)/8) * sqrt(1/9+mean(x)^2/sum((x-mean(x))^2))"
   ]
  },
  {
   "cell_type": "code",
   "execution_count": 33,
   "id": "0e4c9600-9671-48bd-bfdb-feaabdde1ece",
   "metadata": {
    "tags": []
   },
   "outputs": [
    {
     "data": {
      "text/html": [
       "2.11645235294162"
      ],
      "text/latex": [
       "2.11645235294162"
      ],
      "text/markdown": [
       "2.11645235294162"
      ],
      "text/plain": [
       "[1] 2.116452"
      ]
     },
     "metadata": {},
     "output_type": "display_data"
    }
   ],
   "source": [
    "sd(intercept)"
   ]
  },
  {
   "cell_type": "code",
   "execution_count": null,
   "id": "8354e549-2626-4f48-bd09-fa118bdcc242",
   "metadata": {},
   "outputs": [],
   "source": []
  }
 ],
 "metadata": {
  "kernelspec": {
   "display_name": "R",
   "language": "R",
   "name": "ir"
  },
  "language_info": {
   "codemirror_mode": "r",
   "file_extension": ".r",
   "mimetype": "text/x-r-source",
   "name": "R",
   "pygments_lexer": "r",
   "version": "3.6.3"
  }
 },
 "nbformat": 4,
 "nbformat_minor": 5
}

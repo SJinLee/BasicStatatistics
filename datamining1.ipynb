{
  "cells": [
    {
      "cell_type": "markdown",
      "metadata": {
        "id": "view-in-github",
        "colab_type": "text"
      },
      "source": [
        "<a href=\"https://colab.research.google.com/github/SJinLee/BasicStats/blob/main/datamining1.ipynb\" target=\"_parent\"><img src=\"https://colab.research.google.com/assets/colab-badge.svg\" alt=\"Open In Colab\"/></a>"
      ]
    },
    {
      "cell_type": "markdown",
      "id": "d55725bc",
      "metadata": {
        "id": "d55725bc"
      },
      "source": [
        "# 데이터 마이닝\n",
        "\n",
        "## 1. 연관관계 분석\n",
        "\n",
        "https://www.kirenz.com/post/2020-05-14-r-association-rule-mining/"
      ]
    },
    {
      "cell_type": "code",
      "source": [
        "install.packages('arules')"
      ],
      "metadata": {
        "id": "5rRox9PKP40W",
        "outputId": "bab7d4a8-18f1-4d1f-a557-cba03668b0da",
        "colab": {
          "base_uri": "https://localhost:8080/"
        }
      },
      "id": "5rRox9PKP40W",
      "execution_count": 2,
      "outputs": [
        {
          "output_type": "stream",
          "name": "stderr",
          "text": [
            "Installing package into ‘/usr/local/lib/R/site-library’\n",
            "(as ‘lib’ is unspecified)\n",
            "\n"
          ]
        }
      ]
    },
    {
      "cell_type": "code",
      "execution_count": 3,
      "id": "9cd68493",
      "metadata": {
        "vscode": {
          "languageId": "r"
        },
        "id": "9cd68493",
        "outputId": "75fb2aff-e969-40b1-c521-78dd617edbab",
        "colab": {
          "base_uri": "https://localhost:8080/"
        }
      },
      "outputs": [
        {
          "output_type": "stream",
          "name": "stderr",
          "text": [
            "Loading required package: Matrix\n",
            "\n",
            "\n",
            "Attaching package: ‘arules’\n",
            "\n",
            "\n",
            "The following objects are masked from ‘package:base’:\n",
            "\n",
            "    abbreviate, write\n",
            "\n",
            "\n"
          ]
        }
      ],
      "source": [
        "library(arules)"
      ]
    },
    {
      "cell_type": "code",
      "execution_count": 4,
      "id": "166970ac",
      "metadata": {
        "vscode": {
          "languageId": "r"
        },
        "id": "166970ac"
      },
      "outputs": [],
      "source": [
        "market_basket <-\n",
        "  list(\n",
        "  c(\"apple\", \"beer\", \"rice\", \"meat\"),\n",
        "  c(\"apple\", \"beer\", \"rice\"),\n",
        "  c(\"apple\", \"beer\"),\n",
        "  c(\"apple\", \"pear\"),\n",
        "  c(\"milk\", \"beer\", \"rice\", \"meat\"),\n",
        "  c(\"milk\", \"beer\", \"rice\"),\n",
        "  c(\"milk\", \"beer\"),\n",
        "  c(\"milk\", \"pear\")\n",
        "  )\n",
        "\n",
        "# set transaction names (T1 to T8)\n",
        "names(market_basket) <- paste(\"T\", c(1:8), sep = \"\")"
      ]
    },
    {
      "cell_type": "code",
      "execution_count": 5,
      "id": "fb5105f3",
      "metadata": {
        "vscode": {
          "languageId": "r"
        },
        "id": "fb5105f3"
      },
      "outputs": [],
      "source": [
        "trans <- as(market_basket, \"transactions\")"
      ]
    },
    {
      "cell_type": "code",
      "execution_count": 6,
      "id": "840a702b",
      "metadata": {
        "vscode": {
          "languageId": "r"
        },
        "id": "840a702b",
        "outputId": "6bd03b79-2b33-4661-88af-5bb1d1b68498",
        "colab": {
          "base_uri": "https://localhost:8080/",
          "height": 34
        }
      },
      "outputs": [
        {
          "output_type": "display_data",
          "data": {
            "text/html": [
              "<style>\n",
              ".list-inline {list-style: none; margin:0; padding: 0}\n",
              ".list-inline>li {display: inline-block}\n",
              ".list-inline>li:not(:last-child)::after {content: \"\\00b7\"; padding: 0 .5ex}\n",
              "</style>\n",
              "<ol class=list-inline><li>8</li><li>6</li></ol>\n"
            ],
            "text/markdown": "1. 8\n2. 6\n\n\n",
            "text/latex": "\\begin{enumerate*}\n\\item 8\n\\item 6\n\\end{enumerate*}\n",
            "text/plain": [
              "[1] 8 6"
            ]
          },
          "metadata": {}
        }
      ],
      "source": [
        "dim(trans)"
      ]
    },
    {
      "cell_type": "code",
      "execution_count": 7,
      "id": "6f661608",
      "metadata": {
        "vscode": {
          "languageId": "r"
        },
        "id": "6f661608",
        "outputId": "64de0f35-c9ef-48ba-ba6a-e2d2d3df4c28",
        "colab": {
          "base_uri": "https://localhost:8080/",
          "height": 34
        }
      },
      "outputs": [
        {
          "output_type": "display_data",
          "data": {
            "text/html": [
              "<style>\n",
              ".list-inline {list-style: none; margin:0; padding: 0}\n",
              ".list-inline>li {display: inline-block}\n",
              ".list-inline>li:not(:last-child)::after {content: \"\\00b7\"; padding: 0 .5ex}\n",
              "</style>\n",
              "<ol class=list-inline><li>'apple'</li><li>'beer'</li><li>'meat'</li><li>'milk'</li><li>'pear'</li><li>'rice'</li></ol>\n"
            ],
            "text/markdown": "1. 'apple'\n2. 'beer'\n3. 'meat'\n4. 'milk'\n5. 'pear'\n6. 'rice'\n\n\n",
            "text/latex": "\\begin{enumerate*}\n\\item 'apple'\n\\item 'beer'\n\\item 'meat'\n\\item 'milk'\n\\item 'pear'\n\\item 'rice'\n\\end{enumerate*}\n",
            "text/plain": [
              "[1] \"apple\" \"beer\"  \"meat\"  \"milk\"  \"pear\"  \"rice\" "
            ]
          },
          "metadata": {}
        }
      ],
      "source": [
        "itemLabels(trans)"
      ]
    },
    {
      "cell_type": "code",
      "execution_count": 8,
      "id": "6a09d38b",
      "metadata": {
        "vscode": {
          "languageId": "r"
        },
        "id": "6a09d38b",
        "outputId": "42c19427-732c-4e00-a11a-636b6963885b",
        "colab": {
          "base_uri": "https://localhost:8080/",
          "height": 510
        }
      },
      "outputs": [
        {
          "output_type": "display_data",
          "data": {
            "text/plain": [
              "transactions as itemMatrix in sparse format with\n",
              " 8 rows (elements/itemsets/transactions) and\n",
              " 6 columns (items) and a density of 0.4583333 \n",
              "\n",
              "most frequent items:\n",
              "   beer   apple    milk    rice    meat (Other) \n",
              "      6       4       4       4       2       2 \n",
              "\n",
              "element (itemset/transaction) length distribution:\n",
              "sizes\n",
              "2 3 4 \n",
              "4 2 2 \n",
              "\n",
              "   Min. 1st Qu.  Median    Mean 3rd Qu.    Max. \n",
              "   2.00    2.00    2.50    2.75    3.25    4.00 \n",
              "\n",
              "includes extended item information - examples:\n",
              "  labels\n",
              "1  apple\n",
              "2   beer\n",
              "3   meat\n",
              "\n",
              "includes extended transaction information - examples:\n",
              "  transactionID\n",
              "1            T1\n",
              "2            T2\n",
              "3            T3"
            ]
          },
          "metadata": {}
        }
      ],
      "source": [
        "summary(trans)"
      ]
    },
    {
      "cell_type": "code",
      "execution_count": 9,
      "id": "6f77ff05",
      "metadata": {
        "vscode": {
          "languageId": "r"
        },
        "id": "6f77ff05",
        "outputId": "58d6af20-2fd9-4479-e899-410fbaf38a9a",
        "colab": {
          "base_uri": "https://localhost:8080/",
          "height": 437
        }
      },
      "outputs": [
        {
          "output_type": "display_data",
          "data": {
            "text/plain": [
              "plot without title"
            ],
            "image/png": "[encoded data removed]"
          },
          "metadata": {
            "image/png": {
              "width": 420,
              "height": 420
            }
          }
        }
      ],
      "source": [
        "image(trans)"
      ]
    },
    {
      "cell_type": "code",
      "execution_count": 10,
      "id": "0603bfe9",
      "metadata": {
        "vscode": {
          "languageId": "r"
        },
        "id": "0603bfe9",
        "outputId": "99d36a83-440a-4660-e73b-7f62f38777fc",
        "colab": {
          "base_uri": "https://localhost:8080/",
          "height": 437
        }
      },
      "outputs": [
        {
          "output_type": "display_data",
          "data": {
            "text/plain": [
              "plot without title"
            ],
            "image/png": "[encoded data removed]"
          },
          "metadata": {
            "image/png": {
              "width": 420,
              "height": 420
            }
          }
        }
      ],
      "source": [
        "itemFrequencyPlot(trans, topN=10,  cex.names=1)"
      ]
    },
    {
      "cell_type": "code",
      "execution_count": 11,
      "id": "f3148a8c",
      "metadata": {
        "vscode": {
          "languageId": "r"
        },
        "id": "f3148a8c",
        "outputId": "21330630-e05a-4e4e-c12a-f591804bacb9",
        "colab": {
          "base_uri": "https://localhost:8080/"
        }
      },
      "outputs": [
        {
          "output_type": "stream",
          "name": "stdout",
          "text": [
            "Apriori\n",
            "\n",
            "Parameter specification:\n",
            " confidence minval smax arem  aval originalSupport maxtime support minlen\n",
            "        0.5    0.1    1 none FALSE            TRUE       5     0.3      1\n",
            " maxlen target  ext\n",
            "     10  rules TRUE\n",
            "\n",
            "Algorithmic control:\n",
            " filter tree heap memopt load sort verbose\n",
            "    0.1 TRUE TRUE  FALSE TRUE    2    TRUE\n",
            "\n",
            "Absolute minimum support count: 2 \n",
            "\n",
            "set item appearances ...[0 item(s)] done [0.00s].\n",
            "set transactions ...[6 item(s), 8 transaction(s)] done [0.00s].\n",
            "sorting and recoding items ... [4 item(s)] done [0.00s].\n",
            "creating transaction tree ... done [0.00s].\n",
            "checking subsets of size 1 2 done [0.00s].\n",
            "writing ... [10 rule(s)] done [0.00s].\n",
            "creating S4 object  ... done [0.00s].\n"
          ]
        }
      ],
      "source": [
        "#Min Support 0.3, confidence as 0.5.\n",
        "rules <- apriori(trans,\n",
        "                 parameter = list(supp=0.3, conf=0.5,\n",
        "                                  maxlen=10,\n",
        "                                  target= \"rules\"))"
      ]
    },
    {
      "cell_type": "code",
      "execution_count": 12,
      "id": "3d60b4b4",
      "metadata": {
        "vscode": {
          "languageId": "r"
        },
        "id": "3d60b4b4",
        "outputId": "04734a6b-74c2-4395-a13e-249b2090f695",
        "colab": {
          "base_uri": "https://localhost:8080/",
          "height": 565
        }
      },
      "outputs": [
        {
          "output_type": "display_data",
          "data": {
            "text/plain": [
              "set of 10 rules\n",
              "\n",
              "rule length distribution (lhs + rhs):sizes\n",
              "1 2 \n",
              "4 6 \n",
              "\n",
              "   Min. 1st Qu.  Median    Mean 3rd Qu.    Max. \n",
              "    1.0     1.0     2.0     1.6     2.0     2.0 \n",
              "\n",
              "summary of quality measures:\n",
              "    support        confidence        coverage           lift      \n",
              " Min.   :0.375   Min.   :0.5000   Min.   :0.5000   Min.   :1.000  \n",
              " 1st Qu.:0.375   1st Qu.:0.5000   1st Qu.:0.5625   1st Qu.:1.000  \n",
              " Median :0.500   Median :0.5833   Median :0.7500   Median :1.000  \n",
              " Mean   :0.475   Mean   :0.6417   Mean   :0.7750   Mean   :1.067  \n",
              " 3rd Qu.:0.500   3rd Qu.:0.7500   3rd Qu.:1.0000   3rd Qu.:1.000  \n",
              " Max.   :0.750   Max.   :1.0000   Max.   :1.0000   Max.   :1.333  \n",
              "     count    \n",
              " Min.   :3.0  \n",
              " 1st Qu.:3.0  \n",
              " Median :4.0  \n",
              " Mean   :3.8  \n",
              " 3rd Qu.:4.0  \n",
              " Max.   :6.0  \n",
              "\n",
              "mining info:\n",
              "  data ntransactions support confidence\n",
              " trans             8     0.3        0.5\n",
              "                                                                                           call\n",
              " apriori(data = trans, parameter = list(supp = 0.3, conf = 0.5, maxlen = 10, target = \"rules\"))"
            ]
          },
          "metadata": {}
        }
      ],
      "source": [
        "summary(rules)"
      ]
    },
    {
      "cell_type": "code",
      "execution_count": 13,
      "id": "7efc74b1",
      "metadata": {
        "vscode": {
          "languageId": "r"
        },
        "id": "7efc74b1",
        "outputId": "f2b93cb0-ff23-4269-9050-05ac943657b4",
        "colab": {
          "base_uri": "https://localhost:8080/"
        }
      },
      "outputs": [
        {
          "output_type": "stream",
          "name": "stdout",
          "text": [
            "     lhs        rhs     support confidence coverage lift     count\n",
            "[1]  {}      => {apple} 0.500   0.5000000  1.00     1.000000 4    \n",
            "[2]  {}      => {milk}  0.500   0.5000000  1.00     1.000000 4    \n",
            "[3]  {}      => {rice}  0.500   0.5000000  1.00     1.000000 4    \n",
            "[4]  {}      => {beer}  0.750   0.7500000  1.00     1.000000 6    \n",
            "[5]  {apple} => {beer}  0.375   0.7500000  0.50     1.000000 3    \n",
            "[6]  {beer}  => {apple} 0.375   0.5000000  0.75     1.000000 3    \n",
            "[7]  {milk}  => {beer}  0.375   0.7500000  0.50     1.000000 3    \n",
            "[8]  {beer}  => {milk}  0.375   0.5000000  0.75     1.000000 3    \n",
            "[9]  {rice}  => {beer}  0.500   1.0000000  0.50     1.333333 4    \n",
            "[10] {beer}  => {rice}  0.500   0.6666667  0.75     1.333333 4    \n"
          ]
        }
      ],
      "source": [
        "inspect(rules)"
      ]
    },
    {
      "cell_type": "markdown",
      "id": "1d706ed1",
      "metadata": {
        "id": "1d706ed1"
      },
      "source": [
        "### [연습문제]"
      ]
    },
    {
      "cell_type": "code",
      "execution_count": 15,
      "id": "8c9aeb98",
      "metadata": {
        "vscode": {
          "languageId": "r"
        },
        "id": "8c9aeb98"
      },
      "outputs": [],
      "source": [
        "df <- read.csv('csv/basket_analysis.csv')\n",
        "df <- df[,2:ncol(df)]\n",
        "m <- gsub('False',F,gsub('True',T,as.matrix(df)))\n",
        "columns = colnames(m)\n",
        "m <- t(apply(m,1,as.logical))\n",
        "b <- apply(m,1,function(x){columns[x]})"
      ]
    },
    {
      "cell_type": "code",
      "execution_count": 16,
      "id": "420fb11c",
      "metadata": {
        "vscode": {
          "languageId": "r"
        },
        "id": "420fb11c"
      },
      "outputs": [],
      "source": [
        "trans2 <- as(b,'transactions')"
      ]
    },
    {
      "cell_type": "code",
      "execution_count": 17,
      "id": "aeffb972",
      "metadata": {
        "vscode": {
          "languageId": "r"
        },
        "id": "aeffb972",
        "outputId": "c170cb55-a717-42e4-b044-e1048876c160",
        "colab": {
          "base_uri": "https://localhost:8080/",
          "height": 34
        }
      },
      "outputs": [
        {
          "output_type": "display_data",
          "data": {
            "text/html": [
              "<style>\n",
              ".list-inline {list-style: none; margin:0; padding: 0}\n",
              ".list-inline>li {display: inline-block}\n",
              ".list-inline>li:not(:last-child)::after {content: \"\\00b7\"; padding: 0 .5ex}\n",
              "</style>\n",
              "<ol class=list-inline><li>'Apple'</li><li>'Bread'</li><li>'Butter'</li><li>'Cheese'</li><li>'chocolate'</li><li>'Corn'</li><li>'Dill'</li><li>'Eggs'</li><li>'Ice.cream'</li><li>'Kidney.Beans'</li><li>'Milk'</li><li>'Nutmeg'</li><li>'Onion'</li><li>'Sugar'</li><li>'Unicorn'</li><li>'Yogurt'</li></ol>\n"
            ],
            "text/markdown": "1. 'Apple'\n2. 'Bread'\n3. 'Butter'\n4. 'Cheese'\n5. 'chocolate'\n6. 'Corn'\n7. 'Dill'\n8. 'Eggs'\n9. 'Ice.cream'\n10. 'Kidney.Beans'\n11. 'Milk'\n12. 'Nutmeg'\n13. 'Onion'\n14. 'Sugar'\n15. 'Unicorn'\n16. 'Yogurt'\n\n\n",
            "text/latex": "\\begin{enumerate*}\n\\item 'Apple'\n\\item 'Bread'\n\\item 'Butter'\n\\item 'Cheese'\n\\item 'chocolate'\n\\item 'Corn'\n\\item 'Dill'\n\\item 'Eggs'\n\\item 'Ice.cream'\n\\item 'Kidney.Beans'\n\\item 'Milk'\n\\item 'Nutmeg'\n\\item 'Onion'\n\\item 'Sugar'\n\\item 'Unicorn'\n\\item 'Yogurt'\n\\end{enumerate*}\n",
            "text/plain": [
              " [1] \"Apple\"        \"Bread\"        \"Butter\"       \"Cheese\"       \"chocolate\"   \n",
              " [6] \"Corn\"         \"Dill\"         \"Eggs\"         \"Ice.cream\"    \"Kidney.Beans\"\n",
              "[11] \"Milk\"         \"Nutmeg\"       \"Onion\"        \"Sugar\"        \"Unicorn\"     \n",
              "[16] \"Yogurt\"      "
            ]
          },
          "metadata": {}
        }
      ],
      "source": [
        "itemLabels(trans2)"
      ]
    },
    {
      "cell_type": "code",
      "execution_count": 18,
      "id": "72ab2bce",
      "metadata": {
        "vscode": {
          "languageId": "r"
        },
        "id": "72ab2bce",
        "outputId": "63d3166c-f879-4a8f-ba89-e4c46e0f6358",
        "colab": {
          "base_uri": "https://localhost:8080/",
          "height": 401
        }
      },
      "outputs": [
        {
          "output_type": "display_data",
          "data": {
            "text/plain": [
              "transactions as itemMatrix in sparse format with\n",
              " 999 rows (elements/itemsets/transactions) and\n",
              " 16 columns (items) and a density of 0.4032783 \n",
              "\n",
              "most frequent items:\n",
              "chocolate    Butter    Yogurt Ice.cream     Sugar   (Other) \n",
              "      421       420       420       410       409      4366 \n",
              "\n",
              "element (itemset/transaction) length distribution:\n",
              "sizes\n",
              "  1   2   3   4   5   6   7   8   9  10  11  12  13 \n",
              " 59  63  72  81  99  99 132 115 115  82  55  23   4 \n",
              "\n",
              "   Min. 1st Qu.  Median    Mean 3rd Qu.    Max. \n",
              "  1.000   4.000   7.000   6.452   9.000  13.000 \n",
              "\n",
              "includes extended item information - examples:\n",
              "  labels\n",
              "1  Apple\n",
              "2  Bread\n",
              "3 Butter"
            ]
          },
          "metadata": {}
        }
      ],
      "source": [
        "summary(trans2)"
      ]
    },
    {
      "cell_type": "code",
      "execution_count": 19,
      "id": "a0e9d152",
      "metadata": {
        "vscode": {
          "languageId": "r"
        },
        "id": "a0e9d152",
        "outputId": "363041fb-fe42-49c7-a123-746197a8e098",
        "colab": {
          "base_uri": "https://localhost:8080/",
          "height": 437
        }
      },
      "outputs": [
        {
          "output_type": "display_data",
          "data": {
            "text/plain": [
              "plot without title"
            ],
            "image/png": "[encoded data removed]"
          },
          "metadata": {
            "image/png": {
              "width": 420,
              "height": 420
            }
          }
        }
      ],
      "source": [
        "image(trans2)"
      ]
    },
    {
      "cell_type": "code",
      "execution_count": 20,
      "id": "3a88ff31",
      "metadata": {
        "vscode": {
          "languageId": "r"
        },
        "id": "3a88ff31",
        "outputId": "69d5fb21-0ba8-4e73-d87c-451fe1af4f14",
        "colab": {
          "base_uri": "https://localhost:8080/",
          "height": 437
        }
      },
      "outputs": [
        {
          "output_type": "display_data",
          "data": {
            "text/plain": [
              "plot without title"
            ],
            "image/png": "[encoded data removed]"
          },
          "metadata": {
            "image/png": {
              "width": 420,
              "height": 420
            }
          }
        }
      ],
      "source": [
        "itemFrequencyPlot(trans2, topN=10,  cex.names=1)"
      ]
    },
    {
      "cell_type": "code",
      "execution_count": 21,
      "id": "3a46ae94",
      "metadata": {
        "vscode": {
          "languageId": "r"
        },
        "id": "3a46ae94",
        "outputId": "4f45e510-07fc-4be1-d9b6-5aa15c3b9459",
        "colab": {
          "base_uri": "https://localhost:8080/"
        }
      },
      "outputs": [
        {
          "output_type": "stream",
          "name": "stdout",
          "text": [
            "Apriori\n",
            "\n",
            "Parameter specification:\n",
            " confidence minval smax arem  aval originalSupport maxtime support minlen\n",
            "        0.1    0.1    1 none FALSE            TRUE       5     0.1      1\n",
            " maxlen target  ext\n",
            "     10  rules TRUE\n",
            "\n",
            "Algorithmic control:\n",
            " filter tree heap memopt load sort verbose\n",
            "    0.1 TRUE TRUE  FALSE TRUE    2    TRUE\n",
            "\n",
            "Absolute minimum support count: 99 \n",
            "\n",
            "set item appearances ...[0 item(s)] done [0.00s].\n",
            "set transactions ...[16 item(s), 999 transaction(s)] done [0.00s].\n",
            "sorting and recoding items ... [16 item(s)] done [0.00s].\n",
            "creating transaction tree ... done [0.00s].\n",
            "checking subsets of size 1 2 3 done [0.00s].\n",
            "writing ... [355 rule(s)] done [0.00s].\n",
            "creating S4 object  ... done [0.00s].\n"
          ]
        }
      ],
      "source": [
        "#Min Support 0.3, confidence as 0.5.\n",
        "rules2 <- apriori(trans2,\n",
        "                 parameter = list(supp=0.1, conf=0.1,\n",
        "                                  maxlen=10,\n",
        "                                  target= \"rules\"))"
      ]
    },
    {
      "cell_type": "code",
      "execution_count": 22,
      "id": "08096bf4",
      "metadata": {
        "vscode": {
          "languageId": "r"
        },
        "id": "08096bf4",
        "outputId": "cad7abee-0b30-40d2-8d63-cd7e564f4ff4",
        "colab": {
          "base_uri": "https://localhost:8080/",
          "height": 565
        }
      },
      "outputs": [
        {
          "output_type": "display_data",
          "data": {
            "text/plain": [
              "set of 355 rules\n",
              "\n",
              "rule length distribution (lhs + rhs):sizes\n",
              "  1   2   3 \n",
              " 16 240  99 \n",
              "\n",
              "   Min. 1st Qu.  Median    Mean 3rd Qu.    Max. \n",
              "  1.000   2.000   2.000   2.234   3.000   3.000 \n",
              "\n",
              "summary of quality measures:\n",
              "    support         confidence        coverage           lift       \n",
              " Min.   :0.1001   Min.   :0.3829   Min.   :0.1682   Min.   :0.9962  \n",
              " 1st Qu.:0.1061   1st Qu.:0.4410   1st Qu.:0.2072   1st Qu.:1.1101  \n",
              " Median :0.1792   Median :0.4668   Median :0.4014   Median :1.1413  \n",
              " Mean   :0.1704   Mean   :0.4717   Mean   :0.3721   Mean   :1.1637  \n",
              " 3rd Qu.:0.1902   3rd Qu.:0.5037   3rd Qu.:0.4094   3rd Qu.:1.2327  \n",
              " Max.   :0.4214   Max.   :0.6012   Max.   :1.0000   Max.   :1.4285  \n",
              "     count      \n",
              " Min.   :100.0  \n",
              " 1st Qu.:106.0  \n",
              " Median :179.0  \n",
              " Mean   :170.3  \n",
              " 3rd Qu.:190.0  \n",
              " Max.   :421.0  \n",
              "\n",
              "mining info:\n",
              "   data ntransactions support confidence\n",
              " trans2           999     0.1        0.1\n",
              "                                                                                            call\n",
              " apriori(data = trans2, parameter = list(supp = 0.1, conf = 0.1, maxlen = 10, target = \"rules\"))"
            ]
          },
          "metadata": {}
        }
      ],
      "source": [
        "summary(rules2)"
      ]
    },
    {
      "cell_type": "code",
      "execution_count": 23,
      "id": "53c30db7",
      "metadata": {
        "vscode": {
          "languageId": "r"
        },
        "id": "53c30db7",
        "outputId": "09a4e6e6-a5aa-434e-f4b9-f24d345831f3",
        "colab": {
          "base_uri": "https://localhost:8080/"
        }
      },
      "outputs": [
        {
          "output_type": "stream",
          "name": "stdout",
          "text": [
            "      lhs                          rhs            support   confidence\n",
            "[1]   {}                        => {Eggs}         0.3843844 0.3843844 \n",
            "[2]   {}                        => {Bread}        0.3843844 0.3843844 \n",
            "[3]   {}                        => {Apple}        0.3833834 0.3833834 \n",
            "[4]   {}                        => {Unicorn}      0.3893894 0.3893894 \n",
            "[5]   {}                        => {Dill}         0.3983984 0.3983984 \n",
            "[6]   {}                        => {Cheese}       0.4044044 0.4044044 \n",
            "[7]   {}                        => {Nutmeg}       0.4014014 0.4014014 \n",
            "[8]   {}                        => {Onion}        0.4034034 0.4034034 \n",
            "[9]   {}                        => {Corn}         0.4074074 0.4074074 \n",
            "[10]  {}                        => {Kidney.Beans} 0.4084084 0.4084084 \n",
            "[11]  {}                        => {Sugar}        0.4094094 0.4094094 \n",
            "[12]  {}                        => {Milk}         0.4054054 0.4054054 \n",
            "[13]  {}                        => {Ice.cream}    0.4104104 0.4104104 \n",
            "[14]  {}                        => {Yogurt}       0.4204204 0.4204204 \n",
            "[15]  {}                        => {Butter}       0.4204204 0.4204204 \n",
            "[16]  {}                        => {chocolate}    0.4214214 0.4214214 \n",
            "[17]  {Eggs}                    => {Bread}        0.1571572 0.4088542 \n",
            "[18]  {Bread}                   => {Eggs}         0.1571572 0.4088542 \n",
            "[19]  {Eggs}                    => {Apple}        0.1561562 0.4062500 \n",
            "[20]  {Apple}                   => {Eggs}         0.1561562 0.4073107 \n",
            "[21]  {Eggs}                    => {Unicorn}      0.1681682 0.4375000 \n",
            "[22]  {Unicorn}                 => {Eggs}         0.1681682 0.4318766 \n",
            "[23]  {Eggs}                    => {Dill}         0.1571572 0.4088542 \n",
            "[24]  {Dill}                    => {Eggs}         0.1571572 0.3944724 \n",
            "[25]  {Eggs}                    => {Cheese}       0.1691692 0.4401042 \n",
            "[26]  {Cheese}                  => {Eggs}         0.1691692 0.4183168 \n",
            "[27]  {Eggs}                    => {Nutmeg}       0.1721722 0.4479167 \n",
            "[28]  {Nutmeg}                  => {Eggs}         0.1721722 0.4289277 \n",
            "[29]  {Eggs}                    => {Onion}        0.1741742 0.4531250 \n",
            "[30]  {Onion}                   => {Eggs}         0.1741742 0.4317618 \n",
            "[31]  {Eggs}                    => {Corn}         0.1801802 0.4687500 \n",
            "[32]  {Corn}                    => {Eggs}         0.1801802 0.4422604 \n",
            "[33]  {Eggs}                    => {Kidney.Beans} 0.1691692 0.4401042 \n",
            "[34]  {Kidney.Beans}            => {Eggs}         0.1691692 0.4142157 \n",
            "[35]  {Eggs}                    => {Sugar}        0.1701702 0.4427083 \n",
            "[36]  {Sugar}                   => {Eggs}         0.1701702 0.4156479 \n",
            "[37]  {Eggs}                    => {Milk}         0.1761762 0.4583333 \n",
            "[38]  {Milk}                    => {Eggs}         0.1761762 0.4345679 \n",
            "[39]  {Eggs}                    => {Ice.cream}    0.1571572 0.4088542 \n",
            "[40]  {Ice.cream}               => {Eggs}         0.1571572 0.3829268 \n",
            "[41]  {Eggs}                    => {Yogurt}       0.1861862 0.4843750 \n",
            "[42]  {Yogurt}                  => {Eggs}         0.1861862 0.4428571 \n",
            "[43]  {Eggs}                    => {Butter}       0.1731732 0.4505208 \n",
            "[44]  {Butter}                  => {Eggs}         0.1731732 0.4119048 \n",
            "[45]  {Eggs}                    => {chocolate}    0.1821822 0.4739583 \n",
            "[46]  {chocolate}               => {Eggs}         0.1821822 0.4323040 \n",
            "[47]  {Bread}                   => {Apple}        0.1541542 0.4010417 \n",
            "[48]  {Apple}                   => {Bread}        0.1541542 0.4020888 \n",
            "[49]  {Bread}                   => {Unicorn}      0.1681682 0.4375000 \n",
            "[50]  {Unicorn}                 => {Bread}        0.1681682 0.4318766 \n",
            "[51]  {Bread}                   => {Dill}         0.1601602 0.4166667 \n",
            "[52]  {Dill}                    => {Bread}        0.1601602 0.4020101 \n",
            "[53]  {Bread}                   => {Cheese}       0.1731732 0.4505208 \n",
            "[54]  {Cheese}                  => {Bread}        0.1731732 0.4282178 \n",
            "[55]  {Bread}                   => {Nutmeg}       0.1711712 0.4453125 \n",
            "[56]  {Nutmeg}                  => {Bread}        0.1711712 0.4264339 \n",
            "[57]  {Bread}                   => {Onion}        0.1781782 0.4635417 \n",
            "[58]  {Onion}                   => {Bread}        0.1781782 0.4416873 \n",
            "[59]  {Bread}                   => {Corn}         0.1741742 0.4531250 \n",
            "[60]  {Corn}                    => {Bread}        0.1741742 0.4275184 \n",
            "[61]  {Bread}                   => {Kidney.Beans} 0.1671672 0.4348958 \n",
            "[62]  {Kidney.Beans}            => {Bread}        0.1671672 0.4093137 \n",
            "[63]  {Bread}                   => {Sugar}        0.1791792 0.4661458 \n",
            "[64]  {Sugar}                   => {Bread}        0.1791792 0.4376528 \n",
            "[65]  {Bread}                   => {Milk}         0.1741742 0.4531250 \n",
            "[66]  {Milk}                    => {Bread}        0.1741742 0.4296296 \n",
            "[67]  {Bread}                   => {Ice.cream}    0.1811812 0.4713542 \n",
            "[68]  {Ice.cream}               => {Bread}        0.1811812 0.4414634 \n",
            "[69]  {Bread}                   => {Yogurt}       0.1931932 0.5026042 \n",
            "[70]  {Yogurt}                  => {Bread}        0.1931932 0.4595238 \n",
            "[71]  {Bread}                   => {Butter}       0.1801802 0.4687500 \n",
            "[72]  {Butter}                  => {Bread}        0.1801802 0.4285714 \n",
            "[73]  {Bread}                   => {chocolate}    0.1851852 0.4817708 \n",
            "[74]  {chocolate}               => {Bread}        0.1851852 0.4394299 \n",
            "[75]  {Apple}                   => {Unicorn}      0.1661662 0.4334204 \n",
            "[76]  {Unicorn}                 => {Apple}        0.1661662 0.4267352 \n",
            "[77]  {Apple}                   => {Dill}         0.1791792 0.4673629 \n",
            "[78]  {Dill}                    => {Apple}        0.1791792 0.4497487 \n",
            "[79]  {Apple}                   => {Cheese}       0.1621622 0.4229765 \n",
            "[80]  {Cheese}                  => {Apple}        0.1621622 0.4009901 \n",
            "[81]  {Apple}                   => {Nutmeg}       0.1721722 0.4490862 \n",
            "[82]  {Nutmeg}                  => {Apple}        0.1721722 0.4289277 \n",
            "[83]  {Apple}                   => {Onion}        0.1671672 0.4360313 \n",
            "[84]  {Onion}                   => {Apple}        0.1671672 0.4143921 \n",
            "[85]  {Apple}                   => {Corn}         0.1861862 0.4856397 \n",
            "[86]  {Corn}                    => {Apple}        0.1861862 0.4570025 \n",
            "[87]  {Apple}                   => {Kidney.Beans} 0.1761762 0.4595300 \n",
            "[88]  {Kidney.Beans}            => {Apple}        0.1761762 0.4313725 \n",
            "[89]  {Apple}                   => {Sugar}        0.1821822 0.4751958 \n",
            "[90]  {Sugar}                   => {Apple}        0.1821822 0.4449878 \n",
            "[91]  {Apple}                   => {Milk}         0.1841842 0.4804178 \n",
            "[92]  {Milk}                    => {Apple}        0.1841842 0.4543210 \n",
            "[93]  {Apple}                   => {Ice.cream}    0.1721722 0.4490862 \n",
            "[94]  {Ice.cream}               => {Apple}        0.1721722 0.4195122 \n",
            "[95]  {Apple}                   => {Yogurt}       0.1871872 0.4882507 \n",
            "[96]  {Yogurt}                  => {Apple}        0.1871872 0.4452381 \n",
            "[97]  {Apple}                   => {Butter}       0.1881882 0.4908616 \n",
            "[98]  {Butter}                  => {Apple}        0.1881882 0.4476190 \n",
            "[99]  {Apple}                   => {chocolate}    0.1831832 0.4778068 \n",
            "[100] {chocolate}               => {Apple}        0.1831832 0.4346793 \n",
            "[101] {Unicorn}                 => {Dill}         0.1681682 0.4318766 \n",
            "[102] {Dill}                    => {Unicorn}      0.1681682 0.4221106 \n",
            "[103] {Unicorn}                 => {Cheese}       0.1701702 0.4370180 \n",
            "[104] {Cheese}                  => {Unicorn}      0.1701702 0.4207921 \n",
            "[105] {Unicorn}                 => {Nutmeg}       0.1651652 0.4241645 \n",
            "[106] {Nutmeg}                  => {Unicorn}      0.1651652 0.4114713 \n",
            "[107] {Unicorn}                 => {Onion}        0.1751752 0.4498715 \n",
            "[108] {Onion}                   => {Unicorn}      0.1751752 0.4342432 \n",
            "[109] {Unicorn}                 => {Corn}         0.1771772 0.4550129 \n",
            "[110] {Corn}                    => {Unicorn}      0.1771772 0.4348894 \n",
            "[111] {Unicorn}                 => {Kidney.Beans} 0.1841842 0.4730077 \n",
            "[112] {Kidney.Beans}            => {Unicorn}      0.1841842 0.4509804 \n",
            "[113] {Unicorn}                 => {Sugar}        0.1811812 0.4652956 \n",
            "[114] {Sugar}                   => {Unicorn}      0.1811812 0.4425428 \n",
            "[115] {Unicorn}                 => {Milk}         0.1831832 0.4704370 \n",
            "[116] {Milk}                    => {Unicorn}      0.1831832 0.4518519 \n",
            "[117] {Unicorn}                 => {Ice.cream}    0.1851852 0.4755784 \n",
            "[118] {Ice.cream}               => {Unicorn}      0.1851852 0.4512195 \n",
            "[119] {Unicorn}                 => {Yogurt}       0.1841842 0.4730077 \n",
            "[120] {Yogurt}                  => {Unicorn}      0.1841842 0.4380952 \n",
            "[121] {Unicorn}                 => {Butter}       0.1821822 0.4678663 \n",
            "[122] {Butter}                  => {Unicorn}      0.1821822 0.4333333 \n",
            "[123] {Unicorn}                 => {chocolate}    0.1861862 0.4781491 \n",
            "[124] {chocolate}               => {Unicorn}      0.1861862 0.4418052 \n",
            "[125] {Dill}                    => {Cheese}       0.1771772 0.4447236 \n",
            "[126] {Cheese}                  => {Dill}         0.1771772 0.4381188 \n",
            "[127] {Dill}                    => {Nutmeg}       0.1731732 0.4346734 \n",
            "[128] {Nutmeg}                  => {Dill}         0.1731732 0.4314214 \n",
            "[129] {Dill}                    => {Onion}        0.1921922 0.4824121 \n",
            "[130] {Onion}                   => {Dill}         0.1921922 0.4764268 \n",
            "[131] {Dill}                    => {Corn}         0.1801802 0.4522613 \n",
            "[132] {Corn}                    => {Dill}         0.1801802 0.4422604 \n",
            "[133] {Dill}                    => {Kidney.Beans} 0.1721722 0.4321608 \n",
            "[134] {Kidney.Beans}            => {Dill}         0.1721722 0.4215686 \n",
            "[135] {Dill}                    => {Sugar}        0.1791792 0.4497487 \n",
            "[136] {Sugar}                   => {Dill}         0.1791792 0.4376528 \n",
            "[137] {Dill}                    => {Milk}         0.1901902 0.4773869 \n",
            "[138] {Milk}                    => {Dill}         0.1901902 0.4691358 \n",
            "[139] {Dill}                    => {Ice.cream}    0.1851852 0.4648241 \n",
            "[140] {Ice.cream}               => {Dill}         0.1851852 0.4512195 \n",
            "[141] {Dill}                    => {Yogurt}       0.1851852 0.4648241 \n",
            "[142] {Yogurt}                  => {Dill}         0.1851852 0.4404762 \n",
            "[143] {Dill}                    => {Butter}       0.1751752 0.4396985 \n",
            "[144] {Butter}                  => {Dill}         0.1751752 0.4166667 \n",
            "[145] {Dill}                    => {chocolate}    0.1991992 0.5000000 \n",
            "[146] {chocolate}               => {Dill}         0.1991992 0.4726841 \n",
            "[147] {Cheese}                  => {Nutmeg}       0.1921922 0.4752475 \n",
            "[148] {Nutmeg}                  => {Cheese}       0.1921922 0.4788030 \n",
            "[149] {Cheese}                  => {Onion}        0.1851852 0.4579208 \n",
            "[150] {Onion}                   => {Cheese}       0.1851852 0.4590571 \n",
            "[151] {Cheese}                  => {Corn}         0.1821822 0.4504950 \n",
            "[152] {Corn}                    => {Cheese}       0.1821822 0.4471744 \n",
            "[153] {Cheese}                  => {Kidney.Beans} 0.2002002 0.4950495 \n",
            "[154] {Kidney.Beans}            => {Cheese}       0.2002002 0.4901961 \n",
            "[155] {Cheese}                  => {Sugar}        0.1871872 0.4628713 \n",
            "[156] {Sugar}                   => {Cheese}       0.1871872 0.4572127 \n",
            "[157] {Cheese}                  => {Milk}         0.1721722 0.4257426 \n",
            "[158] {Milk}                    => {Cheese}       0.1721722 0.4246914 \n",
            "[159] {Cheese}                  => {Ice.cream}    0.1871872 0.4628713 \n",
            "[160] {Ice.cream}               => {Cheese}       0.1871872 0.4560976 \n",
            "[161] {Cheese}                  => {Yogurt}       0.1811812 0.4480198 \n",
            "[162] {Yogurt}                  => {Cheese}       0.1811812 0.4309524 \n",
            "[163] {Cheese}                  => {Butter}       0.1821822 0.4504950 \n",
            "[164] {Butter}                  => {Cheese}       0.1821822 0.4333333 \n",
            "[165] {Cheese}                  => {chocolate}    0.1861862 0.4603960 \n",
            "[166] {chocolate}               => {Cheese}       0.1861862 0.4418052 \n",
            "[167] {Nutmeg}                  => {Onion}        0.1951952 0.4862843 \n",
            "[168] {Onion}                   => {Nutmeg}       0.1951952 0.4838710 \n",
            "[169] {Nutmeg}                  => {Corn}         0.1811812 0.4513716 \n",
            "[170] {Corn}                    => {Nutmeg}       0.1811812 0.4447174 \n",
            "[171] {Nutmeg}                  => {Kidney.Beans} 0.1891892 0.4713217 \n",
            "[172] {Kidney.Beans}            => {Nutmeg}       0.1891892 0.4632353 \n",
            "[173] {Nutmeg}                  => {Sugar}        0.1931932 0.4812968 \n",
            "[174] {Sugar}                   => {Nutmeg}       0.1931932 0.4718826 \n",
            "[175] {Nutmeg}                  => {Milk}         0.1821822 0.4538653 \n",
            "[176] {Milk}                    => {Nutmeg}       0.1821822 0.4493827 \n",
            "[177] {Nutmeg}                  => {Ice.cream}    0.1871872 0.4663342 \n",
            "[178] {Ice.cream}               => {Nutmeg}       0.1871872 0.4560976 \n",
            "[179] {Nutmeg}                  => {Yogurt}       0.1921922 0.4788030 \n",
            "[180] {Yogurt}                  => {Nutmeg}       0.1921922 0.4571429 \n",
            "[181] {Nutmeg}                  => {Butter}       0.1981982 0.4937656 \n",
            "[182] {Butter}                  => {Nutmeg}       0.1981982 0.4714286 \n",
            "[183] {Nutmeg}                  => {chocolate}    0.1861862 0.4638404 \n",
            "[184] {chocolate}               => {Nutmeg}       0.1861862 0.4418052 \n",
            "[185] {Onion}                   => {Corn}         0.1841842 0.4565757 \n",
            "[186] {Corn}                    => {Onion}        0.1841842 0.4520885 \n",
            "[187] {Onion}                   => {Kidney.Beans} 0.1701702 0.4218362 \n",
            "[188] {Kidney.Beans}            => {Onion}        0.1701702 0.4166667 \n",
            "[189] {Onion}                   => {Sugar}        0.1901902 0.4714640 \n",
            "[190] {Sugar}                   => {Onion}        0.1901902 0.4645477 \n",
            "[191] {Onion}                   => {Milk}         0.1821822 0.4516129 \n",
            "[192] {Milk}                    => {Onion}        0.1821822 0.4493827 \n",
            "[193] {Onion}                   => {Ice.cream}    0.1921922 0.4764268 \n",
            "[194] {Ice.cream}               => {Onion}        0.1921922 0.4682927 \n",
            "[195] {Onion}                   => {Yogurt}       0.1921922 0.4764268 \n",
            "[196] {Yogurt}                  => {Onion}        0.1921922 0.4571429 \n",
            "[197] {Onion}                   => {Butter}       0.1971972 0.4888337 \n",
            "[198] {Butter}                  => {Onion}        0.1971972 0.4690476 \n",
            "[199] {Onion}                   => {chocolate}    0.1961962 0.4863524 \n",
            "[200] {chocolate}               => {Onion}        0.1961962 0.4655582 \n",
            "[201] {Corn}                    => {Kidney.Beans} 0.1951952 0.4791155 \n",
            "[202] {Kidney.Beans}            => {Corn}         0.1951952 0.4779412 \n",
            "[203] {Corn}                    => {Sugar}        0.1871872 0.4594595 \n",
            "[204] {Sugar}                   => {Corn}         0.1871872 0.4572127 \n",
            "[205] {Corn}                    => {Milk}         0.1931932 0.4742015 \n",
            "[206] {Milk}                    => {Corn}         0.1931932 0.4765432 \n",
            "[207] {Corn}                    => {Ice.cream}    0.1921922 0.4717445 \n",
            "[208] {Ice.cream}               => {Corn}         0.1921922 0.4682927 \n",
            "[209] {Corn}                    => {Yogurt}       0.1901902 0.4668305 \n",
            "[210] {Yogurt}                  => {Corn}         0.1901902 0.4523810 \n",
            "[211] {Corn}                    => {Butter}       0.1911912 0.4692875 \n",
            "[212] {Butter}                  => {Corn}         0.1911912 0.4547619 \n",
            "[213] {Corn}                    => {chocolate}    0.1921922 0.4717445 \n",
            "[214] {chocolate}               => {Corn}         0.1921922 0.4560570 \n",
            "[215] {Kidney.Beans}            => {Sugar}        0.1871872 0.4583333 \n",
            "[216] {Sugar}                   => {Kidney.Beans} 0.1871872 0.4572127 \n",
            "[217] {Kidney.Beans}            => {Milk}         0.1991992 0.4877451 \n",
            "[218] {Milk}                    => {Kidney.Beans} 0.1991992 0.4913580 \n",
            "[219] {Kidney.Beans}            => {Ice.cream}    0.1961962 0.4803922 \n",
            "[220] {Ice.cream}               => {Kidney.Beans} 0.1961962 0.4780488 \n",
            "[221] {Kidney.Beans}            => {Yogurt}       0.1941942 0.4754902 \n",
            "[222] {Yogurt}                  => {Kidney.Beans} 0.1941942 0.4619048 \n",
            "[223] {Kidney.Beans}            => {Butter}       0.2022022 0.4950980 \n",
            "[224] {Butter}                  => {Kidney.Beans} 0.2022022 0.4809524 \n",
            "[225] {Kidney.Beans}            => {chocolate}    0.1911912 0.4681373 \n",
            "[226] {chocolate}               => {Kidney.Beans} 0.1911912 0.4536817 \n",
            "[227] {Sugar}                   => {Milk}         0.1861862 0.4547677 \n",
            "[228] {Milk}                    => {Sugar}        0.1861862 0.4592593 \n",
            "[229] {Sugar}                   => {Ice.cream}    0.1951952 0.4767726 \n",
            "[230] {Ice.cream}               => {Sugar}        0.1951952 0.4756098 \n",
            "[231] {Sugar}                   => {Yogurt}       0.1911912 0.4669927 \n",
            "[232] {Yogurt}                  => {Sugar}        0.1911912 0.4547619 \n",
            "[233] {Sugar}                   => {Butter}       0.1961962 0.4792176 \n",
            "[234] {Butter}                  => {Sugar}        0.1961962 0.4666667 \n",
            "[235] {Sugar}                   => {chocolate}    0.1881882 0.4596577 \n",
            "[236] {chocolate}               => {Sugar}        0.1881882 0.4465558 \n",
            "[237] {Milk}                    => {Ice.cream}    0.1771772 0.4370370 \n",
            "[238] {Ice.cream}               => {Milk}         0.1771772 0.4317073 \n",
            "[239] {Milk}                    => {Yogurt}       0.1901902 0.4691358 \n",
            "[240] {Yogurt}                  => {Milk}         0.1901902 0.4523810 \n",
            "[241] {Milk}                    => {Butter}       0.1981982 0.4888889 \n",
            "[242] {Butter}                  => {Milk}         0.1981982 0.4714286 \n",
            "[243] {Milk}                    => {chocolate}    0.2112112 0.5209877 \n",
            "[244] {chocolate}               => {Milk}         0.2112112 0.5011876 \n",
            "[245] {Ice.cream}               => {Yogurt}       0.1821822 0.4439024 \n",
            "[246] {Yogurt}                  => {Ice.cream}    0.1821822 0.4333333 \n",
            "[247] {Ice.cream}               => {Butter}       0.2072072 0.5048780 \n",
            "[248] {Butter}                  => {Ice.cream}    0.2072072 0.4928571 \n",
            "[249] {Ice.cream}               => {chocolate}    0.2022022 0.4926829 \n",
            "[250] {chocolate}               => {Ice.cream}    0.2022022 0.4798100 \n",
            "[251] {Yogurt}                  => {Butter}       0.1911912 0.4547619 \n",
            "[252] {Butter}                  => {Yogurt}       0.1911912 0.4547619 \n",
            "[253] {Yogurt}                  => {chocolate}    0.1981982 0.4714286 \n",
            "[254] {chocolate}               => {Yogurt}       0.1981982 0.4703088 \n",
            "[255] {Butter}                  => {chocolate}    0.2022022 0.4809524 \n",
            "[256] {chocolate}               => {Butter}       0.2022022 0.4798100 \n",
            "[257] {Apple, Sugar}            => {Butter}       0.1001001 0.5494505 \n",
            "[258] {Apple, Butter}           => {Sugar}        0.1001001 0.5319149 \n",
            "[259] {Butter, Sugar}           => {Apple}        0.1001001 0.5102041 \n",
            "[260] {Dill, Unicorn}           => {chocolate}    0.1011011 0.6011905 \n",
            "[261] {chocolate, Unicorn}      => {Dill}         0.1011011 0.5430108 \n",
            "[262] {chocolate, Dill}         => {Unicorn}      0.1011011 0.5075377 \n",
            "[263] {Ice.cream, Unicorn}      => {Butter}       0.1001001 0.5405405 \n",
            "[264] {Butter, Unicorn}         => {Ice.cream}    0.1001001 0.5494505 \n",
            "[265] {Butter, Ice.cream}       => {Unicorn}      0.1001001 0.4830918 \n",
            "[266] {Cheese, Dill}            => {Onion}        0.1021021 0.5762712 \n",
            "[267] {Dill, Onion}             => {Cheese}       0.1021021 0.5312500 \n",
            "[268] {Cheese, Onion}           => {Dill}         0.1021021 0.5513514 \n",
            "[269] {Dill, Onion}             => {chocolate}    0.1031031 0.5364583 \n",
            "[270] {chocolate, Dill}         => {Onion}        0.1031031 0.5175879 \n",
            "[271] {chocolate, Onion}        => {Dill}         0.1031031 0.5255102 \n",
            "[272] {Dill, Milk}              => {chocolate}    0.1141141 0.6000000 \n",
            "[273] {chocolate, Dill}         => {Milk}         0.1141141 0.5728643 \n",
            "[274] {chocolate, Milk}         => {Dill}         0.1141141 0.5402844 \n",
            "[275] {Dill, Ice.cream}         => {chocolate}    0.1031031 0.5567568 \n",
            "[276] {chocolate, Dill}         => {Ice.cream}    0.1031031 0.5175879 \n",
            "[277] {chocolate, Ice.cream}    => {Dill}         0.1031031 0.5099010 \n",
            "[278] {Cheese, Nutmeg}          => {Onion}        0.1001001 0.5208333 \n",
            "[279] {Cheese, Onion}           => {Nutmeg}       0.1001001 0.5405405 \n",
            "[280] {Nutmeg, Onion}           => {Cheese}       0.1001001 0.5128205 \n",
            "[281] {Cheese, Nutmeg}          => {Kidney.Beans} 0.1011011 0.5260417 \n",
            "[282] {Cheese, Kidney.Beans}    => {Nutmeg}       0.1011011 0.5050000 \n",
            "[283] {Kidney.Beans, Nutmeg}    => {Cheese}       0.1011011 0.5343915 \n",
            "[284] {Cheese, Kidney.Beans}    => {Sugar}        0.1011011 0.5050000 \n",
            "[285] {Cheese, Sugar}           => {Kidney.Beans} 0.1011011 0.5401070 \n",
            "[286] {Kidney.Beans, Sugar}     => {Cheese}       0.1011011 0.5401070 \n",
            "[287] {Cheese, Kidney.Beans}    => {Ice.cream}    0.1041041 0.5200000 \n",
            "[288] {Cheese, Ice.cream}       => {Kidney.Beans} 0.1041041 0.5561497 \n",
            "[289] {Ice.cream, Kidney.Beans} => {Cheese}       0.1041041 0.5306122 \n",
            "[290] {Cheese, Kidney.Beans}    => {chocolate}    0.1021021 0.5100000 \n",
            "[291] {Cheese, chocolate}       => {Kidney.Beans} 0.1021021 0.5483871 \n",
            "[292] {chocolate, Kidney.Beans} => {Cheese}       0.1021021 0.5340314 \n",
            "[293] {Nutmeg, Onion}           => {Butter}       0.1041041 0.5333333 \n",
            "[294] {Butter, Nutmeg}          => {Onion}        0.1041041 0.5252525 \n",
            "[295] {Butter, Onion}           => {Nutmeg}       0.1041041 0.5279188 \n",
            "[296] {Kidney.Beans, Nutmeg}    => {Milk}         0.1001001 0.5291005 \n",
            "[297] {Milk, Nutmeg}            => {Kidney.Beans} 0.1001001 0.5494505 \n",
            "[298] {Kidney.Beans, Milk}      => {Nutmeg}       0.1001001 0.5025126 \n",
            "[299] {Kidney.Beans, Nutmeg}    => {Yogurt}       0.1011011 0.5343915 \n",
            "[300] {Nutmeg, Yogurt}          => {Kidney.Beans} 0.1011011 0.5260417 \n",
            "[301] {Kidney.Beans, Yogurt}    => {Nutmeg}       0.1011011 0.5206186 \n",
            "[302] {Kidney.Beans, Nutmeg}    => {Butter}       0.1011011 0.5343915 \n",
            "[303] {Butter, Nutmeg}          => {Kidney.Beans} 0.1011011 0.5101010 \n",
            "[304] {Butter, Kidney.Beans}    => {Nutmeg}       0.1011011 0.5000000 \n",
            "[305] {Ice.cream, Nutmeg}       => {Butter}       0.1021021 0.5454545 \n",
            "[306] {Butter, Nutmeg}          => {Ice.cream}    0.1021021 0.5151515 \n",
            "[307] {Butter, Ice.cream}       => {Nutmeg}       0.1021021 0.4927536 \n",
            "[308] {Ice.cream, Nutmeg}       => {chocolate}    0.1011011 0.5401070 \n",
            "[309] {chocolate, Nutmeg}       => {Ice.cream}    0.1011011 0.5430108 \n",
            "[310] {chocolate, Ice.cream}    => {Nutmeg}       0.1011011 0.5000000 \n",
            "[311] {Nutmeg, Yogurt}          => {Butter}       0.1001001 0.5208333 \n",
            "[312] {Butter, Nutmeg}          => {Yogurt}       0.1001001 0.5050505 \n",
            "[313] {Butter, Yogurt}          => {Nutmeg}       0.1001001 0.5235602 \n",
            "[314] {Ice.cream, Onion}        => {Butter}       0.1031031 0.5364583 \n",
            "[315] {Butter, Onion}           => {Ice.cream}    0.1031031 0.5228426 \n",
            "[316] {Butter, Ice.cream}       => {Onion}        0.1031031 0.4975845 \n",
            "[317] {Ice.cream, Onion}        => {chocolate}    0.1011011 0.5260417 \n",
            "[318] {chocolate, Onion}        => {Ice.cream}    0.1011011 0.5153061 \n",
            "[319] {chocolate, Ice.cream}    => {Onion}        0.1011011 0.5000000 \n",
            "[320] {Corn, Kidney.Beans}      => {Milk}         0.1051051 0.5384615 \n",
            "[321] {Corn, Milk}              => {Kidney.Beans} 0.1051051 0.5440415 \n",
            "[322] {Kidney.Beans, Milk}      => {Corn}         0.1051051 0.5276382 \n",
            "[323] {Corn, Kidney.Beans}      => {Yogurt}       0.1001001 0.5128205 \n",
            "[324] {Corn, Yogurt}            => {Kidney.Beans} 0.1001001 0.5263158 \n",
            "[325] {Kidney.Beans, Yogurt}    => {Corn}         0.1001001 0.5154639 \n",
            "[326] {Corn, Kidney.Beans}      => {Butter}       0.1011011 0.5179487 \n",
            "[327] {Butter, Corn}            => {Kidney.Beans} 0.1011011 0.5287958 \n",
            "[328] {Butter, Kidney.Beans}    => {Corn}         0.1011011 0.5000000 \n",
            "[329] {Corn, Kidney.Beans}      => {chocolate}    0.1001001 0.5128205 \n",
            "[330] {chocolate, Corn}         => {Kidney.Beans} 0.1001001 0.5208333 \n",
            "[331] {chocolate, Kidney.Beans} => {Corn}         0.1001001 0.5235602 \n",
            "[332] {Corn, Milk}              => {chocolate}    0.1021021 0.5284974 \n",
            "[333] {chocolate, Corn}         => {Milk}         0.1021021 0.5312500 \n",
            "[334] {chocolate, Milk}         => {Corn}         0.1021021 0.4834123 \n",
            "[335] {Corn, Ice.cream}         => {Butter}       0.1021021 0.5312500 \n",
            "[336] {Butter, Corn}            => {Ice.cream}    0.1021021 0.5340314 \n",
            "[337] {Butter, Ice.cream}       => {Corn}         0.1021021 0.4927536 \n",
            "[338] {Kidney.Beans, Milk}      => {Butter}       0.1041041 0.5226131 \n",
            "[339] {Butter, Kidney.Beans}    => {Milk}         0.1041041 0.5148515 \n",
            "[340] {Butter, Milk}            => {Kidney.Beans} 0.1041041 0.5252525 \n",
            "[341] {Ice.cream, Kidney.Beans} => {Butter}       0.1101101 0.5612245 \n",
            "[342] {Butter, Kidney.Beans}    => {Ice.cream}    0.1101101 0.5445545 \n",
            "[343] {Butter, Ice.cream}       => {Kidney.Beans} 0.1101101 0.5314010 \n",
            "[344] {Ice.cream, Sugar}        => {Butter}       0.1061061 0.5435897 \n",
            "[345] {Butter, Sugar}           => {Ice.cream}    0.1061061 0.5408163 \n",
            "[346] {Butter, Ice.cream}       => {Sugar}        0.1061061 0.5120773 \n",
            "[347] {Milk, Yogurt}            => {chocolate}    0.1041041 0.5473684 \n",
            "[348] {chocolate, Milk}         => {Yogurt}       0.1041041 0.4928910 \n",
            "[349] {chocolate, Yogurt}       => {Milk}         0.1041041 0.5252525 \n",
            "[350] {Butter, Milk}            => {chocolate}    0.1021021 0.5151515 \n",
            "[351] {chocolate, Milk}         => {Butter}       0.1021021 0.4834123 \n",
            "[352] {Butter, chocolate}       => {Milk}         0.1021021 0.5049505 \n",
            "[353] {Butter, Ice.cream}       => {chocolate}    0.1091091 0.5265700 \n",
            "[354] {chocolate, Ice.cream}    => {Butter}       0.1091091 0.5396040 \n",
            "[355] {Butter, chocolate}       => {Ice.cream}    0.1091091 0.5396040 \n",
            "      coverage  lift      count\n",
            "[1]   1.0000000 1.0000000 384  \n",
            "[2]   1.0000000 1.0000000 384  \n",
            "[3]   1.0000000 1.0000000 383  \n",
            "[4]   1.0000000 1.0000000 389  \n",
            "[5]   1.0000000 1.0000000 398  \n",
            "[6]   1.0000000 1.0000000 404  \n",
            "[7]   1.0000000 1.0000000 401  \n",
            "[8]   1.0000000 1.0000000 403  \n",
            "[9]   1.0000000 1.0000000 407  \n",
            "[10]  1.0000000 1.0000000 408  \n",
            "[11]  1.0000000 1.0000000 409  \n",
            "[12]  1.0000000 1.0000000 405  \n",
            "[13]  1.0000000 1.0000000 410  \n",
            "[14]  1.0000000 1.0000000 420  \n",
            "[15]  1.0000000 1.0000000 420  \n",
            "[16]  1.0000000 1.0000000 421  \n",
            "[17]  0.3843844 1.0636597 157  \n",
            "[18]  0.3843844 1.0636597 157  \n",
            "[19]  0.3843844 1.0596443 156  \n",
            "[20]  0.3833834 1.0596443 156  \n",
            "[21]  0.3843844 1.1235540 168  \n",
            "[22]  0.3893894 1.1235540 168  \n",
            "[23]  0.3843844 1.0262445 157  \n",
            "[24]  0.3983984 1.0262445 157  \n",
            "[25]  0.3843844 1.0882774 169  \n",
            "[26]  0.4044044 1.0882774 169  \n",
            "[27]  0.3843844 1.1158822 172  \n",
            "[28]  0.4014014 1.1158822 172  \n",
            "[29]  0.3843844 1.1232553 174  \n",
            "[30]  0.4034034 1.1232553 174  \n",
            "[31]  0.3843844 1.1505682 180  \n",
            "[32]  0.4074074 1.1505682 180  \n",
            "[33]  0.3843844 1.0776080 169  \n",
            "[34]  0.4084084 1.0776080 169  \n",
            "[35]  0.3843844 1.0813340 170  \n",
            "[36]  0.4094094 1.0813340 170  \n",
            "[37]  0.3843844 1.1305556 176  \n",
            "[38]  0.4054054 1.1305556 176  \n",
            "[39]  0.3843844 0.9962081 157  \n",
            "[40]  0.4104104 0.9962081 157  \n",
            "[41]  0.3843844 1.1521205 186  \n",
            "[42]  0.4204204 1.1521205 186  \n",
            "[43]  0.3843844 1.0715960 173  \n",
            "[44]  0.4204204 1.0715960 173  \n",
            "[45]  0.3843844 1.1246660 182  \n",
            "[46]  0.4214214 1.1246660 182  \n",
            "[47]  0.3843844 1.0460591 154  \n",
            "[48]  0.3833834 1.0460591 154  \n",
            "[49]  0.3843844 1.1235540 168  \n",
            "[50]  0.3893894 1.1235540 168  \n",
            "[51]  0.3843844 1.0458543 160  \n",
            "[52]  0.3983984 1.0458543 160  \n",
            "[53]  0.3843844 1.1140354 173  \n",
            "[54]  0.4044044 1.1140354 173  \n",
            "[55]  0.3843844 1.1093945 171  \n",
            "[56]  0.4014014 1.1093945 171  \n",
            "[57]  0.3843844 1.1490772 178  \n",
            "[58]  0.4034034 1.1490772 178  \n",
            "[59]  0.3843844 1.1122159 174  \n",
            "[60]  0.4074074 1.1122159 174  \n",
            "[61]  0.3843844 1.0648552 167  \n",
            "[62]  0.4084084 1.0648552 167  \n",
            "[63]  0.3843844 1.1385811 179  \n",
            "[64]  0.4094094 1.1385811 179  \n",
            "[65]  0.3843844 1.1177083 174  \n",
            "[66]  0.4054054 1.1177083 174  \n",
            "[67]  0.3843844 1.1484947 181  \n",
            "[68]  0.4104104 1.1484947 181  \n",
            "[69]  0.3843844 1.1954799 193  \n",
            "[70]  0.4204204 1.1954799 193  \n",
            "[71]  0.3843844 1.1149554 180  \n",
            "[72]  0.4204204 1.1149554 180  \n",
            "[73]  0.3843844 1.1432044 185  \n",
            "[74]  0.4214214 1.1432044 185  \n",
            "[75]  0.3833834 1.1130770 166  \n",
            "[76]  0.3893894 1.1130770 166  \n",
            "[77]  0.3833834 1.1731044 179  \n",
            "[78]  0.3983984 1.1731044 179  \n",
            "[79]  0.3833834 1.0459246 162  \n",
            "[80]  0.4044044 1.0459246 162  \n",
            "[81]  0.3833834 1.1187957 172  \n",
            "[82]  0.4014014 1.1187957 172  \n",
            "[83]  0.3833834 1.0808816 167  \n",
            "[84]  0.4034034 1.0808816 167  \n",
            "[85]  0.3833834 1.1920247 186  \n",
            "[86]  0.4074074 1.1920247 186  \n",
            "[87]  0.3833834 1.1251728 176  \n",
            "[88]  0.4084084 1.1251728 176  \n",
            "[89]  0.3833834 1.1606861 182  \n",
            "[90]  0.4094094 1.1606861 182  \n",
            "[91]  0.3833834 1.1850305 184  \n",
            "[92]  0.4054054 1.1850305 184  \n",
            "[93]  0.3833834 1.0942368 172  \n",
            "[94]  0.4104104 1.0942368 172  \n",
            "[95]  0.3833834 1.1613391 187  \n",
            "[96]  0.4204204 1.1613391 187  \n",
            "[97]  0.3833834 1.1675494 188  \n",
            "[98]  0.4204204 1.1675494 188  \n",
            "[99]  0.3833834 1.1337981 183  \n",
            "[100] 0.4214214 1.1337981 183  \n",
            "[101] 0.3893894 1.0840320 168  \n",
            "[102] 0.3983984 1.0840320 168  \n",
            "[103] 0.3893894 1.0806460 170  \n",
            "[104] 0.4044044 1.0806460 170  \n",
            "[105] 0.3893894 1.0567091 165  \n",
            "[106] 0.4014014 1.0567091 165  \n",
            "[107] 0.3893894 1.1151901 175  \n",
            "[108] 0.4034034 1.1151901 175  \n",
            "[109] 0.3893894 1.1168497 177  \n",
            "[110] 0.4074074 1.1168497 177  \n",
            "[111] 0.3893894 1.1581733 184  \n",
            "[112] 0.4084084 1.1581733 184  \n",
            "[113] 0.3893894 1.1365045 181  \n",
            "[114] 0.4094094 1.1365045 181  \n",
            "[115] 0.3893894 1.1604113 183  \n",
            "[116] 0.4054054 1.1604113 183  \n",
            "[117] 0.3893894 1.1587874 185  \n",
            "[118] 0.4104104 1.1587874 185  \n",
            "[119] 0.3893894 1.1250826 184  \n",
            "[120] 0.4204204 1.1250826 184  \n",
            "[121] 0.3893894 1.1128535 182  \n",
            "[122] 0.4204204 1.1128535 182  \n",
            "[123] 0.3893894 1.1346103 186  \n",
            "[124] 0.4214214 1.1346103 186  \n",
            "[125] 0.3983984 1.0997002 177  \n",
            "[126] 0.4044044 1.0997002 177  \n",
            "[127] 0.3983984 1.0828895 173  \n",
            "[128] 0.4014014 1.0828895 173  \n",
            "[129] 0.3983984 1.1958552 192  \n",
            "[130] 0.4034034 1.1958552 192  \n",
            "[131] 0.3983984 1.1100959 180  \n",
            "[132] 0.4074074 1.1100959 180  \n",
            "[133] 0.3983984 1.0581584 172  \n",
            "[134] 0.4084084 1.0581584 172  \n",
            "[135] 0.3983984 1.0985306 179  \n",
            "[136] 0.4094094 1.0985306 179  \n",
            "[137] 0.3983984 1.1775544 190  \n",
            "[138] 0.4054054 1.1775544 190  \n",
            "[139] 0.3983984 1.1325836 185  \n",
            "[140] 0.4104104 1.1325836 185  \n",
            "[141] 0.3983984 1.1056174 185  \n",
            "[142] 0.4204204 1.1056174 185  \n",
            "[143] 0.3983984 1.0458543 175  \n",
            "[144] 0.4204204 1.0458543 175  \n",
            "[145] 0.3983984 1.1864608 199  \n",
            "[146] 0.4214214 1.1864608 199  \n",
            "[147] 0.4044044 1.1839708 192  \n",
            "[148] 0.4014014 1.1839708 192  \n",
            "[149] 0.4044044 1.1351436 185  \n",
            "[150] 0.4034034 1.1351436 185  \n",
            "[151] 0.4044044 1.1057606 182  \n",
            "[152] 0.4074074 1.1057606 182  \n",
            "[153] 0.4044044 1.2121433 200  \n",
            "[154] 0.4084084 1.2121433 200  \n",
            "[155] 0.4044044 1.1305829 187  \n",
            "[156] 0.4094094 1.1305829 187  \n",
            "[157] 0.4044044 1.0501650 172  \n",
            "[158] 0.4054054 1.0501650 172  \n",
            "[159] 0.4044044 1.1278254 187  \n",
            "[160] 0.4104104 1.1278254 187  \n",
            "[161] 0.4044044 1.0656471 181  \n",
            "[162] 0.4204204 1.0656471 181  \n",
            "[163] 0.4044044 1.0715347 182  \n",
            "[164] 0.4204204 1.0715347 182  \n",
            "[165] 0.4044044 1.0924837 186  \n",
            "[166] 0.4214214 1.0924837 186  \n",
            "[167] 0.4014014 1.2054541 195  \n",
            "[168] 0.4034034 1.2054541 195  \n",
            "[169] 0.4014014 1.1079120 181  \n",
            "[170] 0.4074074 1.1079120 181  \n",
            "[171] 0.4014014 1.1540450 189  \n",
            "[172] 0.4084084 1.1540450 189  \n",
            "[173] 0.4014014 1.1755879 193  \n",
            "[174] 0.4094094 1.1755879 193  \n",
            "[175] 0.4014014 1.1195345 182  \n",
            "[176] 0.4054054 1.1195345 182  \n",
            "[177] 0.4014014 1.1362630 187  \n",
            "[178] 0.4104104 1.1362630 187  \n",
            "[179] 0.4014014 1.1388671 192  \n",
            "[180] 0.4204204 1.1388671 192  \n",
            "[181] 0.4014014 1.1744567 198  \n",
            "[182] 0.4204204 1.1744567 198  \n",
            "[183] 0.4014014 1.1006569 186  \n",
            "[184] 0.4214214 1.1006569 186  \n",
            "[185] 0.4034034 1.1206858 184  \n",
            "[186] 0.4074074 1.1206858 184  \n",
            "[187] 0.4034034 1.0328784 170  \n",
            "[188] 0.4084084 1.0328784 170  \n",
            "[189] 0.4034034 1.1515710 190  \n",
            "[190] 0.4094094 1.1515710 190  \n",
            "[191] 0.4034034 1.1139785 182  \n",
            "[192] 0.4054054 1.1139785 182  \n",
            "[193] 0.4034034 1.1608546 192  \n",
            "[194] 0.4104104 1.1608546 192  \n",
            "[195] 0.4034034 1.1332152 192  \n",
            "[196] 0.4204204 1.1332152 192  \n",
            "[197] 0.4034034 1.1627260 197  \n",
            "[198] 0.4204204 1.1627260 197  \n",
            "[199] 0.4034034 1.1540760 196  \n",
            "[200] 0.4214214 1.1540760 196  \n",
            "[201] 0.4074074 1.1731283 195  \n",
            "[202] 0.4084084 1.1731283 195  \n",
            "[203] 0.4074074 1.1222494 187  \n",
            "[204] 0.4094094 1.1222494 187  \n",
            "[205] 0.4074074 1.1696970 193  \n",
            "[206] 0.4054054 1.1696970 193  \n",
            "[207] 0.4074074 1.1494457 192  \n",
            "[208] 0.4104104 1.1494457 192  \n",
            "[209] 0.4074074 1.1103896 190  \n",
            "[210] 0.4204204 1.1103896 190  \n",
            "[211] 0.4074074 1.1162338 191  \n",
            "[212] 0.4204204 1.1162338 191  \n",
            "[213] 0.4074074 1.1194127 192  \n",
            "[214] 0.4214214 1.1194127 192  \n",
            "[215] 0.4084084 1.1194988 187  \n",
            "[216] 0.4094094 1.1194988 187  \n",
            "[217] 0.4084084 1.2031046 199  \n",
            "[218] 0.4054054 1.2031046 199  \n",
            "[219] 0.4084084 1.1705165 196  \n",
            "[220] 0.4104104 1.1705165 196  \n",
            "[221] 0.4084084 1.1309874 194  \n",
            "[222] 0.4204204 1.1309874 194  \n",
            "[223] 0.4084084 1.1776261 202  \n",
            "[224] 0.4204204 1.1776261 202  \n",
            "[225] 0.4084084 1.1108530 191  \n",
            "[226] 0.4214214 1.1108530 191  \n",
            "[227] 0.4094094 1.1217604 186  \n",
            "[228] 0.4054054 1.1217604 186  \n",
            "[229] 0.4094094 1.1616972 195  \n",
            "[230] 0.4104104 1.1616972 195  \n",
            "[231] 0.4094094 1.1107754 191  \n",
            "[232] 0.4204204 1.1107754 191  \n",
            "[233] 0.4094094 1.1398533 196  \n",
            "[234] 0.4204204 1.1398533 196  \n",
            "[235] 0.4094094 1.0907317 188  \n",
            "[236] 0.4214214 1.0907317 188  \n",
            "[237] 0.4054054 1.0648780 177  \n",
            "[238] 0.4104104 1.0648780 177  \n",
            "[239] 0.4054054 1.1158730 190  \n",
            "[240] 0.4204204 1.1158730 190  \n",
            "[241] 0.4054054 1.1628571 198  \n",
            "[242] 0.4204204 1.1628571 198  \n",
            "[243] 0.4054054 1.2362629 211  \n",
            "[244] 0.4214214 1.2362629 211  \n",
            "[245] 0.4104104 1.0558537 182  \n",
            "[246] 0.4204204 1.0558537 182  \n",
            "[247] 0.4104104 1.2008885 207  \n",
            "[248] 0.4204204 1.2008885 207  \n",
            "[249] 0.4104104 1.1690980 202  \n",
            "[250] 0.4214214 1.1690980 202  \n",
            "[251] 0.4204204 1.0816837 191  \n",
            "[252] 0.4204204 1.0816837 191  \n",
            "[253] 0.4204204 1.1186630 198  \n",
            "[254] 0.4214214 1.1186630 198  \n",
            "[255] 0.4204204 1.1412623 202  \n",
            "[256] 0.4214214 1.1412623 202  \n",
            "[257] 0.1821822 1.3069074 100  \n",
            "[258] 0.1881882 1.2992249 100  \n",
            "[259] 0.1961962 1.3307934 100  \n",
            "[260] 0.1681682 1.4265779 101  \n",
            "[261] 0.1861862 1.3629843 101  \n",
            "[262] 0.1991992 1.3034194 101  \n",
            "[263] 0.1851852 1.2857143 100  \n",
            "[264] 0.1821822 1.3387832 100  \n",
            "[265] 0.2072072 1.2406393 100  \n",
            "[266] 0.1771772 1.4285234 102  \n",
            "[267] 0.1921922 1.3136603 102  \n",
            "[268] 0.1851852 1.3839196 102  \n",
            "[269] 0.1921922 1.2729736 103  \n",
            "[270] 0.1991992 1.2830530 103  \n",
            "[271] 0.1961962 1.3190570 103  \n",
            "[272] 0.1901902 1.4237530 114  \n",
            "[273] 0.1991992 1.4130653 114  \n",
            "[274] 0.2112112 1.3561409 114  \n",
            "[275] 0.1851852 1.3211401 103  \n",
            "[276] 0.1991992 1.2611472 103  \n",
            "[277] 0.2022022 1.2798771 103  \n",
            "[278] 0.1921922 1.2910980 100  \n",
            "[279] 0.1851852 1.3466334 100  \n",
            "[280] 0.1951952 1.2680883 100  \n",
            "[281] 0.1921922 1.2880285 101  \n",
            "[282] 0.2002002 1.2580923 101  \n",
            "[283] 0.1891892 1.3214286 101  \n",
            "[284] 0.2002002 1.2334841 101  \n",
            "[285] 0.1871872 1.3224678 101  \n",
            "[286] 0.1871872 1.3355615 101  \n",
            "[287] 0.2002002 1.2670244 104  \n",
            "[288] 0.1871872 1.3617490 104  \n",
            "[289] 0.1961962 1.3120832 104  \n",
            "[290] 0.2002002 1.2101900 102  \n",
            "[291] 0.1861862 1.3427419 102  \n",
            "[292] 0.1911912 1.3205381 102  \n",
            "[293] 0.1951952 1.2685714 104  \n",
            "[294] 0.1981982 1.3020528 104  \n",
            "[295] 0.1971972 1.3151892 104  \n",
            "[296] 0.1891892 1.3051146 100  \n",
            "[297] 0.1821822 1.3453458 100  \n",
            "[298] 0.1991992 1.2518954 100  \n",
            "[299] 0.1891892 1.2710884 101  \n",
            "[300] 0.1921922 1.2880285 101  \n",
            "[301] 0.1941942 1.2970023 101  \n",
            "[302] 0.1891892 1.2710884 101  \n",
            "[303] 0.1981982 1.2489973 101  \n",
            "[304] 0.2022022 1.2456359 101  \n",
            "[305] 0.1871872 1.2974026 102  \n",
            "[306] 0.1981982 1.2552106 102  \n",
            "[307] 0.2072072 1.2275832 102  \n",
            "[308] 0.1871872 1.2816315 101  \n",
            "[309] 0.1861862 1.3230921 101  \n",
            "[310] 0.2022022 1.2456359 101  \n",
            "[311] 0.1921922 1.2388393 100  \n",
            "[312] 0.1981982 1.2012987 100  \n",
            "[313] 0.1911912 1.3043308 100  \n",
            "[314] 0.1921922 1.2760045 103  \n",
            "[315] 0.1971972 1.2739507 103  \n",
            "[316] 0.2072072 1.2334664 103  \n",
            "[317] 0.1921922 1.2482556 101  \n",
            "[318] 0.1961962 1.2555874 101  \n",
            "[319] 0.2022022 1.2394541 101  \n",
            "[320] 0.1951952 1.3282051 105  \n",
            "[321] 0.1931932 1.3321015 105  \n",
            "[322] 0.1991992 1.2951119 105  \n",
            "[323] 0.1951952 1.2197802 100  \n",
            "[324] 0.1901902 1.2886997 100  \n",
            "[325] 0.1941942 1.2652296 100  \n",
            "[326] 0.1951952 1.2319780 101  \n",
            "[327] 0.1911912 1.2947721 101  \n",
            "[328] 0.2022022 1.2272727 101  \n",
            "[329] 0.1951952 1.2168829 100  \n",
            "[330] 0.1921922 1.2752757 100  \n",
            "[331] 0.1911912 1.2851023 100  \n",
            "[332] 0.1931932 1.2540829 102  \n",
            "[333] 0.1921922 1.3104167 102  \n",
            "[334] 0.2112112 1.1865575 102  \n",
            "[335] 0.1921922 1.2636161 102  \n",
            "[336] 0.1911912 1.3012131 102  \n",
            "[337] 0.2072072 1.2094862 102  \n",
            "[338] 0.1991992 1.2430725 104  \n",
            "[339] 0.2022022 1.2699670 104  \n",
            "[340] 0.1981982 1.2860963 104  \n",
            "[341] 0.1961962 1.3349125 110  \n",
            "[342] 0.2022022 1.3268534 110  \n",
            "[343] 0.2072072 1.3011509 110  \n",
            "[344] 0.1951952 1.2929670 106  \n",
            "[345] 0.1961962 1.3177451 106  \n",
            "[346] 0.2072072 1.2507707 106  \n",
            "[347] 0.1901902 1.2988624 104  \n",
            "[348] 0.2112112 1.1723764 104  \n",
            "[349] 0.1981982 1.2956229 104  \n",
            "[350] 0.1981982 1.2224142 102  \n",
            "[351] 0.2112112 1.1498307 102  \n",
            "[352] 0.2022022 1.2455446 102  \n",
            "[353] 0.2072072 1.2495094 109  \n",
            "[354] 0.2022022 1.2834866 109  \n",
            "[355] 0.2022022 1.3147911 109  \n"
          ]
        }
      ],
      "source": [
        "inspect(rules2)"
      ]
    },
    {
      "cell_type": "code",
      "execution_count": null,
      "id": "19447339",
      "metadata": {
        "vscode": {
          "languageId": "r"
        },
        "id": "19447339"
      },
      "outputs": [],
      "source": []
    }
  ],
  "metadata": {
    "kernelspec": {
      "display_name": "R",
      "language": "R",
      "name": "ir"
    },
    "language_info": {
      "name": "R"
    },
    "colab": {
      "provenance": [],
      "include_colab_link": true
    }
  },
  "nbformat": 4,
  "nbformat_minor": 5
}
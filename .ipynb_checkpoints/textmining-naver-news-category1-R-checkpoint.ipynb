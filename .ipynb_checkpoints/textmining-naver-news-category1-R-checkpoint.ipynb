{
  "cells": [
    {
      "cell_type": "markdown",
      "metadata": {
        "id": "view-in-github",
        "colab_type": "text"
      },
      "source": [
        "<a href=\"https://colab.research.google.com/github/SJinLee/BasicStats/blob/main/textmining-naver-news-category1-R.ipynb\" target=\"_parent\"><img src=\"https://colab.research.google.com/assets/colab-badge.svg\" alt=\"Open In Colab\"/></a>"
      ]
    },
    {
      "cell_type": "code",
      "execution_count": null,
      "id": "09967b2b",
      "metadata": {
        "id": "09967b2b"
      },
      "outputs": [],
      "source": [
        "library(rvest)"
      ]
    },
    {
      "cell_type": "code",
      "execution_count": null,
      "id": "d0dee689",
      "metadata": {
        "id": "d0dee689"
      },
      "outputs": [],
      "source": [
        "cat <- '정치'\n",
        "caturl <- 'https://news.naver.com/main/main.naver?mode=LSD&mid=shm&sid1=100'\n",
        "catdata <- read_html(caturl)"
      ]
    },
    {
      "cell_type": "code",
      "execution_count": null,
      "id": "0e9e20f6",
      "metadata": {
        "id": "0e9e20f6",
        "outputId": "b995146d-11fc-4042-bb8f-7988118748e3"
      },
      "outputs": [
        {
          "data": {
            "text/plain": [
              "{xml_nodeset (10)}\n",
              " [1] <div class=\"sh_text\">\\n                                        <a href=\" ...\n",
              " [2] <div class=\"sh_text\">\\n                                        <a href=\" ...\n",
              " [3] <div class=\"sh_text\">\\n                                        <a href=\" ...\n",
              " [4] <div class=\"sh_text\">\\n                                        <a href=\" ...\n",
              " [5] <div class=\"sh_text\">\\n                                        <a href=\" ...\n",
              " [6] <div class=\"sh_text\">\\n                                        <a href=\" ...\n",
              " [7] <div class=\"sh_text\">\\n                                        <a href=\" ...\n",
              " [8] <div class=\"sh_text\">\\n                                        <a href=\" ...\n",
              " [9] <div class=\"sh_text\">\\n                                        <a href=\" ...\n",
              "[10] <div class=\"sh_text\">\\n                                        <a href=\" ..."
            ]
          },
          "metadata": {},
          "output_type": "display_data"
        }
      ],
      "source": [
        "article_div <- html_nodes(x=catdata,xpath='//*[@class=\"sh_text\"]')\n",
        "article_div"
      ]
    },
    {
      "cell_type": "code",
      "execution_count": null,
      "id": "ab73f811",
      "metadata": {
        "id": "ab73f811",
        "outputId": "0089d59f-7f8f-4cb1-9884-c6da80f826f7"
      },
      "outputs": [
        {
          "data": {
            "text/plain": [
              "{html_node}\n",
              "<div class=\"sh_text\">\n",
              "[1] <a href=\"https://n.news.naver.com/mnews/article/422/0000601734?sid=100\" c ...\n",
              "[2] <div class=\"sh_text_lede\">북한 발사체 잔해 인양 작전을 사흘째 펼치고 있는 우리 군이 오늘(2일) 잔해에 줄을 ...\n",
              "[3] <div class=\"sh_text_info _rcount\" data-comment=\"{gno:'news422,0000601734' ..."
            ]
          },
          "metadata": {},
          "output_type": "display_data"
        }
      ],
      "source": [
        "article_div[[1]]"
      ]
    },
    {
      "cell_type": "code",
      "execution_count": null,
      "id": "6a74bdc3",
      "metadata": {
        "id": "6a74bdc3",
        "outputId": "e5dce82d-7dea-4a92-bdec-97db0ad2ddb9"
      },
      "outputs": [
        {
          "data": {
            "text/plain": [
              "{xml_nodeset (2)}\n",
              "[1] <a href=\"https://n.news.naver.com/mnews/article/422/0000601734?sid=100\" c ...\n",
              "[2] <a href=\"/main/clusterArticles.naver?id=c_202306021400_00000113&amp;mode= ..."
            ]
          },
          "metadata": {},
          "output_type": "display_data"
        }
      ],
      "source": [
        "article_link <- html_nodes(x=article_div[[1]],'a')\n",
        "article_link"
      ]
    },
    {
      "cell_type": "code",
      "execution_count": null,
      "id": "fe67c785",
      "metadata": {
        "id": "fe67c785",
        "outputId": "9efa52d8-8aeb-47e5-883a-e8499795dd37"
      },
      "outputs": [
        {
          "data": {
            "text/html": [
              "'군, 사흘째 발사체 인양 작전…줄 묶는 작업 진행'"
            ],
            "text/latex": [
              "'군, 사흘째 발사체 인양 작전…줄 묶는 작업 진행'"
            ],
            "text/markdown": [
              "'군, 사흘째 발사체 인양 작전…줄 묶는 작업 진행'"
            ],
            "text/plain": [
              "[1] \"군, 사흘째 발사체 인양 작전…줄 묶는 작업 진행\""
            ]
          },
          "metadata": {},
          "output_type": "display_data"
        }
      ],
      "source": [
        "article_title <- html_text(article_link[[1]])\n",
        "article_title"
      ]
    },
    {
      "cell_type": "code",
      "execution_count": null,
      "id": "55eab32b",
      "metadata": {
        "id": "55eab32b",
        "outputId": "22f6564e-b2e0-4328-c80a-a0c50bac9452"
      },
      "outputs": [
        {
          "data": {
            "text/html": [
              "'https://n.news.naver.com/mnews/article/422/0000601734?sid=100'"
            ],
            "text/latex": [
              "'https://n.news.naver.com/mnews/article/422/0000601734?sid=100'"
            ],
            "text/markdown": [
              "'https://n.news.naver.com/mnews/article/422/0000601734?sid=100'"
            ],
            "text/plain": [
              "[1] \"https://n.news.naver.com/mnews/article/422/0000601734?sid=100\""
            ]
          },
          "metadata": {},
          "output_type": "display_data"
        }
      ],
      "source": [
        "article_url <- html_attr(x=article_link[[1]],'href')\n",
        "article_url"
      ]
    },
    {
      "cell_type": "code",
      "execution_count": null,
      "id": "ed6554fd",
      "metadata": {
        "id": "ed6554fd",
        "outputId": "2f9a7609-610d-4fae-8737-1c47cb07a369"
      },
      "outputs": [
        {
          "data": {
            "text/plain": [
              "{html_document}\n",
              "<html lang=\"ko\" data-useragent=\"R (4.2.3 x86_64-pc-linux-gnu x86_64 linux-gnu)\">\n",
              "[1] <head>\\n<meta http-equiv=\"Content-Type\" content=\"text/html; charset=UTF-8 ...\n",
              "[2] <body class=\"n_news_mnews fs2 as_mp_layout\">\\n\\t\\t<div class=\"end_contain ..."
            ]
          },
          "metadata": {},
          "output_type": "display_data"
        }
      ],
      "source": [
        "article_body <- read_html(article_url)\n",
        "article_body"
      ]
    },
    {
      "cell_type": "code",
      "execution_count": null,
      "id": "a52525e8",
      "metadata": {
        "id": "a52525e8",
        "outputId": "1960818f-e107-47b5-9f8c-6c282aae84a0"
      },
      "outputs": [
        {
          "data": {
            "text/plain": [
              "{xml_nodeset (1)}\n",
              "[1] <div id=\"newsct_article\" class=\"newsct_article _article_body\">\\n\\t\\t<div  ..."
            ]
          },
          "metadata": {},
          "output_type": "display_data"
        }
      ],
      "source": [
        "article_content <- html_nodes(x=article_body,\n",
        "                              xpath='//*[@class=\"newsct_article _article_body\"]'\n",
        "                             )\n",
        "article_content"
      ]
    },
    {
      "cell_type": "code",
      "execution_count": null,
      "id": "3631d4a9",
      "metadata": {
        "id": "3631d4a9",
        "outputId": "b70e8a7f-a96a-4f5c-cbd6-24cebc801150"
      },
      "outputs": [
        {
          "data": {
            "text/html": [
              "'\\n\\t\\t\\n\\t\\t\\t북한 발사체 잔해 인양 작전을 사흘째 펼치고 있는 우리 군이 오늘(2일) 잔해에 줄을 묶는 작업에 나섭니다.군 관계자는 \"오늘(2일) 오후 청해진함이 현장에 도착하면 포화 잠수를 실시해 동체 일부를 묶어 끌어올리기 위한 준비 작업을 진행할 예정\"이라고 밝혔습니다.앞서 우리 군은 지난달 31일 어청도 서쪽 200여㎞ 지점에서 발사체의 2단 부분으로 추정되는 길이 15m, 직경 2~3m인 잔해를 발견했습니다.당시엔 잔해 일부가 떠 있었으나 이후 수심 75m 바닥에 가라앉았습니다.조한대 기자 (onepunch@yna.co.kr)#발사체 #합참 #인양 연합뉴스TV 기사문의 및 제보 : 카톡/라인 jebo23\\n\\t'"
            ],
            "text/latex": [
              "'\\textbackslash{}n\\textbackslash{}t\\textbackslash{}t\\textbackslash{}n\\textbackslash{}t\\textbackslash{}t\\textbackslash{}t북한 발사체 잔해 인양 작전을 사흘째 펼치고 있는 우리 군이 오늘(2일) 잔해에 줄을 묶는 작업에 나섭니다.군 관계자는 \"오늘(2일) 오후 청해진함이 현장에 도착하면 포화 잠수를 실시해 동체 일부를 묶어 끌어올리기 위한 준비 작업을 진행할 예정\"이라고 밝혔습니다.앞서 우리 군은 지난달 31일 어청도 서쪽 200여㎞ 지점에서 발사체의 2단 부분으로 추정되는 길이 15m, 직경 2\\textasciitilde{}3m인 잔해를 발견했습니다.당시엔 잔해 일부가 떠 있었으나 이후 수심 75m 바닥에 가라앉았습니다.조한대 기자 (onepunch@yna.co.kr)\\#발사체 \\#합참 \\#인양 연합뉴스TV 기사문의 및 제보 : 카톡/라인 jebo23\\textbackslash{}n\\textbackslash{}t'"
            ],
            "text/markdown": [
              "'\\n\\t\\t\\n\\t\\t\\t북한 발사체 잔해 인양 작전을 사흘째 펼치고 있는 우리 군이 오늘(2일) 잔해에 줄을 묶는 작업에 나섭니다.군 관계자는 \"오늘(2일) 오후 청해진함이 현장에 도착하면 포화 잠수를 실시해 동체 일부를 묶어 끌어올리기 위한 준비 작업을 진행할 예정\"이라고 밝혔습니다.앞서 우리 군은 지난달 31일 어청도 서쪽 200여㎞ 지점에서 발사체의 2단 부분으로 추정되는 길이 15m, 직경 2~3m인 잔해를 발견했습니다.당시엔 잔해 일부가 떠 있었으나 이후 수심 75m 바닥에 가라앉았습니다.조한대 기자 (onepunch@yna.co.kr)#발사체 #합참 #인양 연합뉴스TV 기사문의 및 제보 : 카톡/라인 jebo23\\n\\t'"
            ],
            "text/plain": [
              "[1] \"\\n\\t\\t\\n\\t\\t\\t북한 발사체 잔해 인양 작전을 사흘째 펼치고 있는 우리 군이 오늘(2일) 잔해에 줄을 묶는 작업에 나섭니다.군 관계자는 \\\"오늘(2일) 오후 청해진함이 현장에 도착하면 포화 잠수를 실시해 동체 일부를 묶어 끌어올리기 위한 준비 작업을 진행할 예정\\\"이라고 밝혔습니다.앞서 우리 군은 지난달 31일 어청도 서쪽 200여㎞ 지점에서 발사체의 2단 부분으로 추정되는 길이 15m, 직경 2~3m인 잔해를 발견했습니다.당시엔 잔해 일부가 떠 있었으나 이후 수심 75m 바닥에 가라앉았습니다.조한대 기자 (onepunch@yna.co.kr)#발사체 #합참 #인양 연합뉴스TV 기사문의 및 제보 : 카톡/라인 jebo23\\n\\t\""
            ]
          },
          "metadata": {},
          "output_type": "display_data"
        }
      ],
      "source": [
        "article_text <- html_text(article_content)\n",
        "article_text"
      ]
    },
    {
      "cell_type": "code",
      "execution_count": null,
      "id": "3c36fa6f",
      "metadata": {
        "id": "3c36fa6f"
      },
      "outputs": [],
      "source": [
        "article_link <- lapply(article_div,function(x) {html_nodes(x=x,'a')[[1]]})\n",
        "article_title <- lapply(article_link,html_text)\n",
        "article_url <-  lapply(article_link,function(x) {html_attr(x=x,'href')})\n",
        "article_body <- lapply(article_url,read_html)\n",
        "article_content <- lapply(article_body,\n",
        "                          function(x) {\n",
        "                              html_nodes(x=x,\n",
        "                                         xpath='//*[@class=\"newsct_article _article_body\"]')\n",
        "                          })\n",
        "article_text <- lapply(article_content,html_text)\n",
        "df_article <- data.frame(category=cat,\n",
        "                       title=unlist(article_title),\n",
        "                       url=unlist(article_url),\n",
        "                       text=unlist(article_text))"
      ]
    },
    {
      "cell_type": "code",
      "execution_count": null,
      "id": "e59cd266",
      "metadata": {
        "id": "e59cd266",
        "outputId": "197885b3-5779-432f-e5cd-83c1a8fe08ab"
      },
      "outputs": [
        {
          "data": {
            "text/plain": [
              "\n",
              "정치 \n",
              "  10 "
            ]
          },
          "metadata": {},
          "output_type": "display_data"
        }
      ],
      "source": [
        "table(df_article[['category']])"
      ]
    },
    {
      "cell_type": "markdown",
      "id": "d11cf09d",
      "metadata": {
        "id": "d11cf09d"
      },
      "source": [
        "### khaiii 사용법\n",
        "1. install.packages(\"reticulate\") \n",
        "2. library(reticulate) \n",
        "3. khaiii <- import('khaiii')\n",
        "4. api <- khaiii$KhaiiiApi()\n",
        "\n",
        "5. a <- api$analyze(\"데이터 분석을 공부하고 있는 개발자\")"
      ]
    },
    {
      "cell_type": "code",
      "execution_count": null,
      "id": "6fba8056",
      "metadata": {
        "id": "6fba8056"
      },
      "outputs": [],
      "source": [
        "library(reticulate)\n",
        "khaiii <- import('khaiii')\n",
        "api <- khaiii$KhaiiiApi()"
      ]
    },
    {
      "cell_type": "code",
      "execution_count": null,
      "id": "74f5a04c",
      "metadata": {
        "id": "74f5a04c"
      },
      "outputs": [],
      "source": [
        "a <- api$analyze(\"데이터 분석을 공부하고 있는 개발자\")"
      ]
    },
    {
      "cell_type": "code",
      "execution_count": null,
      "id": "d1c131f3",
      "metadata": {
        "id": "d1c131f3",
        "outputId": "6dcc4950-5bef-4ef7-c2f3-f777f7308e09"
      },
      "outputs": [
        {
          "name": "stdout",
          "output_type": "stream",
          "text": [
            "[1] \"데이터: 데이터/NNG\"\n",
            "[1] \"분석을: 분석/NNG,을/JKO\"\n",
            "[1] \"공부하고: 공부/NNG,하/XSV,고/EC\"\n",
            "[1] \"있는: 있/VX,는/ETM\"\n",
            "[1] \"개발자: 개발자/NNG\"\n"
          ]
        }
      ],
      "source": [
        "for (word in a) {\n",
        "    s <- paste(word$lex,\": \",sep='')\n",
        "    t <- unlist(Map(function(x){paste(x$lex,x$tag,sep='/')},word$morphs))\n",
        "    s <- paste(s, paste(t,collapse=','),sep='')\n",
        "    print(s)\n",
        "}"
      ]
    },
    {
      "cell_type": "markdown",
      "id": "d8ec7336",
      "metadata": {
        "id": "d8ec7336"
      },
      "source": [
        "<table> <thead> <tr> <th>분류</th> <th>품사</th> <th>설명</th> <th>분류</th> <th>품사</th> <th>설명</th> </tr> </thead> <tbody> <tr> <td>체언</td> <td>NNG</td> <td>일반 명사</td> <td>의존 형태</td> <td>EP</td> <td>선어말 어미</td> </tr> <tr> <td>체언</td> <td>NNP</td> <td>고유 명사</td> <td>의존 형태</td> <td>EF</td> <td>종결 어미</td> </tr> <tr> <td>체언</td> <td>NNB</td> <td>의존 명사</td> <td>의존 형태</td> <td>EC</td> <td>연결 어미</td> </tr> <tr> <td>체언</td> <td>NP</td> <td>대명사</td> <td>의존 형태</td> <td>ETN</td> <td>명사형 전성 어미</td> </tr> <tr> <td>체언</td> <td>NR</td> <td>수사</td> <td>의존 형태</td> <td>ETM</td> <td>관형형 전성 어미</td> </tr> <tr> <td>용언</td> <td>VV</td> <td>동사</td> <td>의존 형태</td> <td>XPN</td> <td>체언 접두사</td> </tr> <tr> <td>용언</td> <td>VA</td> <td>형용사</td> <td>의존 형태</td> <td>XSN</td> <td>명사 파생 접미사</td> </tr> <tr> <td>용언</td> <td>VX</td> <td>보조 용언</td> <td>의존 형태</td> <td>XSV</td> <td>동사 파생 접미사</td> </tr> <tr> <td>용언</td> <td>VCP</td> <td>긍정 지정사</td> <td>의존 형태</td> <td>XSA</td> <td>형용사 파생 접미사</td> </tr> <tr> <td>용언</td> <td>VCN</td> <td>부정 지정사</td> <td>의존 형태</td> <td>XR</td> <td>어근</td> </tr> <tr> <td>수식언</td> <td>MM</td> <td>관형사</td> <td>기호</td> <td>SF</td> <td>마침표, 물음표, 느낌표</td> </tr> <tr> <td>수식언</td> <td>MAG</td> <td>일반 부사</td> <td>기호</td> <td>SP</td> <td>쉼표, 가운뎃점, 콜론, 빗금</td> </tr> <tr> <td>수식언</td> <td>MAJ</td> <td>접속 부사</td> <td>기호</td> <td>SS</td> <td>따옴표, 괄호표, 줄표</td> </tr> <tr> <td>독립언</td> <td>IC</td> <td>감탄사</td> <td>기호</td> <td>SE</td> <td>줄임표</td> </tr> <tr> <td>관계언</td> <td>JKS</td> <td>주격 조사</td> <td>기호</td> <td>SO</td> <td>붙임표(물결, 숨김, 빠짐)</td> </tr> <tr> <td>관계언</td> <td>JKC</td> <td>보격 조사</td> <td>기호</td> <td>SL</td> <td>외국어</td> </tr> <tr> <td>관계언</td> <td>JKG</td> <td>관형격 조사</td> <td>기호</td> <td>SH</td> <td>한자</td> </tr> <tr> <td>관계언</td> <td>JKO</td> <td>목적격 조사</td> <td>기호</td> <td>SW</td> <td>기타 기호(논리, 수학 기호, 화폐 기호 등)</td> </tr> <tr> <td>관계언</td> <td>JKB</td> <td>부사격 조사</td> <td>기호</td> <td><strong>SWK</strong></td> <td>한글 자소</td> </tr> <tr> <td>관계언</td> <td>JKV</td> <td>호격 조사</td> <td>기호</td> <td>SN</td> <td>숫자</td> </tr> <tr> <td>관계언</td> <td>JKQ</td> <td>인용격 조사</td> <td>추정</td> <td><strong>ZN</strong></td> <td>분석 불능(명사 추정)</td> </tr> <tr> <td>관계언</td> <td>JX</td> <td>보조사</td> <td>추정</td> <td><strong>ZV</strong></td> <td>분석 불능(용언 추정)</td> </tr> <tr> <td>관계언</td> <td>JC</td> <td>접속 조사</td> <td>추정</td> <td><strong>ZZ</strong></td> <td>분석 불능(기타)</td> </tr> </tbody> </table>"
      ]
    },
    {
      "cell_type": "code",
      "execution_count": null,
      "id": "606d1f05",
      "metadata": {
        "id": "606d1f05"
      },
      "outputs": [],
      "source": [
        "extractNoun <- function(txt) {\n",
        "    a = api$analyze(txt)\n",
        "    noun <- c()\n",
        "    for (token in a) {\n",
        "        tags <- unlist(Map(function(x){x$tag},token$morphs))\n",
        "        lexs <- unlist(Map(function(x){x$lex},token$morphs))\n",
        "        noun <- c(noun,lexs[tags=='NNG'])\n",
        "    }\n",
        "    paste(noun,collapse=' ')\n",
        "}"
      ]
    },
    {
      "cell_type": "code",
      "execution_count": null,
      "id": "c4837d2a",
      "metadata": {
        "id": "c4837d2a"
      },
      "outputs": [],
      "source": [
        "nouns <- Map(extractNoun,df_article[['text']]) "
      ]
    },
    {
      "cell_type": "code",
      "execution_count": null,
      "id": "5e8df4a0",
      "metadata": {
        "id": "5e8df4a0",
        "outputId": "d094131d-7c05-4b45-b1a8-9c8546ea3a66"
      },
      "outputs": [
        {
          "name": "stderr",
          "output_type": "stream",
          "text": [
            "Loading required package: NLP\n",
            "\n"
          ]
        }
      ],
      "source": [
        "library(tm)"
      ]
    },
    {
      "cell_type": "code",
      "execution_count": null,
      "id": "5b274ecf",
      "metadata": {
        "id": "5b274ecf"
      },
      "outputs": [],
      "source": [
        "source <- VectorSource(nouns)"
      ]
    },
    {
      "cell_type": "code",
      "execution_count": null,
      "id": "de9ae63c",
      "metadata": {
        "id": "de9ae63c"
      },
      "outputs": [],
      "source": [
        "corpus <- VCorpus(source)"
      ]
    },
    {
      "cell_type": "code",
      "execution_count": null,
      "id": "95b7cced",
      "metadata": {
        "id": "95b7cced"
      },
      "outputs": [],
      "source": [
        "tdm <- TermDocumentMatrix(corpus)"
      ]
    },
    {
      "cell_type": "code",
      "execution_count": null,
      "id": "0ee5449f",
      "metadata": {
        "id": "0ee5449f"
      },
      "outputs": [],
      "source": [
        "m <- as.matrix(tdm)"
      ]
    },
    {
      "cell_type": "code",
      "execution_count": null,
      "id": "c55c016f",
      "metadata": {
        "id": "c55c016f"
      },
      "outputs": [],
      "source": [
        "freqs <- rowSums(m)"
      ]
    },
    {
      "cell_type": "code",
      "execution_count": null,
      "id": "ff3d0057",
      "metadata": {
        "id": "ff3d0057"
      },
      "outputs": [],
      "source": [
        "freqs <- sort(freqs,decreasing=T)"
      ]
    },
    {
      "cell_type": "code",
      "execution_count": null,
      "id": "d0d660cf",
      "metadata": {
        "id": "d0d660cf",
        "outputId": "e1fbc120-66ed-4cac-8dbd-7bd77a1c3664"
      },
      "outputs": [
        {
          "data": {
            "text/html": [
              "115"
            ],
            "text/latex": [
              "115"
            ],
            "text/markdown": [
              "115"
            ],
            "text/plain": [
              "[1] 115"
            ]
          },
          "metadata": {},
          "output_type": "display_data"
        }
      ],
      "source": [
        "length(freqs)"
      ]
    },
    {
      "cell_type": "code",
      "execution_count": null,
      "id": "55a95be8",
      "metadata": {
        "id": "55a95be8",
        "outputId": "16c80513-6369-411b-cc1f-61d7a811b086"
      },
      "outputs": [
        {
          "data": {
            "text/html": [
              "<style>\n",
              ".dl-inline {width: auto; margin:0; padding: 0}\n",
              ".dl-inline>dt, .dl-inline>dd {float: none; width: auto; display: inline-block}\n",
              ".dl-inline>dt::after {content: \":\\0020\"; padding-right: .5ex}\n",
              ".dl-inline>dt:not(:first-of-type) {padding-left: .5ex}\n",
              "</style><dl class=dl-inline><dt>선관위</dt><dd>28</dd><dt>대통령</dt><dd>18</dd><dt>감사원</dt><dd>16</dd><dt>공무원</dt><dd>10</dd><dt>보훈부</dt><dd>6</dd><dt>사무총장</dt><dd>6</dd><dt>감사원법</dt><dd>5</dd><dt>국무부</dt><dd>5</dd><dt>대변인</dt><dd>5</dd><dt>외교부</dt><dd>5</dd></dl>\n"
            ],
            "text/latex": [
              "\\begin{description*}\n",
              "\\item[선관위] 28\n",
              "\\item[대통령] 18\n",
              "\\item[감사원] 16\n",
              "\\item[공무원] 10\n",
              "\\item[보훈부] 6\n",
              "\\item[사무총장] 6\n",
              "\\item[감사원법] 5\n",
              "\\item[국무부] 5\n",
              "\\item[대변인] 5\n",
              "\\item[외교부] 5\n",
              "\\end{description*}\n"
            ],
            "text/markdown": [
              "선관위\n",
              ":   28대통령\n",
              ":   18감사원\n",
              ":   16공무원\n",
              ":   10보훈부\n",
              ":   6사무총장\n",
              ":   6감사원법\n",
              ":   5국무부\n",
              ":   5대변인\n",
              ":   5외교부\n",
              ":   5\n",
              "\n"
            ],
            "text/plain": [
              "  선관위   대통령   감사원   공무원   보훈부 사무총장 감사원법   국무부 \n",
              "      28       18       16       10        6        6        5        5 \n",
              "  대변인   외교부 \n",
              "       5        5 "
            ]
          },
          "metadata": {},
          "output_type": "display_data"
        }
      ],
      "source": [
        "freqs[1:10]"
      ]
    },
    {
      "cell_type": "code",
      "execution_count": null,
      "id": "cca92790",
      "metadata": {
        "id": "cca92790",
        "outputId": "f34e2bb4-f06b-4dd5-882c-73a47ea54b41"
      },
      "outputs": [
        {
          "name": "stderr",
          "output_type": "stream",
          "text": [
            "Loading required package: RColorBrewer\n",
            "\n"
          ]
        }
      ],
      "source": [
        "library(wordcloud)"
      ]
    },
    {
      "cell_type": "code",
      "execution_count": null,
      "id": "8b2cef4e",
      "metadata": {
        "id": "8b2cef4e"
      },
      "outputs": [],
      "source": [
        "library(repr)"
      ]
    },
    {
      "cell_type": "code",
      "execution_count": null,
      "id": "16d9096a",
      "metadata": {
        "id": "16d9096a",
        "outputId": "3e1d9bdf-9e13-45b7-c86e-4ae5b381f9ba"
      },
      "outputs": [
        {
          "data": {
            "image/png": "[encoded data removed]",
            "text/plain": [
              "plot without title"
            ]
          },
          "metadata": {
            "image/png": {
              "height": 480,
              "width": 600
            }
          },
          "output_type": "display_data"
        }
      ],
      "source": [
        "options(repr.plot.width=10, repr.plot.height=8)\n",
        "pal<-brewer.pal(8, \"Accent\")\n",
        "wordcloud(names(freqs), freqs, max.words=120, scale=c(7, 0.5), colors=pal)"
      ]
    },
    {
      "cell_type": "code",
      "execution_count": null,
      "id": "c56ee680",
      "metadata": {
        "id": "c56ee680"
      },
      "outputs": [],
      "source": []
    }
  ],
  "metadata": {
    "kernelspec": {
      "display_name": "R",
      "language": "R",
      "name": "ir"
    },
    "language_info": {
      "codemirror_mode": "r",
      "file_extension": ".r",
      "mimetype": "text/x-r-source",
      "name": "R",
      "pygments_lexer": "r",
      "version": "4.2.3"
    },
    "colab": {
      "provenance": [],
      "include_colab_link": true
    }
  },
  "nbformat": 4,
  "nbformat_minor": 5
}
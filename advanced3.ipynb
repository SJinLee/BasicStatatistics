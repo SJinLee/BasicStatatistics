{
 "cells": [
  {
   "cell_type": "code",
   "execution_count": 1,
   "metadata": {
    "vscode": {
     "languageId": "r"
    }
   },
   "outputs": [],
   "source": [
    "df = read.csv('csv/mds.csv',row.names = 1)"
   ]
  },
  {
   "cell_type": "code",
   "execution_count": 2,
   "metadata": {
    "vscode": {
     "languageId": "r"
    }
   },
   "outputs": [
    {
     "data": {
      "text/html": [
       "<table class=\"dataframe\">\n",
       "<caption>A data.frame: 9 × 9</caption>\n",
       "<thead>\n",
       "\t<tr><th></th><th scope=col>서울</th><th scope=col>인천</th><th scope=col>부산</th><th scope=col>대구</th><th scope=col>대전</th><th scope=col>청주</th><th scope=col>춘천</th><th scope=col>광주</th><th scope=col>전주</th></tr>\n",
       "\t<tr><th></th><th scope=col>&lt;int&gt;</th><th scope=col>&lt;int&gt;</th><th scope=col>&lt;int&gt;</th><th scope=col>&lt;int&gt;</th><th scope=col>&lt;int&gt;</th><th scope=col>&lt;int&gt;</th><th scope=col>&lt;int&gt;</th><th scope=col>&lt;int&gt;</th><th scope=col>&lt;int&gt;</th></tr>\n",
       "</thead>\n",
       "<tbody>\n",
       "\t<tr><th scope=row>서울</th><td>  0</td><td> NA</td><td> NA</td><td> NA</td><td> NA</td><td> NA</td><td> NA</td><td>NA</td><td>NA</td></tr>\n",
       "\t<tr><th scope=row>인천</th><td> 28</td><td>  0</td><td> NA</td><td> NA</td><td> NA</td><td> NA</td><td> NA</td><td>NA</td><td>NA</td></tr>\n",
       "\t<tr><th scope=row>부산</th><td>306</td><td>315</td><td>  0</td><td> NA</td><td> NA</td><td> NA</td><td> NA</td><td>NA</td><td>NA</td></tr>\n",
       "\t<tr><th scope=row>대구</th><td>213</td><td>224</td><td> 94</td><td>  0</td><td> NA</td><td> NA</td><td> NA</td><td>NA</td><td>NA</td></tr>\n",
       "\t<tr><th scope=row>대전</th><td>128</td><td>130</td><td>187</td><td>104</td><td>  0</td><td> NA</td><td> NA</td><td>NA</td><td>NA</td></tr>\n",
       "\t<tr><th scope=row>청주</th><td>100</td><td>107</td><td>208</td><td>118</td><td> 31</td><td>  0</td><td> NA</td><td>NA</td><td>NA</td></tr>\n",
       "\t<tr><th scope=row>춘천</th><td> 91</td><td>119</td><td>295</td><td>202</td><td>158</td><td>128</td><td>  0</td><td>NA</td><td>NA</td></tr>\n",
       "\t<tr><th scope=row>광주</th><td>240</td><td>232</td><td>177</td><td>154</td><td>126</td><td>156</td><td>284</td><td> 0</td><td>NA</td></tr>\n",
       "\t<tr><th scope=row>전주</th><td>173</td><td>169</td><td>178</td><td>118</td><td> 57</td><td> 87</td><td>215</td><td>69</td><td> 0</td></tr>\n",
       "</tbody>\n",
       "</table>\n"
      ],
      "text/latex": [
       "A data.frame: 9 × 9\n",
       "\\begin{tabular}{r|lllllllll}\n",
       "  & 서울 & 인천 & 부산 & 대구 & 대전 & 청주 & 춘천 & 광주 & 전주\\\\\n",
       "  & <int> & <int> & <int> & <int> & <int> & <int> & <int> & <int> & <int>\\\\\n",
       "\\hline\n",
       "\t서울 &   0 &  NA &  NA &  NA &  NA &  NA &  NA & NA & NA\\\\\n",
       "\t인천 &  28 &   0 &  NA &  NA &  NA &  NA &  NA & NA & NA\\\\\n",
       "\t부산 & 306 & 315 &   0 &  NA &  NA &  NA &  NA & NA & NA\\\\\n",
       "\t대구 & 213 & 224 &  94 &   0 &  NA &  NA &  NA & NA & NA\\\\\n",
       "\t대전 & 128 & 130 & 187 & 104 &   0 &  NA &  NA & NA & NA\\\\\n",
       "\t청주 & 100 & 107 & 208 & 118 &  31 &   0 &  NA & NA & NA\\\\\n",
       "\t춘천 &  91 & 119 & 295 & 202 & 158 & 128 &   0 & NA & NA\\\\\n",
       "\t광주 & 240 & 232 & 177 & 154 & 126 & 156 & 284 &  0 & NA\\\\\n",
       "\t전주 & 173 & 169 & 178 & 118 &  57 &  87 & 215 & 69 &  0\\\\\n",
       "\\end{tabular}\n"
      ],
      "text/markdown": [
       "\n",
       "A data.frame: 9 × 9\n",
       "\n",
       "| <!--/--> | 서울 &lt;int&gt; | 인천 &lt;int&gt; | 부산 &lt;int&gt; | 대구 &lt;int&gt; | 대전 &lt;int&gt; | 청주 &lt;int&gt; | 춘천 &lt;int&gt; | 광주 &lt;int&gt; | 전주 &lt;int&gt; |\n",
       "|---|---|---|---|---|---|---|---|---|---|\n",
       "| 서울 |   0 |  NA |  NA |  NA |  NA |  NA |  NA | NA | NA |\n",
       "| 인천 |  28 |   0 |  NA |  NA |  NA |  NA |  NA | NA | NA |\n",
       "| 부산 | 306 | 315 |   0 |  NA |  NA |  NA |  NA | NA | NA |\n",
       "| 대구 | 213 | 224 |  94 |   0 |  NA |  NA |  NA | NA | NA |\n",
       "| 대전 | 128 | 130 | 187 | 104 |   0 |  NA |  NA | NA | NA |\n",
       "| 청주 | 100 | 107 | 208 | 118 |  31 |   0 |  NA | NA | NA |\n",
       "| 춘천 |  91 | 119 | 295 | 202 | 158 | 128 |   0 | NA | NA |\n",
       "| 광주 | 240 | 232 | 177 | 154 | 126 | 156 | 284 |  0 | NA |\n",
       "| 전주 | 173 | 169 | 178 | 118 |  57 |  87 | 215 | 69 |  0 |\n",
       "\n"
      ],
      "text/plain": [
       "     서울 인천 부산 대구 대전 청주 춘천 광주 전주\n",
       "서울   0   NA   NA   NA   NA   NA   NA  NA   NA  \n",
       "인천  28    0   NA   NA   NA   NA   NA  NA   NA  \n",
       "부산 306  315    0   NA   NA   NA   NA  NA   NA  \n",
       "대구 213  224   94    0   NA   NA   NA  NA   NA  \n",
       "대전 128  130  187  104    0   NA   NA  NA   NA  \n",
       "청주 100  107  208  118   31    0   NA  NA   NA  \n",
       "춘천  91  119  295  202  158  128    0  NA   NA  \n",
       "광주 240  232  177  154  126  156  284   0   NA  \n",
       "전주 173  169  178  118   57   87  215  69    0  "
      ]
     },
     "metadata": {},
     "output_type": "display_data"
    }
   ],
   "source": [
    "df"
   ]
  },
  {
   "cell_type": "code",
   "execution_count": 3,
   "metadata": {
    "vscode": {
     "languageId": "r"
    }
   },
   "outputs": [
    {
     "data": {
      "text/plain": [
       "          서울      인천      부산      대구      대전      청주      춘천\n",
       "인천  84.00000                                                            \n",
       "부산 918.00000 891.22977                                                  \n",
       "대구 639.00000 616.28281 278.02518                                        \n",
       "대전 384.00000 347.92241 550.12180 282.72513                              \n",
       "청주 300.00000 273.58454 622.00643 346.55519  72.38646                    \n",
       "춘천 273.00000 285.63088 717.63361 490.92413 293.08634 266.54174          \n",
       "광주 720.00000 666.67533 357.38215 265.79221 273.06263 325.98236 414.54932\n",
       "전주 519.00000 472.37379 460.50733 240.02344 112.82553 165.76188 336.51236\n",
       "          광주\n",
       "인천          \n",
       "부산          \n",
       "대구          \n",
       "대전          \n",
       "청주          \n",
       "춘천          \n",
       "광주          \n",
       "전주 179.99687"
      ]
     },
     "metadata": {},
     "output_type": "display_data"
    }
   ],
   "source": [
    "dist(df)"
   ]
  },
  {
   "cell_type": "code",
   "execution_count": 4,
   "metadata": {
    "vscode": {
     "languageId": "r"
    }
   },
   "outputs": [],
   "source": [
    "loc <- cmdscale(dist(df)) "
   ]
  },
  {
   "cell_type": "code",
   "execution_count": 5,
   "metadata": {
    "vscode": {
     "languageId": "r"
    }
   },
   "outputs": [
    {
     "data": {
      "text/html": [
       "<table class=\"dataframe\">\n",
       "<caption>A matrix: 9 × 2 of type dbl</caption>\n",
       "<tbody>\n",
       "\t<tr><th scope=row>서울</th><td>-414.18123</td><td> -82.080467</td></tr>\n",
       "\t<tr><th scope=row>인천</th><td>-377.89839</td><td> -45.413363</td></tr>\n",
       "\t<tr><th scope=row>부산</th><td> 508.21710</td><td> -91.725171</td></tr>\n",
       "\t<tr><th scope=row>대구</th><td> 232.70604</td><td>-123.051179</td></tr>\n",
       "\t<tr><th scope=row>대전</th><td> -21.18307</td><td>  -6.358929</td></tr>\n",
       "\t<tr><th scope=row>청주</th><td> -92.65380</td><td>   4.779640</td></tr>\n",
       "\t<tr><th scope=row>춘천</th><td>-177.49726</td><td> 130.441715</td></tr>\n",
       "\t<tr><th scope=row>광주</th><td> 256.04308</td><td> 171.619199</td></tr>\n",
       "\t<tr><th scope=row>전주</th><td>  86.44753</td><td>  41.788556</td></tr>\n",
       "</tbody>\n",
       "</table>\n"
      ],
      "text/latex": [
       "A matrix: 9 × 2 of type dbl\n",
       "\\begin{tabular}{r|ll}\n",
       "\t서울 & -414.18123 &  -82.080467\\\\\n",
       "\t인천 & -377.89839 &  -45.413363\\\\\n",
       "\t부산 &  508.21710 &  -91.725171\\\\\n",
       "\t대구 &  232.70604 & -123.051179\\\\\n",
       "\t대전 &  -21.18307 &   -6.358929\\\\\n",
       "\t청주 &  -92.65380 &    4.779640\\\\\n",
       "\t춘천 & -177.49726 &  130.441715\\\\\n",
       "\t광주 &  256.04308 &  171.619199\\\\\n",
       "\t전주 &   86.44753 &   41.788556\\\\\n",
       "\\end{tabular}\n"
      ],
      "text/markdown": [
       "\n",
       "A matrix: 9 × 2 of type dbl\n",
       "\n",
       "| 서울 | -414.18123 |  -82.080467 |\n",
       "| 인천 | -377.89839 |  -45.413363 |\n",
       "| 부산 |  508.21710 |  -91.725171 |\n",
       "| 대구 |  232.70604 | -123.051179 |\n",
       "| 대전 |  -21.18307 |   -6.358929 |\n",
       "| 청주 |  -92.65380 |    4.779640 |\n",
       "| 춘천 | -177.49726 |  130.441715 |\n",
       "| 광주 |  256.04308 |  171.619199 |\n",
       "| 전주 |   86.44753 |   41.788556 |\n",
       "\n"
      ],
      "text/plain": [
       "     [,1]       [,2]       \n",
       "서울 -414.18123  -82.080467\n",
       "인천 -377.89839  -45.413363\n",
       "부산  508.21710  -91.725171\n",
       "대구  232.70604 -123.051179\n",
       "대전  -21.18307   -6.358929\n",
       "청주  -92.65380    4.779640\n",
       "춘천 -177.49726  130.441715\n",
       "광주  256.04308  171.619199\n",
       "전주   86.44753   41.788556"
      ]
     },
     "metadata": {},
     "output_type": "display_data"
    }
   ],
   "source": [
    "loc"
   ]
  },
  {
   "cell_type": "code",
   "execution_count": 6,
   "metadata": {
    "vscode": {
     "languageId": "r"
    }
   },
   "outputs": [
    {
     "name": "stderr",
     "output_type": "stream",
     "text": [
      "Registering fonts with R\n",
      "\n"
     ]
    }
   ],
   "source": [
    "#!sudo apt install fonts-nanum\n",
    "library(extrafont)\n"
   ]
  },
  {
   "cell_type": "code",
   "execution_count": 7,
   "metadata": {
    "vscode": {
     "languageId": "r"
    }
   },
   "outputs": [
    {
     "name": "stderr",
     "output_type": "stream",
     "text": [
      "Exiting.\n",
      "\n"
     ]
    }
   ],
   "source": [
    "font_import()"
   ]
  },
  {
   "cell_type": "code",
   "execution_count": 8,
   "metadata": {
    "vscode": {
     "languageId": "r"
    }
   },
   "outputs": [
    {
     "data": {
      "text/html": [],
      "text/latex": [],
      "text/markdown": [],
      "text/plain": [
       "<0 x 0 matrix>"
      ]
     },
     "metadata": {},
     "output_type": "display_data"
    }
   ],
   "source": [
    "fonttable()"
   ]
  },
  {
   "cell_type": "code",
   "execution_count": 12,
   "metadata": {
    "vscode": {
     "languageId": "r"
    }
   },
   "outputs": [
    {
     "data": {
      "image/png": "[encoded data removed]",
      "text/plain": [
       "Plot with title “Metric MDS”"
      ]
     },
     "metadata": {
      "image/png": {
       "height": 600,
       "width": 600
      }
     },
     "output_type": "display_data"
    }
   ],
   "source": [
    "options(repr.plot.width=10, repr.plot.height=10)\n",
    "x <- loc[,1]\n",
    "y <- loc[,2]\n",
    "plot(x, y, type = \"n\", asp = 1, main = \"Metric MDS\")   # asp : y/x aspect ratio\n",
    "text(x, y, rownames(loc), cex = 1.5,family = \"NanumGothic\")\n",
    "abline(v = 0, h = 0, lty = 2, lwd = 1)"
   ]
  },
  {
   "cell_type": "code",
   "execution_count": null,
   "metadata": {
    "vscode": {
     "languageId": "r"
    }
   },
   "outputs": [],
   "source": []
  }
 ],
 "metadata": {
  "kernelspec": {
   "display_name": "R",
   "language": "R",
   "name": "ir"
  },
  "language_info": {
   "codemirror_mode": "r",
   "file_extension": ".r",
   "mimetype": "text/x-r-source",
   "name": "R",
   "pygments_lexer": "r",
   "version": "3.6.3"
  },
  "orig_nbformat": 4
 },
 "nbformat": 4,
 "nbformat_minor": 2
}
